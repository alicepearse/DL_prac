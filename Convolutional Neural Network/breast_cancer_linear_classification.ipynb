{
  "nbformat": 4,
  "nbformat_minor": 0,
  "metadata": {
    "colab": {
      "name": "breast_cancer_linear_classification.ipynb",
      "provenance": [],
      "collapsed_sections": [],
      "authorship_tag": "ABX9TyNUw+8X94HNPW77v9nHw45V",
      "include_colab_link": true
    },
    "kernelspec": {
      "name": "python3",
      "display_name": "Python 3"
    }
  },
  "cells": [
    {
      "cell_type": "markdown",
      "metadata": {
        "id": "view-in-github",
        "colab_type": "text"
      },
      "source": [
        "<a href=\"https://colab.research.google.com/github/alicepearse/DL_prac/blob/master/breast_cancer_linear_classification.ipynb\" target=\"_parent\"><img src=\"https://colab.research.google.com/assets/colab-badge.svg\" alt=\"Open In Colab\"/></a>"
      ]
    },
    {
      "cell_type": "code",
      "metadata": {
        "id": "v8PXK1k7tXm6",
        "colab_type": "code",
        "colab": {}
      },
      "source": [
        "import tensorflow as tf"
      ],
      "execution_count": 3,
      "outputs": []
    },
    {
      "cell_type": "code",
      "metadata": {
        "id": "Sydyzmsyr_ox",
        "colab_type": "code",
        "colab": {}
      },
      "source": [
        "from sklearn.datasets import load_breast_cancer"
      ],
      "execution_count": 4,
      "outputs": []
    },
    {
      "cell_type": "code",
      "metadata": {
        "id": "McCFz3swsV5f",
        "colab_type": "code",
        "colab": {}
      },
      "source": [
        "# load in the data and assign it \n",
        "data = load_breast_cancer()"
      ],
      "execution_count": 5,
      "outputs": []
    },
    {
      "cell_type": "code",
      "metadata": {
        "id": "56InbdLnstpg",
        "colab_type": "code",
        "colab": {
          "base_uri": "https://localhost:8080/",
          "height": 34
        },
        "outputId": "1c3ad4f2-0ba1-4c7f-b708-1908b89d465b"
      },
      "source": [
        "# explore data\n",
        "type(data)"
      ],
      "execution_count": 6,
      "outputs": [
        {
          "output_type": "execute_result",
          "data": {
            "text/plain": [
              "sklearn.utils.Bunch"
            ]
          },
          "metadata": {
            "tags": []
          },
          "execution_count": 6
        }
      ]
    },
    {
      "cell_type": "code",
      "metadata": {
        "id": "NsoFBKKas_9f",
        "colab_type": "code",
        "colab": {
          "base_uri": "https://localhost:8080/",
          "height": 34
        },
        "outputId": "a614c67f-5126-463e-8941-572c0dd043a4"
      },
      "source": [
        "data.keys()"
      ],
      "execution_count": 7,
      "outputs": [
        {
          "output_type": "execute_result",
          "data": {
            "text/plain": [
              "dict_keys(['data', 'target', 'target_names', 'DESCR', 'feature_names', 'filename'])"
            ]
          },
          "metadata": {
            "tags": []
          },
          "execution_count": 7
        }
      ]
    },
    {
      "cell_type": "code",
      "metadata": {
        "id": "cHNaLzFLtsgk",
        "colab_type": "code",
        "colab": {
          "base_uri": "https://localhost:8080/",
          "height": 34
        },
        "outputId": "fff4d4fb-81c8-4148-e1e1-2c6aa45ee649"
      },
      "source": [
        "data.data.shape"
      ],
      "execution_count": 8,
      "outputs": [
        {
          "output_type": "execute_result",
          "data": {
            "text/plain": [
              "(569, 30)"
            ]
          },
          "metadata": {
            "tags": []
          },
          "execution_count": 8
        }
      ]
    },
    {
      "cell_type": "code",
      "metadata": {
        "id": "gic5pLDUt2ss",
        "colab_type": "code",
        "colab": {
          "base_uri": "https://localhost:8080/",
          "height": 459
        },
        "outputId": "6a78a657-14dd-4ede-bf19-9b3c843593f6"
      },
      "source": [
        "data.target"
      ],
      "execution_count": 9,
      "outputs": [
        {
          "output_type": "execute_result",
          "data": {
            "text/plain": [
              "array([0, 0, 0, 0, 0, 0, 0, 0, 0, 0, 0, 0, 0, 0, 0, 0, 0, 0, 0, 1, 1, 1,\n",
              "       0, 0, 0, 0, 0, 0, 0, 0, 0, 0, 0, 0, 0, 0, 0, 1, 0, 0, 0, 0, 0, 0,\n",
              "       0, 0, 1, 0, 1, 1, 1, 1, 1, 0, 0, 1, 0, 0, 1, 1, 1, 1, 0, 1, 0, 0,\n",
              "       1, 1, 1, 1, 0, 1, 0, 0, 1, 0, 1, 0, 0, 1, 1, 1, 0, 0, 1, 0, 0, 0,\n",
              "       1, 1, 1, 0, 1, 1, 0, 0, 1, 1, 1, 0, 0, 1, 1, 1, 1, 0, 1, 1, 0, 1,\n",
              "       1, 1, 1, 1, 1, 1, 1, 0, 0, 0, 1, 0, 0, 1, 1, 1, 0, 0, 1, 0, 1, 0,\n",
              "       0, 1, 0, 0, 1, 1, 0, 1, 1, 0, 1, 1, 1, 1, 0, 1, 1, 1, 1, 1, 1, 1,\n",
              "       1, 1, 0, 1, 1, 1, 1, 0, 0, 1, 0, 1, 1, 0, 0, 1, 1, 0, 0, 1, 1, 1,\n",
              "       1, 0, 1, 1, 0, 0, 0, 1, 0, 1, 0, 1, 1, 1, 0, 1, 1, 0, 0, 1, 0, 0,\n",
              "       0, 0, 1, 0, 0, 0, 1, 0, 1, 0, 1, 1, 0, 1, 0, 0, 0, 0, 1, 1, 0, 0,\n",
              "       1, 1, 1, 0, 1, 1, 1, 1, 1, 0, 0, 1, 1, 0, 1, 1, 0, 0, 1, 0, 1, 1,\n",
              "       1, 1, 0, 1, 1, 1, 1, 1, 0, 1, 0, 0, 0, 0, 0, 0, 0, 0, 0, 0, 0, 0,\n",
              "       0, 0, 1, 1, 1, 1, 1, 1, 0, 1, 0, 1, 1, 0, 1, 1, 0, 1, 0, 0, 1, 1,\n",
              "       1, 1, 1, 1, 1, 1, 1, 1, 1, 1, 1, 0, 1, 1, 0, 1, 0, 1, 1, 1, 1, 1,\n",
              "       1, 1, 1, 1, 1, 1, 1, 1, 1, 0, 1, 1, 1, 0, 1, 0, 1, 1, 1, 1, 0, 0,\n",
              "       0, 1, 1, 1, 1, 0, 1, 0, 1, 0, 1, 1, 1, 0, 1, 1, 1, 1, 1, 1, 1, 0,\n",
              "       0, 0, 1, 1, 1, 1, 1, 1, 1, 1, 1, 1, 1, 0, 0, 1, 0, 0, 0, 1, 0, 0,\n",
              "       1, 1, 1, 1, 1, 0, 1, 1, 1, 1, 1, 0, 1, 1, 1, 0, 1, 1, 0, 0, 1, 1,\n",
              "       1, 1, 1, 1, 0, 1, 1, 1, 1, 1, 1, 1, 0, 1, 1, 1, 1, 1, 0, 1, 1, 0,\n",
              "       1, 1, 1, 1, 1, 1, 1, 1, 1, 1, 1, 1, 0, 1, 0, 0, 1, 0, 1, 1, 1, 1,\n",
              "       1, 0, 1, 1, 0, 1, 0, 1, 1, 0, 1, 0, 1, 1, 1, 1, 1, 1, 1, 1, 0, 0,\n",
              "       1, 1, 1, 1, 1, 1, 0, 1, 1, 1, 1, 1, 1, 1, 1, 1, 1, 0, 1, 1, 1, 1,\n",
              "       1, 1, 1, 0, 1, 0, 1, 1, 0, 1, 1, 1, 1, 1, 0, 0, 1, 0, 1, 0, 1, 1,\n",
              "       1, 1, 1, 0, 1, 1, 0, 1, 0, 1, 0, 0, 1, 1, 1, 0, 1, 1, 1, 1, 1, 1,\n",
              "       1, 1, 1, 1, 1, 0, 1, 0, 0, 1, 1, 1, 1, 1, 1, 1, 1, 1, 1, 1, 1, 1,\n",
              "       1, 1, 1, 1, 1, 1, 1, 1, 1, 1, 1, 1, 0, 0, 0, 0, 0, 0, 1])"
            ]
          },
          "metadata": {
            "tags": []
          },
          "execution_count": 9
        }
      ]
    },
    {
      "cell_type": "code",
      "metadata": {
        "id": "8tCwKbkvt8wh",
        "colab_type": "code",
        "colab": {
          "base_uri": "https://localhost:8080/",
          "height": 34
        },
        "outputId": "d5d6ba3a-dc69-4428-ec4b-c0d7aefb4472"
      },
      "source": [
        "data.target.shape"
      ],
      "execution_count": 10,
      "outputs": [
        {
          "output_type": "execute_result",
          "data": {
            "text/plain": [
              "(569,)"
            ]
          },
          "metadata": {
            "tags": []
          },
          "execution_count": 10
        }
      ]
    },
    {
      "cell_type": "code",
      "metadata": {
        "id": "m5JsoB4tuB7s",
        "colab_type": "code",
        "colab": {
          "base_uri": "https://localhost:8080/",
          "height": 34
        },
        "outputId": "3669e56a-c0d9-46ec-c174-0344148694a8"
      },
      "source": [
        "data.target_names"
      ],
      "execution_count": 11,
      "outputs": [
        {
          "output_type": "execute_result",
          "data": {
            "text/plain": [
              "array(['malignant', 'benign'], dtype='<U9')"
            ]
          },
          "metadata": {
            "tags": []
          },
          "execution_count": 11
        }
      ]
    },
    {
      "cell_type": "code",
      "metadata": {
        "id": "ZozD7R3LuHtk",
        "colab_type": "code",
        "colab": {
          "base_uri": "https://localhost:8080/",
          "height": 187
        },
        "outputId": "2b2c0793-417b-4150-b645-95e1ca6b6b72"
      },
      "source": [
        "data.feature_names"
      ],
      "execution_count": 12,
      "outputs": [
        {
          "output_type": "execute_result",
          "data": {
            "text/plain": [
              "array(['mean radius', 'mean texture', 'mean perimeter', 'mean area',\n",
              "       'mean smoothness', 'mean compactness', 'mean concavity',\n",
              "       'mean concave points', 'mean symmetry', 'mean fractal dimension',\n",
              "       'radius error', 'texture error', 'perimeter error', 'area error',\n",
              "       'smoothness error', 'compactness error', 'concavity error',\n",
              "       'concave points error', 'symmetry error',\n",
              "       'fractal dimension error', 'worst radius', 'worst texture',\n",
              "       'worst perimeter', 'worst area', 'worst smoothness',\n",
              "       'worst compactness', 'worst concavity', 'worst concave points',\n",
              "       'worst symmetry', 'worst fractal dimension'], dtype='<U23')"
            ]
          },
          "metadata": {
            "tags": []
          },
          "execution_count": 12
        }
      ]
    },
    {
      "cell_type": "code",
      "metadata": {
        "id": "u88MyZG6uOwG",
        "colab_type": "code",
        "colab": {}
      },
      "source": [
        "from sklearn.model_selection import train_test_split"
      ],
      "execution_count": 13,
      "outputs": []
    },
    {
      "cell_type": "code",
      "metadata": {
        "id": "NkEbyQVRDSw6",
        "colab_type": "code",
        "colab": {}
      },
      "source": [
        "# split the data into train and test sets\n",
        "X_train, X_test, y_train, y_test = train_test_split(data.data, data.target, test_size = 0.33)\n",
        "N, D = X_train.shape"
      ],
      "execution_count": 15,
      "outputs": []
    },
    {
      "cell_type": "code",
      "metadata": {
        "id": "NP6ngpgZH3Pd",
        "colab_type": "code",
        "colab": {}
      },
      "source": [
        "# scale the data\n",
        "from sklearn.preprocessing import StandardScaler"
      ],
      "execution_count": 17,
      "outputs": []
    },
    {
      "cell_type": "code",
      "metadata": {
        "id": "ndkXDl9FI4ht",
        "colab_type": "code",
        "colab": {}
      },
      "source": [
        "scaler = StandardScaler()\n",
        "X_train = scaler.fit_transform(X_train)\n",
        "X_test = scaler.transform(X_test)"
      ],
      "execution_count": 18,
      "outputs": []
    },
    {
      "cell_type": "code",
      "metadata": {
        "id": "vjWd-SM4KlhB",
        "colab_type": "code",
        "colab": {
          "base_uri": "https://localhost:8080/",
          "height": 1000
        },
        "outputId": "93a331c8-e2d5-44f1-9013-6e75d738844a"
      },
      "source": [
        "# Build the model\n",
        "model = tf.keras.models.Sequential([\n",
        "  tf.keras.layers.Input(shape=(D,)),\n",
        "  tf.keras.layers.Dense(1, activation='sigmoid')\n",
        "])\n",
        "\n",
        "model.compile(optimizer = 'adam',\n",
        "              loss = 'binary_crossentropy',\n",
        "              metrics = ['accuracy'])\n",
        "\n",
        "# Train the model\n",
        "r = model.fit(X_train, y_train, validation_data = (X_test, y_test), epochs=100)\n",
        "\n",
        "# Evaluate the model\n",
        "print(\"Train Score:\", model.evaluate(X_train, y_train))\n",
        "print(\"Test Score:\", model.evaluate(X_test, y_test))"
      ],
      "execution_count": 22,
      "outputs": [
        {
          "output_type": "stream",
          "text": [
            "Epoch 1/100\n",
            "12/12 [==============================] - 0s 11ms/step - loss: 0.8991 - accuracy: 0.4908 - val_loss: 0.8973 - val_accuracy: 0.4681\n",
            "Epoch 2/100\n",
            "12/12 [==============================] - 0s 3ms/step - loss: 0.8097 - accuracy: 0.5302 - val_loss: 0.8061 - val_accuracy: 0.4894\n",
            "Epoch 3/100\n",
            "12/12 [==============================] - 0s 3ms/step - loss: 0.7285 - accuracy: 0.5879 - val_loss: 0.7248 - val_accuracy: 0.5585\n",
            "Epoch 4/100\n",
            "12/12 [==============================] - 0s 3ms/step - loss: 0.6584 - accuracy: 0.6457 - val_loss: 0.6523 - val_accuracy: 0.6117\n",
            "Epoch 5/100\n",
            "12/12 [==============================] - 0s 2ms/step - loss: 0.5959 - accuracy: 0.6850 - val_loss: 0.5903 - val_accuracy: 0.6489\n",
            "Epoch 6/100\n",
            "12/12 [==============================] - 0s 3ms/step - loss: 0.5445 - accuracy: 0.7139 - val_loss: 0.5352 - val_accuracy: 0.6915\n",
            "Epoch 7/100\n",
            "12/12 [==============================] - 0s 3ms/step - loss: 0.4982 - accuracy: 0.7480 - val_loss: 0.4892 - val_accuracy: 0.7447\n",
            "Epoch 8/100\n",
            "12/12 [==============================] - 0s 3ms/step - loss: 0.4594 - accuracy: 0.7927 - val_loss: 0.4498 - val_accuracy: 0.7766\n",
            "Epoch 9/100\n",
            "12/12 [==============================] - 0s 3ms/step - loss: 0.4273 - accuracy: 0.8215 - val_loss: 0.4150 - val_accuracy: 0.8138\n",
            "Epoch 10/100\n",
            "12/12 [==============================] - 0s 4ms/step - loss: 0.3982 - accuracy: 0.8294 - val_loss: 0.3859 - val_accuracy: 0.8564\n",
            "Epoch 11/100\n",
            "12/12 [==============================] - 0s 3ms/step - loss: 0.3737 - accuracy: 0.8504 - val_loss: 0.3607 - val_accuracy: 0.8883\n",
            "Epoch 12/100\n",
            "12/12 [==============================] - 0s 3ms/step - loss: 0.3522 - accuracy: 0.8740 - val_loss: 0.3390 - val_accuracy: 0.9043\n",
            "Epoch 13/100\n",
            "12/12 [==============================] - 0s 4ms/step - loss: 0.3343 - accuracy: 0.8793 - val_loss: 0.3196 - val_accuracy: 0.9149\n",
            "Epoch 14/100\n",
            "12/12 [==============================] - 0s 4ms/step - loss: 0.3169 - accuracy: 0.8793 - val_loss: 0.3037 - val_accuracy: 0.9149\n",
            "Epoch 15/100\n",
            "12/12 [==============================] - 0s 3ms/step - loss: 0.3028 - accuracy: 0.8845 - val_loss: 0.2893 - val_accuracy: 0.9202\n",
            "Epoch 16/100\n",
            "12/12 [==============================] - 0s 3ms/step - loss: 0.2904 - accuracy: 0.9003 - val_loss: 0.2762 - val_accuracy: 0.9202\n",
            "Epoch 17/100\n",
            "12/12 [==============================] - 0s 3ms/step - loss: 0.2788 - accuracy: 0.9134 - val_loss: 0.2649 - val_accuracy: 0.9255\n",
            "Epoch 18/100\n",
            "12/12 [==============================] - 0s 3ms/step - loss: 0.2684 - accuracy: 0.9134 - val_loss: 0.2549 - val_accuracy: 0.9255\n",
            "Epoch 19/100\n",
            "12/12 [==============================] - 0s 4ms/step - loss: 0.2593 - accuracy: 0.9160 - val_loss: 0.2459 - val_accuracy: 0.9309\n",
            "Epoch 20/100\n",
            "12/12 [==============================] - 0s 3ms/step - loss: 0.2512 - accuracy: 0.9160 - val_loss: 0.2375 - val_accuracy: 0.9309\n",
            "Epoch 21/100\n",
            "12/12 [==============================] - 0s 4ms/step - loss: 0.2435 - accuracy: 0.9186 - val_loss: 0.2301 - val_accuracy: 0.9362\n",
            "Epoch 22/100\n",
            "12/12 [==============================] - 0s 3ms/step - loss: 0.2366 - accuracy: 0.9291 - val_loss: 0.2235 - val_accuracy: 0.9415\n",
            "Epoch 23/100\n",
            "12/12 [==============================] - 0s 3ms/step - loss: 0.2304 - accuracy: 0.9318 - val_loss: 0.2173 - val_accuracy: 0.9415\n",
            "Epoch 24/100\n",
            "12/12 [==============================] - 0s 4ms/step - loss: 0.2246 - accuracy: 0.9318 - val_loss: 0.2116 - val_accuracy: 0.9415\n",
            "Epoch 25/100\n",
            "12/12 [==============================] - 0s 4ms/step - loss: 0.2195 - accuracy: 0.9318 - val_loss: 0.2062 - val_accuracy: 0.9415\n",
            "Epoch 26/100\n",
            "12/12 [==============================] - 0s 4ms/step - loss: 0.2144 - accuracy: 0.9344 - val_loss: 0.2013 - val_accuracy: 0.9468\n",
            "Epoch 27/100\n",
            "12/12 [==============================] - 0s 3ms/step - loss: 0.2096 - accuracy: 0.9370 - val_loss: 0.1969 - val_accuracy: 0.9521\n",
            "Epoch 28/100\n",
            "12/12 [==============================] - 0s 3ms/step - loss: 0.2055 - accuracy: 0.9370 - val_loss: 0.1926 - val_accuracy: 0.9574\n",
            "Epoch 29/100\n",
            "12/12 [==============================] - 0s 3ms/step - loss: 0.2013 - accuracy: 0.9370 - val_loss: 0.1887 - val_accuracy: 0.9574\n",
            "Epoch 30/100\n",
            "12/12 [==============================] - 0s 4ms/step - loss: 0.1976 - accuracy: 0.9370 - val_loss: 0.1850 - val_accuracy: 0.9574\n",
            "Epoch 31/100\n",
            "12/12 [==============================] - 0s 4ms/step - loss: 0.1940 - accuracy: 0.9396 - val_loss: 0.1816 - val_accuracy: 0.9574\n",
            "Epoch 32/100\n",
            "12/12 [==============================] - 0s 3ms/step - loss: 0.1907 - accuracy: 0.9396 - val_loss: 0.1782 - val_accuracy: 0.9574\n",
            "Epoch 33/100\n",
            "12/12 [==============================] - 0s 3ms/step - loss: 0.1874 - accuracy: 0.9396 - val_loss: 0.1750 - val_accuracy: 0.9574\n",
            "Epoch 34/100\n",
            "12/12 [==============================] - 0s 3ms/step - loss: 0.1845 - accuracy: 0.9396 - val_loss: 0.1721 - val_accuracy: 0.9521\n",
            "Epoch 35/100\n",
            "12/12 [==============================] - 0s 4ms/step - loss: 0.1815 - accuracy: 0.9396 - val_loss: 0.1692 - val_accuracy: 0.9521\n",
            "Epoch 36/100\n",
            "12/12 [==============================] - 0s 3ms/step - loss: 0.1787 - accuracy: 0.9396 - val_loss: 0.1667 - val_accuracy: 0.9521\n",
            "Epoch 37/100\n",
            "12/12 [==============================] - 0s 3ms/step - loss: 0.1761 - accuracy: 0.9396 - val_loss: 0.1642 - val_accuracy: 0.9521\n",
            "Epoch 38/100\n",
            "12/12 [==============================] - 0s 3ms/step - loss: 0.1737 - accuracy: 0.9396 - val_loss: 0.1617 - val_accuracy: 0.9521\n",
            "Epoch 39/100\n",
            "12/12 [==============================] - 0s 3ms/step - loss: 0.1712 - accuracy: 0.9396 - val_loss: 0.1594 - val_accuracy: 0.9521\n",
            "Epoch 40/100\n",
            "12/12 [==============================] - 0s 4ms/step - loss: 0.1689 - accuracy: 0.9396 - val_loss: 0.1572 - val_accuracy: 0.9521\n",
            "Epoch 41/100\n",
            "12/12 [==============================] - 0s 3ms/step - loss: 0.1667 - accuracy: 0.9396 - val_loss: 0.1551 - val_accuracy: 0.9521\n",
            "Epoch 42/100\n",
            "12/12 [==============================] - 0s 4ms/step - loss: 0.1646 - accuracy: 0.9423 - val_loss: 0.1531 - val_accuracy: 0.9521\n",
            "Epoch 43/100\n",
            "12/12 [==============================] - 0s 3ms/step - loss: 0.1626 - accuracy: 0.9423 - val_loss: 0.1510 - val_accuracy: 0.9521\n",
            "Epoch 44/100\n",
            "12/12 [==============================] - 0s 3ms/step - loss: 0.1605 - accuracy: 0.9423 - val_loss: 0.1492 - val_accuracy: 0.9521\n",
            "Epoch 45/100\n",
            "12/12 [==============================] - 0s 3ms/step - loss: 0.1587 - accuracy: 0.9423 - val_loss: 0.1473 - val_accuracy: 0.9521\n",
            "Epoch 46/100\n",
            "12/12 [==============================] - 0s 3ms/step - loss: 0.1568 - accuracy: 0.9423 - val_loss: 0.1457 - val_accuracy: 0.9521\n",
            "Epoch 47/100\n",
            "12/12 [==============================] - 0s 3ms/step - loss: 0.1552 - accuracy: 0.9423 - val_loss: 0.1440 - val_accuracy: 0.9521\n",
            "Epoch 48/100\n",
            "12/12 [==============================] - 0s 4ms/step - loss: 0.1534 - accuracy: 0.9423 - val_loss: 0.1423 - val_accuracy: 0.9521\n",
            "Epoch 49/100\n",
            "12/12 [==============================] - 0s 3ms/step - loss: 0.1517 - accuracy: 0.9423 - val_loss: 0.1408 - val_accuracy: 0.9521\n",
            "Epoch 50/100\n",
            "12/12 [==============================] - 0s 3ms/step - loss: 0.1502 - accuracy: 0.9423 - val_loss: 0.1393 - val_accuracy: 0.9521\n",
            "Epoch 51/100\n",
            "12/12 [==============================] - 0s 4ms/step - loss: 0.1486 - accuracy: 0.9423 - val_loss: 0.1378 - val_accuracy: 0.9521\n",
            "Epoch 52/100\n",
            "12/12 [==============================] - 0s 3ms/step - loss: 0.1471 - accuracy: 0.9449 - val_loss: 0.1363 - val_accuracy: 0.9521\n",
            "Epoch 53/100\n",
            "12/12 [==============================] - 0s 3ms/step - loss: 0.1457 - accuracy: 0.9449 - val_loss: 0.1349 - val_accuracy: 0.9521\n",
            "Epoch 54/100\n",
            "12/12 [==============================] - 0s 3ms/step - loss: 0.1442 - accuracy: 0.9449 - val_loss: 0.1336 - val_accuracy: 0.9521\n",
            "Epoch 55/100\n",
            "12/12 [==============================] - 0s 3ms/step - loss: 0.1429 - accuracy: 0.9475 - val_loss: 0.1323 - val_accuracy: 0.9521\n",
            "Epoch 56/100\n",
            "12/12 [==============================] - 0s 3ms/step - loss: 0.1416 - accuracy: 0.9475 - val_loss: 0.1310 - val_accuracy: 0.9521\n",
            "Epoch 57/100\n",
            "12/12 [==============================] - 0s 3ms/step - loss: 0.1403 - accuracy: 0.9475 - val_loss: 0.1298 - val_accuracy: 0.9521\n",
            "Epoch 58/100\n",
            "12/12 [==============================] - 0s 3ms/step - loss: 0.1391 - accuracy: 0.9475 - val_loss: 0.1286 - val_accuracy: 0.9521\n",
            "Epoch 59/100\n",
            "12/12 [==============================] - 0s 3ms/step - loss: 0.1378 - accuracy: 0.9475 - val_loss: 0.1275 - val_accuracy: 0.9521\n",
            "Epoch 60/100\n",
            "12/12 [==============================] - 0s 4ms/step - loss: 0.1366 - accuracy: 0.9475 - val_loss: 0.1263 - val_accuracy: 0.9521\n",
            "Epoch 61/100\n",
            "12/12 [==============================] - 0s 4ms/step - loss: 0.1354 - accuracy: 0.9475 - val_loss: 0.1252 - val_accuracy: 0.9521\n",
            "Epoch 62/100\n",
            "12/12 [==============================] - 0s 3ms/step - loss: 0.1343 - accuracy: 0.9475 - val_loss: 0.1242 - val_accuracy: 0.9521\n",
            "Epoch 63/100\n",
            "12/12 [==============================] - 0s 4ms/step - loss: 0.1332 - accuracy: 0.9475 - val_loss: 0.1231 - val_accuracy: 0.9521\n",
            "Epoch 64/100\n",
            "12/12 [==============================] - 0s 4ms/step - loss: 0.1322 - accuracy: 0.9475 - val_loss: 0.1221 - val_accuracy: 0.9521\n",
            "Epoch 65/100\n",
            "12/12 [==============================] - 0s 3ms/step - loss: 0.1311 - accuracy: 0.9501 - val_loss: 0.1211 - val_accuracy: 0.9521\n",
            "Epoch 66/100\n",
            "12/12 [==============================] - 0s 3ms/step - loss: 0.1301 - accuracy: 0.9528 - val_loss: 0.1201 - val_accuracy: 0.9521\n",
            "Epoch 67/100\n",
            "12/12 [==============================] - 0s 3ms/step - loss: 0.1291 - accuracy: 0.9528 - val_loss: 0.1192 - val_accuracy: 0.9521\n",
            "Epoch 68/100\n",
            "12/12 [==============================] - 0s 3ms/step - loss: 0.1282 - accuracy: 0.9528 - val_loss: 0.1182 - val_accuracy: 0.9521\n",
            "Epoch 69/100\n",
            "12/12 [==============================] - 0s 3ms/step - loss: 0.1272 - accuracy: 0.9554 - val_loss: 0.1173 - val_accuracy: 0.9521\n",
            "Epoch 70/100\n",
            "12/12 [==============================] - 0s 3ms/step - loss: 0.1263 - accuracy: 0.9554 - val_loss: 0.1165 - val_accuracy: 0.9521\n",
            "Epoch 71/100\n",
            "12/12 [==============================] - 0s 3ms/step - loss: 0.1254 - accuracy: 0.9554 - val_loss: 0.1156 - val_accuracy: 0.9521\n",
            "Epoch 72/100\n",
            "12/12 [==============================] - 0s 4ms/step - loss: 0.1245 - accuracy: 0.9554 - val_loss: 0.1147 - val_accuracy: 0.9521\n",
            "Epoch 73/100\n",
            "12/12 [==============================] - 0s 3ms/step - loss: 0.1236 - accuracy: 0.9554 - val_loss: 0.1139 - val_accuracy: 0.9521\n",
            "Epoch 74/100\n",
            "12/12 [==============================] - 0s 3ms/step - loss: 0.1228 - accuracy: 0.9580 - val_loss: 0.1131 - val_accuracy: 0.9521\n",
            "Epoch 75/100\n",
            "12/12 [==============================] - 0s 3ms/step - loss: 0.1219 - accuracy: 0.9606 - val_loss: 0.1123 - val_accuracy: 0.9521\n",
            "Epoch 76/100\n",
            "12/12 [==============================] - 0s 3ms/step - loss: 0.1212 - accuracy: 0.9606 - val_loss: 0.1116 - val_accuracy: 0.9521\n",
            "Epoch 77/100\n",
            "12/12 [==============================] - 0s 3ms/step - loss: 0.1204 - accuracy: 0.9606 - val_loss: 0.1108 - val_accuracy: 0.9521\n",
            "Epoch 78/100\n",
            "12/12 [==============================] - 0s 3ms/step - loss: 0.1196 - accuracy: 0.9606 - val_loss: 0.1101 - val_accuracy: 0.9521\n",
            "Epoch 79/100\n",
            "12/12 [==============================] - 0s 3ms/step - loss: 0.1189 - accuracy: 0.9606 - val_loss: 0.1093 - val_accuracy: 0.9521\n",
            "Epoch 80/100\n",
            "12/12 [==============================] - 0s 3ms/step - loss: 0.1181 - accuracy: 0.9633 - val_loss: 0.1086 - val_accuracy: 0.9521\n",
            "Epoch 81/100\n",
            "12/12 [==============================] - 0s 3ms/step - loss: 0.1173 - accuracy: 0.9633 - val_loss: 0.1079 - val_accuracy: 0.9521\n",
            "Epoch 82/100\n",
            "12/12 [==============================] - 0s 3ms/step - loss: 0.1166 - accuracy: 0.9633 - val_loss: 0.1073 - val_accuracy: 0.9521\n",
            "Epoch 83/100\n",
            "12/12 [==============================] - 0s 3ms/step - loss: 0.1160 - accuracy: 0.9633 - val_loss: 0.1066 - val_accuracy: 0.9521\n",
            "Epoch 84/100\n",
            "12/12 [==============================] - 0s 3ms/step - loss: 0.1153 - accuracy: 0.9633 - val_loss: 0.1059 - val_accuracy: 0.9574\n",
            "Epoch 85/100\n",
            "12/12 [==============================] - 0s 4ms/step - loss: 0.1146 - accuracy: 0.9633 - val_loss: 0.1053 - val_accuracy: 0.9574\n",
            "Epoch 86/100\n",
            "12/12 [==============================] - 0s 3ms/step - loss: 0.1140 - accuracy: 0.9633 - val_loss: 0.1046 - val_accuracy: 0.9574\n",
            "Epoch 87/100\n",
            "12/12 [==============================] - 0s 3ms/step - loss: 0.1133 - accuracy: 0.9633 - val_loss: 0.1040 - val_accuracy: 0.9574\n",
            "Epoch 88/100\n",
            "12/12 [==============================] - 0s 3ms/step - loss: 0.1127 - accuracy: 0.9633 - val_loss: 0.1034 - val_accuracy: 0.9574\n",
            "Epoch 89/100\n",
            "12/12 [==============================] - 0s 3ms/step - loss: 0.1121 - accuracy: 0.9659 - val_loss: 0.1028 - val_accuracy: 0.9574\n",
            "Epoch 90/100\n",
            "12/12 [==============================] - 0s 3ms/step - loss: 0.1114 - accuracy: 0.9659 - val_loss: 0.1022 - val_accuracy: 0.9574\n",
            "Epoch 91/100\n",
            "12/12 [==============================] - 0s 4ms/step - loss: 0.1108 - accuracy: 0.9659 - val_loss: 0.1016 - val_accuracy: 0.9574\n",
            "Epoch 92/100\n",
            "12/12 [==============================] - 0s 3ms/step - loss: 0.1103 - accuracy: 0.9685 - val_loss: 0.1011 - val_accuracy: 0.9574\n",
            "Epoch 93/100\n",
            "12/12 [==============================] - 0s 3ms/step - loss: 0.1097 - accuracy: 0.9685 - val_loss: 0.1005 - val_accuracy: 0.9574\n",
            "Epoch 94/100\n",
            "12/12 [==============================] - 0s 4ms/step - loss: 0.1091 - accuracy: 0.9685 - val_loss: 0.0999 - val_accuracy: 0.9574\n",
            "Epoch 95/100\n",
            "12/12 [==============================] - 0s 3ms/step - loss: 0.1086 - accuracy: 0.9685 - val_loss: 0.0994 - val_accuracy: 0.9574\n",
            "Epoch 96/100\n",
            "12/12 [==============================] - 0s 3ms/step - loss: 0.1080 - accuracy: 0.9685 - val_loss: 0.0989 - val_accuracy: 0.9574\n",
            "Epoch 97/100\n",
            "12/12 [==============================] - 0s 3ms/step - loss: 0.1075 - accuracy: 0.9685 - val_loss: 0.0983 - val_accuracy: 0.9574\n",
            "Epoch 98/100\n",
            "12/12 [==============================] - 0s 4ms/step - loss: 0.1070 - accuracy: 0.9711 - val_loss: 0.0978 - val_accuracy: 0.9574\n",
            "Epoch 99/100\n",
            "12/12 [==============================] - 0s 3ms/step - loss: 0.1064 - accuracy: 0.9711 - val_loss: 0.0973 - val_accuracy: 0.9628\n",
            "Epoch 100/100\n",
            "12/12 [==============================] - 0s 3ms/step - loss: 0.1059 - accuracy: 0.9711 - val_loss: 0.0969 - val_accuracy: 0.9628\n",
            "12/12 [==============================] - 0s 1ms/step - loss: 0.1057 - accuracy: 0.9711\n",
            "Train Score: [0.10565053671598434, 0.9711285829544067]\n",
            "6/6 [==============================] - 0s 2ms/step - loss: 0.0969 - accuracy: 0.9628\n",
            "Test Score: [0.09686853736639023, 0.9627659320831299]\n"
          ],
          "name": "stdout"
        }
      ]
    },
    {
      "cell_type": "code",
      "metadata": {
        "id": "fMRcYfnaN708",
        "colab_type": "code",
        "colab": {}
      },
      "source": [
        "# plot results\n",
        "import matplotlib.pyplot as plt\n",
        "% matplotlib inline"
      ],
      "execution_count": 23,
      "outputs": []
    },
    {
      "cell_type": "code",
      "metadata": {
        "id": "pcuDqNOvOymz",
        "colab_type": "code",
        "colab": {
          "base_uri": "https://localhost:8080/",
          "height": 282
        },
        "outputId": "4b0f46b4-1063-456b-f0eb-0a187af2bea6"
      },
      "source": [
        "plt.plot(r.history['loss'], label = 'loss')\n",
        "plt.plot(r.history['val_loss'], label = 'val_loss')\n",
        "plt.legend()"
      ],
      "execution_count": 24,
      "outputs": [
        {
          "output_type": "execute_result",
          "data": {
            "text/plain": [
              "<matplotlib.legend.Legend at 0x7fbb2f6623c8>"
            ]
          },
          "metadata": {
            "tags": []
          },
          "execution_count": 24
        },
        {
          "output_type": "display_data",
          "data": {
            "image/png": "[encoded data removed]",
            "text/plain": [
              "<Figure size 432x288 with 1 Axes>"
            ]
          },
          "metadata": {
            "tags": [],
            "needs_background": "light"
          }
        }
      ]
    },
    {
      "cell_type": "code",
      "metadata": {
        "id": "c5qTJ-4FP2XR",
        "colab_type": "code",
        "colab": {
          "base_uri": "https://localhost:8080/",
          "height": 282
        },
        "outputId": "f82c2bd1-d049-4b63-9a5a-4ed81eeedd2d"
      },
      "source": [
        "# Plot accuracy\n",
        "plt.plot(r.history['accuracy'], label = 'acc')\n",
        "plt.plot(r.history['val_accuracy'], label = 'val_acc')\n",
        "plt.legend()"
      ],
      "execution_count": 25,
      "outputs": [
        {
          "output_type": "execute_result",
          "data": {
            "text/plain": [
              "<matplotlib.legend.Legend at 0x7fbb39c1cdd8>"
            ]
          },
          "metadata": {
            "tags": []
          },
          "execution_count": 25
        },
        {
          "output_type": "display_data",
          "data": {
            "image/png": "[encoded data removed]",
            "text/plain": [
              "<Figure size 432x288 with 1 Axes>"
            ]
          },
          "metadata": {
            "tags": [],
            "needs_background": "light"
          }
        }
      ]
    },
    {
      "cell_type": "code",
      "metadata": {
        "id": "v9TcYXzsQ0om",
        "colab_type": "code",
        "colab": {
          "base_uri": "https://localhost:8080/",
          "height": 1000
        },
        "outputId": "008d3d5f-bd93-485b-8b06-d7c2232a025d"
      },
      "source": [
        "# make predictions\n",
        "P = model.predict(X_test)\n",
        "print(P)"
      ],
      "execution_count": 26,
      "outputs": [
        {
          "output_type": "stream",
          "text": [
            "[[9.9750268e-01]\n",
            " [9.6514785e-01]\n",
            " [9.4499469e-01]\n",
            " [6.7860872e-01]\n",
            " [9.5413196e-01]\n",
            " [9.8927647e-01]\n",
            " [2.3911930e-14]\n",
            " [9.5278788e-01]\n",
            " [9.8021197e-01]\n",
            " [1.0738295e-05]\n",
            " [6.3805281e-05]\n",
            " [2.0458043e-02]\n",
            " [9.9786144e-01]\n",
            " [9.9138319e-01]\n",
            " [9.9358106e-01]\n",
            " [1.8729568e-03]\n",
            " [9.6641016e-01]\n",
            " [3.5935640e-04]\n",
            " [9.9449635e-01]\n",
            " [7.9846990e-01]\n",
            " [9.9808526e-01]\n",
            " [1.2380302e-02]\n",
            " [9.8503840e-01]\n",
            " [9.8927039e-01]\n",
            " [5.7909042e-01]\n",
            " [2.3578474e-01]\n",
            " [9.9687874e-01]\n",
            " [9.5002854e-01]\n",
            " [9.9332118e-01]\n",
            " [9.7411060e-01]\n",
            " [6.8352848e-02]\n",
            " [9.1249931e-01]\n",
            " [9.9514776e-01]\n",
            " [9.7596681e-01]\n",
            " [8.0251694e-04]\n",
            " [4.9400333e-01]\n",
            " [9.9864864e-01]\n",
            " [9.9778086e-01]\n",
            " [9.8183012e-01]\n",
            " [9.7691762e-01]\n",
            " [2.9047132e-03]\n",
            " [3.3448014e-05]\n",
            " [3.3428992e-06]\n",
            " [6.0267492e-05]\n",
            " [2.9402375e-03]\n",
            " [6.7093170e-01]\n",
            " [9.5954061e-01]\n",
            " [9.1163933e-01]\n",
            " [2.9252470e-03]\n",
            " [9.1934693e-01]\n",
            " [8.9505029e-01]\n",
            " [9.2177451e-01]\n",
            " [9.9564052e-01]\n",
            " [9.9544132e-01]\n",
            " [2.6112795e-04]\n",
            " [1.3463825e-02]\n",
            " [9.5837843e-01]\n",
            " [2.6987386e-01]\n",
            " [9.3986356e-01]\n",
            " [4.5699149e-02]\n",
            " [8.3723837e-01]\n",
            " [9.6037489e-01]\n",
            " [8.6890101e-01]\n",
            " [9.8295021e-01]\n",
            " [7.5723743e-01]\n",
            " [2.8401610e-07]\n",
            " [7.0845652e-01]\n",
            " [9.7956282e-01]\n",
            " [9.9585676e-01]\n",
            " [7.8756583e-01]\n",
            " [3.5884976e-04]\n",
            " [9.8128521e-01]\n",
            " [9.9489796e-01]\n",
            " [1.3933450e-02]\n",
            " [3.8091636e-01]\n",
            " [1.3119608e-01]\n",
            " [1.2771867e-05]\n",
            " [4.5283055e-01]\n",
            " [8.3907259e-01]\n",
            " [9.7367299e-01]\n",
            " [9.9579579e-01]\n",
            " [3.7209873e-07]\n",
            " [9.9143887e-01]\n",
            " [1.2534857e-04]\n",
            " [9.9192148e-01]\n",
            " [9.9503541e-01]\n",
            " [1.0454610e-01]\n",
            " [9.9509257e-01]\n",
            " [9.9090856e-01]\n",
            " [9.3325502e-01]\n",
            " [1.4055044e-07]\n",
            " [9.3542027e-01]\n",
            " [3.4282207e-03]\n",
            " [3.0052662e-04]\n",
            " [9.5955008e-01]\n",
            " [9.0668988e-01]\n",
            " [7.6690316e-04]\n",
            " [9.6661007e-01]\n",
            " [9.9776357e-01]\n",
            " [6.4489461e-05]\n",
            " [1.2145290e-01]\n",
            " [1.3515872e-01]\n",
            " [9.9466181e-01]\n",
            " [8.6169410e-01]\n",
            " [8.9267659e-01]\n",
            " [9.9633503e-01]\n",
            " [9.8837495e-01]\n",
            " [3.7143850e-01]\n",
            " [6.2186730e-01]\n",
            " [6.1654520e-01]\n",
            " [9.8859358e-01]\n",
            " [9.8453057e-01]\n",
            " [4.5188153e-01]\n",
            " [3.6817193e-03]\n",
            " [5.1943153e-02]\n",
            " [9.9154925e-01]\n",
            " [1.5170872e-03]\n",
            " [2.1004677e-04]\n",
            " [9.8368490e-01]\n",
            " [9.9778128e-01]\n",
            " [9.5269704e-01]\n",
            " [9.7821796e-01]\n",
            " [9.9941683e-01]\n",
            " [9.9810088e-01]\n",
            " [9.8081154e-01]\n",
            " [7.4000567e-02]\n",
            " [7.7702719e-01]\n",
            " [2.3378906e-01]\n",
            " [6.6120952e-02]\n",
            " [9.9900281e-01]\n",
            " [6.7188471e-06]\n",
            " [9.4322824e-01]\n",
            " [5.4196161e-01]\n",
            " [7.4200118e-01]\n",
            " [9.9824131e-01]\n",
            " [3.0183792e-03]\n",
            " [9.7384953e-01]\n",
            " [9.8812824e-01]\n",
            " [9.0097916e-01]\n",
            " [8.8513243e-01]\n",
            " [1.7383817e-01]\n",
            " [6.6175365e-01]\n",
            " [9.9967647e-01]\n",
            " [1.8805265e-04]\n",
            " [9.9346340e-01]\n",
            " [9.9646187e-01]\n",
            " [9.8872566e-01]\n",
            " [9.9921274e-01]\n",
            " [9.9704599e-01]\n",
            " [7.8694522e-03]\n",
            " [9.8206985e-01]\n",
            " [7.4808210e-01]\n",
            " [3.4025311e-04]\n",
            " [6.3083977e-02]\n",
            " [9.5007312e-01]\n",
            " [9.8265636e-01]\n",
            " [6.9083869e-03]\n",
            " [2.2585607e-01]\n",
            " [5.4120493e-01]\n",
            " [9.9631703e-01]\n",
            " [9.9664283e-01]\n",
            " [9.8862910e-01]\n",
            " [9.9533379e-01]\n",
            " [9.9613070e-01]\n",
            " [9.7782409e-01]\n",
            " [1.7946565e-01]\n",
            " [6.8224788e-02]\n",
            " [9.8559570e-01]\n",
            " [4.8306524e-06]\n",
            " [9.9864244e-01]\n",
            " [9.8097920e-01]\n",
            " [9.8121309e-01]\n",
            " [4.2992830e-04]\n",
            " [2.1097869e-02]\n",
            " [3.2773018e-03]\n",
            " [9.7245365e-01]\n",
            " [9.7311401e-01]\n",
            " [9.5234311e-01]\n",
            " [9.7051519e-01]\n",
            " [6.5850377e-02]\n",
            " [9.5868695e-01]\n",
            " [9.8576772e-01]\n",
            " [2.0214278e-01]\n",
            " [4.0836334e-03]\n",
            " [9.2610943e-01]\n",
            " [4.6347499e-02]\n",
            " [9.9408770e-01]\n",
            " [4.4970512e-03]]\n"
          ],
          "name": "stdout"
        }
      ]
    },
    {
      "cell_type": "code",
      "metadata": {
        "id": "mQs1GDabR4sE",
        "colab_type": "code",
        "colab": {
          "base_uri": "https://localhost:8080/",
          "height": 153
        },
        "outputId": "a7cf49a0-5d7b-4574-f68c-836e35fde7ac"
      },
      "source": [
        "# round and flatten to size (N,) instead of (N, 1)\n",
        "import numpy as np\n",
        "P = np.round(P).flatten()\n",
        "print(P)"
      ],
      "execution_count": 27,
      "outputs": [
        {
          "output_type": "stream",
          "text": [
            "[1. 1. 1. 1. 1. 1. 0. 1. 1. 0. 0. 0. 1. 1. 1. 0. 1. 0. 1. 1. 1. 0. 1. 1.\n",
            " 1. 0. 1. 1. 1. 1. 0. 1. 1. 1. 0. 0. 1. 1. 1. 1. 0. 0. 0. 0. 0. 1. 1. 1.\n",
            " 0. 1. 1. 1. 1. 1. 0. 0. 1. 0. 1. 0. 1. 1. 1. 1. 1. 0. 1. 1. 1. 1. 0. 1.\n",
            " 1. 0. 0. 0. 0. 0. 1. 1. 1. 0. 1. 0. 1. 1. 0. 1. 1. 1. 0. 1. 0. 0. 1. 1.\n",
            " 0. 1. 1. 0. 0. 0. 1. 1. 1. 1. 1. 0. 1. 1. 1. 1. 0. 0. 0. 1. 0. 0. 1. 1.\n",
            " 1. 1. 1. 1. 1. 0. 1. 0. 0. 1. 0. 1. 1. 1. 1. 0. 1. 1. 1. 1. 0. 1. 1. 0.\n",
            " 1. 1. 1. 1. 1. 0. 1. 1. 0. 0. 1. 1. 0. 0. 1. 1. 1. 1. 1. 1. 1. 0. 0. 1.\n",
            " 0. 1. 1. 1. 0. 0. 0. 1. 1. 1. 1. 0. 1. 1. 0. 0. 1. 0. 1. 0.]\n"
          ],
          "name": "stdout"
        }
      ]
    },
    {
      "cell_type": "code",
      "metadata": {
        "id": "d89UlYTZTVYi",
        "colab_type": "code",
        "colab": {
          "base_uri": "https://localhost:8080/",
          "height": 68
        },
        "outputId": "bbd57a81-683d-4601-f379-6ffc7e9ddf3a"
      },
      "source": [
        "# calculate the accuracy and compare it to evaluate() output\n",
        "print(\"Manually calculated accuracy:\", np.mean(P == y_test))\n",
        "print(\"Evaluate output:\", model.evaluate(X_test, y_test))"
      ],
      "execution_count": 28,
      "outputs": [
        {
          "output_type": "stream",
          "text": [
            "Manually calculated accuracy: 0.9627659574468085\n",
            "6/6 [==============================] - 0s 2ms/step - loss: 0.0969 - accuracy: 0.9628\n",
            "Evaluate output: [0.09686853736639023, 0.9627659320831299]\n"
          ],
          "name": "stdout"
        }
      ]
    },
    {
      "cell_type": "code",
      "metadata": {
        "id": "cpn7Kg2MUpSX",
        "colab_type": "code",
        "colab": {}
      },
      "source": [
        "# Save Model\n",
        "model.save('linearclassifier.h5')"
      ],
      "execution_count": 29,
      "outputs": []
    },
    {
      "cell_type": "code",
      "metadata": {
        "id": "x_iV7jM_VEXM",
        "colab_type": "code",
        "colab": {
          "base_uri": "https://localhost:8080/",
          "height": 68
        },
        "outputId": "50868c74-da6f-4b53-e95a-09a3c8a4a776"
      },
      "source": [
        "# Check model exists\n",
        "!ls -lh"
      ],
      "execution_count": 30,
      "outputs": [
        {
          "output_type": "stream",
          "text": [
            "total 24K\n",
            "-rw-r--r-- 1 root root  19K Aug 18 11:28 linearclassifier.h5\n",
            "drwxr-xr-x 1 root root 4.0K Jul 30 16:30 sample_data\n"
          ],
          "name": "stdout"
        }
      ]
    },
    {
      "cell_type": "code",
      "metadata": {
        "id": "ZsO7Rs2mVOmL",
        "colab_type": "code",
        "colab": {
          "base_uri": "https://localhost:8080/",
          "height": 68
        },
        "outputId": "a7cd76c9-97f4-41b1-ce3f-a74a382be719"
      },
      "source": [
        "# load the model\n",
        "model = tf.keras.models.load_model('linearclassifier.h5')\n",
        "print(model.layers)\n",
        "model.evaluate(X_test, y_test)"
      ],
      "execution_count": 31,
      "outputs": [
        {
          "output_type": "stream",
          "text": [
            "[<tensorflow.python.keras.layers.core.Dense object at 0x7fbb32dcfa58>]\n",
            "6/6 [==============================] - 0s 2ms/step - loss: 0.0969 - accuracy: 0.9628\n"
          ],
          "name": "stdout"
        },
        {
          "output_type": "execute_result",
          "data": {
            "text/plain": [
              "[0.09686853736639023, 0.9627659320831299]"
            ]
          },
          "metadata": {
            "tags": []
          },
          "execution_count": 31
        }
      ]
    },
    {
      "cell_type": "code",
      "metadata": {
        "id": "qvrk9mWaWYWr",
        "colab_type": "code",
        "colab": {}
      },
      "source": [
        ""
      ],
      "execution_count": null,
      "outputs": []
    }
  ]
}