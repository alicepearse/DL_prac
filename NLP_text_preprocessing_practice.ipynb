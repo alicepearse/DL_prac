{
  "nbformat": 4,
  "nbformat_minor": 0,
  "metadata": {
    "colab": {
      "name": "NLP_text_preprocessing_practice.ipynb",
      "provenance": [],
      "authorship_tag": "ABX9TyNOxX53fT/KvzIs7QUsI8IO",
      "include_colab_link": true
    },
    "kernelspec": {
      "name": "python3",
      "display_name": "Python 3"
    }
  },
  "cells": [
    {
      "cell_type": "markdown",
      "metadata": {
        "id": "view-in-github",
        "colab_type": "text"
      },
      "source": [
        "<a href=\"https://colab.research.google.com/github/alicepearse/DL_prac/blob/master/NLP_text_preprocessing_practice.ipynb\" target=\"_parent\"><img src=\"https://colab.research.google.com/assets/colab-badge.svg\" alt=\"Open In Colab\"/></a>"
      ]
    },
    {
      "cell_type": "code",
      "metadata": {
        "id": "uCnI4xlEl_4b",
        "colab_type": "code",
        "colab": {}
      },
      "source": [
        "import tensorflow as tf\n",
        "import numpy as np\n",
        "import matplotlib.pyplot as plt\n",
        "%matplotlib inline\n",
        "\n",
        "from tensorflow.keras.preprocessing.text import Tokenizer\n",
        "from tensorflow.keras.preprocessing.sequence import pad_sequences"
      ],
      "execution_count": 3,
      "outputs": []
    },
    {
      "cell_type": "code",
      "metadata": {
        "id": "0x4Ktb0k932_",
        "colab_type": "code",
        "colab": {}
      },
      "source": [
        "sentences = [\n",
        "             \"I like cherry pie\",\n",
        "             \"I love coffee and cookies\",\n",
        "             \"I hate onions\"\n",
        "]"
      ],
      "execution_count": 21,
      "outputs": []
    },
    {
      "cell_type": "code",
      "metadata": {
        "id": "05bKjsk15hit",
        "colab_type": "code",
        "colab": {}
      },
      "source": [
        "# dataset = long sequence of words\n",
        "# current_idx = 1\n",
        "# word2idx = {}\n",
        "# for word in dataset:\n",
        "#   if word not in word2idx:\n",
        "#     word2idx[word] = current_idx\n",
        "#     current_idx += 1"
      ],
      "execution_count": 22,
      "outputs": []
    },
    {
      "cell_type": "code",
      "metadata": {
        "id": "FxowoVWu6J2C",
        "colab_type": "code",
        "colab": {}
      },
      "source": [
        "MAX_VOCAB_SIZE = 20000\n",
        "tokenizer = Tokenizer(num_words=MAX_VOCAB_SIZE)\n",
        "tokenizer.fit_on_texts(sentences)\n",
        "sequences = tokenizer.texts_to_sequences(sentences)"
      ],
      "execution_count": 23,
      "outputs": []
    },
    {
      "cell_type": "code",
      "metadata": {
        "id": "MqOtZt7_-jJg",
        "colab_type": "code",
        "colab": {
          "base_uri": "https://localhost:8080/",
          "height": 34
        },
        "outputId": "579cfe11-35c1-4540-c7e3-882b94af244f"
      },
      "source": [
        "print(sequences)"
      ],
      "execution_count": 24,
      "outputs": [
        {
          "output_type": "stream",
          "text": [
            "[[1, 2, 3, 4], [1, 5, 6, 7, 8], [1, 9, 10]]\n"
          ],
          "name": "stdout"
        }
      ]
    },
    {
      "cell_type": "code",
      "metadata": {
        "id": "fngZd9CZ_fIP",
        "colab_type": "code",
        "colab": {
          "base_uri": "https://localhost:8080/",
          "height": 187
        },
        "outputId": "52f2f083-9a1c-421e-fcaf-cd84235b04ae"
      },
      "source": [
        "tokenizer.word_index"
      ],
      "execution_count": 25,
      "outputs": [
        {
          "output_type": "execute_result",
          "data": {
            "text/plain": [
              "{'and': 7,\n",
              " 'cherry': 3,\n",
              " 'coffee': 6,\n",
              " 'cookies': 8,\n",
              " 'hate': 9,\n",
              " 'i': 1,\n",
              " 'like': 2,\n",
              " 'love': 5,\n",
              " 'onions': 10,\n",
              " 'pie': 4}"
            ]
          },
          "metadata": {
            "tags": []
          },
          "execution_count": 25
        }
      ]
    },
    {
      "cell_type": "code",
      "metadata": {
        "id": "b6peTy6__nLY",
        "colab_type": "code",
        "colab": {}
      },
      "source": [
        ""
      ],
      "execution_count": null,
      "outputs": []
    },
    {
      "cell_type": "code",
      "metadata": {
        "id": "zDw5bOpn8Awe",
        "colab_type": "code",
        "colab": {}
      },
      "source": [
        "MAXLEN = 5\n",
        "data = pad_sequences(\n",
        "    sequences,\n",
        "    maxlen=MAXLEN,\n",
        "    padding='post'\n",
        ")"
      ],
      "execution_count": 27,
      "outputs": []
    },
    {
      "cell_type": "code",
      "metadata": {
        "id": "lyVcpEyL_yar",
        "colab_type": "code",
        "colab": {
          "base_uri": "https://localhost:8080/",
          "height": 68
        },
        "outputId": "b8a25ace-178e-4c54-8589-51c5da743b70"
      },
      "source": [
        "print(data)"
      ],
      "execution_count": 28,
      "outputs": [
        {
          "output_type": "stream",
          "text": [
            "[[ 1  2  3  4  0]\n",
            " [ 1  5  6  7  8]\n",
            " [ 1  9 10  0  0]]\n"
          ],
          "name": "stdout"
        }
      ]
    },
    {
      "cell_type": "code",
      "metadata": {
        "id": "YlQv4V4C_-TV",
        "colab_type": "code",
        "colab": {}
      },
      "source": [
        ""
      ],
      "execution_count": null,
      "outputs": []
    }
  ]
}