{
  "nbformat": 4,
  "nbformat_minor": 0,
  "metadata": {
    "colab": {
      "name": "Pytorch_practise_RNN_shapes.ipynb",
      "provenance": [],
      "collapsed_sections": [],
      "authorship_tag": "ABX9TyPUCf7rgyAaes73pi6YDVJa",
      "include_colab_link": true
    },
    "kernelspec": {
      "name": "python3",
      "display_name": "Python 3"
    }
  },
  "cells": [
    {
      "cell_type": "markdown",
      "metadata": {
        "id": "view-in-github",
        "colab_type": "text"
      },
      "source": [
        "<a href=\"https://colab.research.google.com/github/alicepearse/DL_prac/blob/master/Pytorch_practise_RNN_shapes.ipynb\" target=\"_parent\"><img src=\"https://colab.research.google.com/assets/colab-badge.svg\" alt=\"Open In Colab\"/></a>"
      ]
    },
    {
      "cell_type": "code",
      "metadata": {
        "id": "mswx5lGp7kV0",
        "colab_type": "code",
        "colab": {}
      },
      "source": [
        "import torch \n",
        "import torch.nn as nn\n",
        "import numpy as np\n",
        "import matplotlib.pyplot as plt"
      ],
      "execution_count": 31,
      "outputs": []
    },
    {
      "cell_type": "code",
      "metadata": {
        "id": "Ycgl23ob8E_E",
        "colab_type": "code",
        "colab": {}
      },
      "source": [
        "# Make some data\n",
        "N = 1\n",
        "T = 10\n",
        "D = 3\n",
        "M = 5\n",
        "K = 2\n",
        "X = np.random.randn(N, T, D)"
      ],
      "execution_count": 32,
      "outputs": []
    },
    {
      "cell_type": "code",
      "metadata": {
        "id": "T5zBCgs-8dEs",
        "colab_type": "code",
        "colab": {}
      },
      "source": [
        "# Make RNN\n",
        "class SimpleRNN(nn.Module):\n",
        "  def __init__(self, n_inputs, n_hidden, n_outputs):\n",
        "    super(SimpleRNN, self).__init__()\n",
        "    self.D = n_inputs\n",
        "    self.M = n_hidden\n",
        "    self.K = n_outputs\n",
        "    self.rnn = nn.RNN(\n",
        "        input_size = self.D,\n",
        "        hidden_size = self.M,\n",
        "        nonlinearity ='tanh',\n",
        "        batch_first=True)\n",
        "    self.fc = nn.Linear(self.M, self.K)\n",
        "\n",
        "  def forward(self, X):\n",
        "    h0 = torch.zeros(1, X.size(0), self.M)\n",
        "\n",
        "    out, _ = self.rnn(X, h0)\n",
        "\n",
        "    out = self.fc(out)\n",
        "    return out"
      ],
      "execution_count": 33,
      "outputs": []
    },
    {
      "cell_type": "code",
      "metadata": {
        "id": "u-AU3RMb_ir5",
        "colab_type": "code",
        "colab": {}
      },
      "source": [
        "# Instantiate the model\n",
        "model = SimpleRNN(n_inputs=D, n_hidden=M, n_outputs=K)"
      ],
      "execution_count": 34,
      "outputs": []
    },
    {
      "cell_type": "code",
      "metadata": {
        "id": "dSBVtkWpmr1N",
        "colab_type": "code",
        "colab": {
          "base_uri": "https://localhost:8080/",
          "height": 187
        },
        "outputId": "54003161-bace-49a1-d39b-9ca78683b607"
      },
      "source": [
        "# Get the output\n",
        "inputs = torch.from_numpy(X.astype(np.float32))\n",
        "out = model(inputs)\n",
        "out"
      ],
      "execution_count": 35,
      "outputs": [
        {
          "output_type": "execute_result",
          "data": {
            "text/plain": [
              "tensor([[[-0.1016,  0.1344],\n",
              "         [-0.2939,  0.1317],\n",
              "         [ 0.4538,  0.2110],\n",
              "         [-0.0132, -0.0451],\n",
              "         [ 0.6825,  0.0192],\n",
              "         [-0.0916, -0.1198],\n",
              "         [ 0.3576,  0.4373],\n",
              "         [ 0.3130, -0.3192],\n",
              "         [ 0.3512,  0.2971],\n",
              "         [ 0.0263, -0.0525]]], grad_fn=<AddBackward0>)"
            ]
          },
          "metadata": {
            "tags": []
          },
          "execution_count": 35
        }
      ]
    },
    {
      "cell_type": "code",
      "metadata": {
        "id": "uSFP9ZcenAAP",
        "colab_type": "code",
        "colab": {
          "base_uri": "https://localhost:8080/",
          "height": 34
        },
        "outputId": "c33b96ed-15c8-4516-b5d0-a6018b9e0b50"
      },
      "source": [
        "out.shape"
      ],
      "execution_count": 36,
      "outputs": [
        {
          "output_type": "execute_result",
          "data": {
            "text/plain": [
              "torch.Size([1, 10, 2])"
            ]
          },
          "metadata": {
            "tags": []
          },
          "execution_count": 36
        }
      ]
    },
    {
      "cell_type": "code",
      "metadata": {
        "id": "zxoXcf4enOcF",
        "colab_type": "code",
        "colab": {}
      },
      "source": [
        "# Save for later\n",
        "Yhats_torch = out.detach().numpy()"
      ],
      "execution_count": 37,
      "outputs": []
    },
    {
      "cell_type": "code",
      "metadata": {
        "id": "-Vx-vpFwndlF",
        "colab_type": "code",
        "colab": {}
      },
      "source": [
        "W_xh, W_hh, b_xh, b_hh = model.rnn.parameters()"
      ],
      "execution_count": 38,
      "outputs": []
    },
    {
      "cell_type": "code",
      "metadata": {
        "id": "q0oe-hscnn1r",
        "colab_type": "code",
        "colab": {
          "base_uri": "https://localhost:8080/",
          "height": 34
        },
        "outputId": "4c9ed2d2-d815-4a46-a4a0-a5e23a539949"
      },
      "source": [
        "W_xh.shape"
      ],
      "execution_count": 39,
      "outputs": [
        {
          "output_type": "execute_result",
          "data": {
            "text/plain": [
              "torch.Size([5, 3])"
            ]
          },
          "metadata": {
            "tags": []
          },
          "execution_count": 39
        }
      ]
    },
    {
      "cell_type": "code",
      "metadata": {
        "id": "NYmX85nKnsOl",
        "colab_type": "code",
        "colab": {
          "base_uri": "https://localhost:8080/",
          "height": 119
        },
        "outputId": "d10ff550-8731-45dd-fbad-128ac52f0845"
      },
      "source": [
        "W_xh"
      ],
      "execution_count": 40,
      "outputs": [
        {
          "output_type": "execute_result",
          "data": {
            "text/plain": [
              "Parameter containing:\n",
              "tensor([[-0.4398,  0.1717,  0.3512],\n",
              "        [-0.0110,  0.2314,  0.1526],\n",
              "        [-0.1131,  0.4237, -0.4227],\n",
              "        [ 0.0526,  0.2155,  0.1588],\n",
              "        [ 0.3332, -0.3652, -0.1453]], requires_grad=True)"
            ]
          },
          "metadata": {
            "tags": []
          },
          "execution_count": 40
        }
      ]
    },
    {
      "cell_type": "code",
      "metadata": {
        "id": "aNFWDUTrn4FO",
        "colab_type": "code",
        "colab": {
          "base_uri": "https://localhost:8080/",
          "height": 102
        },
        "outputId": "25452f2b-0bcc-4971-a40b-478e01e4c6b5"
      },
      "source": [
        "W_xh = W_xh.data.numpy()\n",
        "W_xh"
      ],
      "execution_count": 41,
      "outputs": [
        {
          "output_type": "execute_result",
          "data": {
            "text/plain": [
              "array([[-0.43984896,  0.17169935,  0.35122377],\n",
              "       [-0.01095418,  0.23137617,  0.15256268],\n",
              "       [-0.11311445,  0.42370972, -0.4227131 ],\n",
              "       [ 0.05255882,  0.21554586,  0.1587588 ],\n",
              "       [ 0.3331866 , -0.36517578, -0.14529742]], dtype=float32)"
            ]
          },
          "metadata": {
            "tags": []
          },
          "execution_count": 41
        }
      ]
    },
    {
      "cell_type": "code",
      "metadata": {
        "id": "kF937ncxoQu-",
        "colab_type": "code",
        "colab": {}
      },
      "source": [
        "b_xh = b_xh.data.numpy()\n",
        "W_hh = W_hh.data.numpy()\n",
        "b_hh = b_hh.data.numpy()"
      ],
      "execution_count": 42,
      "outputs": []
    },
    {
      "cell_type": "code",
      "metadata": {
        "id": "8QSwXHDTowF-",
        "colab_type": "code",
        "colab": {
          "base_uri": "https://localhost:8080/",
          "height": 34
        },
        "outputId": "102adc8b-9bb2-4bec-f3c7-17587949f117"
      },
      "source": [
        "W_xh.shape, b_xh.shape, W_hh.shape, b_hh.shape"
      ],
      "execution_count": 43,
      "outputs": [
        {
          "output_type": "execute_result",
          "data": {
            "text/plain": [
              "((5, 3), (5,), (5, 5), (5,))"
            ]
          },
          "metadata": {
            "tags": []
          },
          "execution_count": 43
        }
      ]
    },
    {
      "cell_type": "code",
      "metadata": {
        "id": "88KEhEfUo8P1",
        "colab_type": "code",
        "colab": {}
      },
      "source": [
        "# get FC layer weights\n",
        "Wo, bo = model.fc.parameters()"
      ],
      "execution_count": 44,
      "outputs": []
    },
    {
      "cell_type": "code",
      "metadata": {
        "id": "yHvzHARQvohh",
        "colab_type": "code",
        "colab": {
          "base_uri": "https://localhost:8080/",
          "height": 34
        },
        "outputId": "a547a35d-c25f-4727-caa5-3acf68bcd220"
      },
      "source": [
        "Wo = Wo.data.numpy()\n",
        "bo = bo.data.numpy()\n",
        "Wo.shape, bo.shape"
      ],
      "execution_count": 45,
      "outputs": [
        {
          "output_type": "execute_result",
          "data": {
            "text/plain": [
              "((2, 5), (2,))"
            ]
          },
          "metadata": {
            "tags": []
          },
          "execution_count": 45
        }
      ]
    },
    {
      "cell_type": "code",
      "metadata": {
        "id": "ducoLmPdwAxL",
        "colab_type": "code",
        "colab": {
          "base_uri": "https://localhost:8080/",
          "height": 187
        },
        "outputId": "641a40b9-d042-4d03-f43a-915a018d3849"
      },
      "source": [
        "# See if we can replicate the output\n",
        "h_last = np.zeros(M)\n",
        "x = X[0]\n",
        "Yhats = np.zeros((T, K))\n",
        "\n",
        "for t in range(T):\n",
        "  h = np.tanh(x[t].dot(W_xh.T) + b_xh + h_last.dot(W_hh.T) + b_hh)\n",
        "  y = h.dot(Wo.T) + bo\n",
        "  Yhats[t] = y\n",
        "\n",
        "  h_last = h\n",
        "\n",
        "print(Yhats)"
      ],
      "execution_count": 48,
      "outputs": [
        {
          "output_type": "stream",
          "text": [
            "[[-0.1016025   0.13444278]\n",
            " [-0.29389649  0.13166414]\n",
            " [ 0.45379834  0.21097822]\n",
            " [-0.01317817 -0.04505938]\n",
            " [ 0.68245626  0.01923217]\n",
            " [-0.09164284 -0.11978903]\n",
            " [ 0.35764371  0.43726489]\n",
            " [ 0.31295147 -0.31922131]\n",
            " [ 0.35121695  0.29708971]\n",
            " [ 0.02633688 -0.05248884]]\n"
          ],
          "name": "stdout"
        }
      ]
    },
    {
      "cell_type": "code",
      "metadata": {
        "id": "-3iHvdQLzNP6",
        "colab_type": "code",
        "colab": {
          "base_uri": "https://localhost:8080/",
          "height": 34
        },
        "outputId": "6c1672ab-b301-4cb2-f9a1-420735ee8325"
      },
      "source": [
        "# Check \n",
        "np.allclose(Yhats, Yhats_torch)"
      ],
      "execution_count": 49,
      "outputs": [
        {
          "output_type": "execute_result",
          "data": {
            "text/plain": [
              "True"
            ]
          },
          "metadata": {
            "tags": []
          },
          "execution_count": 49
        }
      ]
    },
    {
      "cell_type": "code",
      "metadata": {
        "id": "d6em3gK90IYU",
        "colab_type": "code",
        "colab": {}
      },
      "source": [
        ""
      ],
      "execution_count": null,
      "outputs": []
    }
  ]
}