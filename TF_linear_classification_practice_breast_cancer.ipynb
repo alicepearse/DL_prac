{
  "nbformat": 4,
  "nbformat_minor": 0,
  "metadata": {
    "colab": {
      "name": "TF_linear  classification practice_breast cancer.ipynb",
      "provenance": [],
      "authorship_tag": "ABX9TyMhl+h6+Z/j/DSJYvadXsee",
      "include_colab_link": true
    },
    "kernelspec": {
      "name": "python3",
      "display_name": "Python 3"
    }
  },
  "cells": [
    {
      "cell_type": "markdown",
      "metadata": {
        "id": "view-in-github",
        "colab_type": "text"
      },
      "source": [
        "<a href=\"https://colab.research.google.com/github/alicepearse/DL_prac/blob/master/TF_linear_classification_practice_breast_cancer.ipynb\" target=\"_parent\"><img src=\"https://colab.research.google.com/assets/colab-badge.svg\" alt=\"Open In Colab\"/></a>"
      ]
    },
    {
      "cell_type": "code",
      "metadata": {
        "id": "vx6azb-ZP8WP",
        "colab_type": "code",
        "colab": {}
      },
      "source": [
        "import tensorflow as tf\n",
        "import numpy as np\n",
        "import matplotlib.pyplot as plt\n",
        "%matplotlib inline\n",
        "\n",
        "from sklearn.datasets import load_breast_cancer\n",
        "from sklearn.model_selection import train_test_split\n",
        "from sklearn.preprocessing import StandardScaler"
      ],
      "execution_count": 30,
      "outputs": []
    },
    {
      "cell_type": "code",
      "metadata": {
        "id": "kwJ-iJb_Qomd",
        "colab_type": "code",
        "colab": {}
      },
      "source": [
        "# Load the data\n",
        "data = load_breast_cancer()"
      ],
      "execution_count": 18,
      "outputs": []
    },
    {
      "cell_type": "code",
      "metadata": {
        "id": "133qHbEIQSGz",
        "colab_type": "code",
        "colab": {
          "base_uri": "https://localhost:8080/",
          "height": 34
        },
        "outputId": "68340313-da7d-43be-e68e-f92b004de369"
      },
      "source": [
        "# Check the type of data\n",
        "type(data)"
      ],
      "execution_count": 19,
      "outputs": [
        {
          "output_type": "execute_result",
          "data": {
            "text/plain": [
              "sklearn.utils.Bunch"
            ]
          },
          "metadata": {
            "tags": []
          },
          "execution_count": 19
        }
      ]
    },
    {
      "cell_type": "code",
      "metadata": {
        "id": "2FtRY6mBQ09z",
        "colab_type": "code",
        "colab": {
          "base_uri": "https://localhost:8080/",
          "height": 54
        },
        "outputId": "f11e884b-006d-44ad-d51a-edcbd5de008c"
      },
      "source": [
        "# Call keys\n",
        "data.keys()"
      ],
      "execution_count": 20,
      "outputs": [
        {
          "output_type": "execute_result",
          "data": {
            "text/plain": [
              "dict_keys(['data', 'target', 'target_names', 'DESCR', 'feature_names', 'filename'])"
            ]
          },
          "metadata": {
            "tags": []
          },
          "execution_count": 20
        }
      ]
    },
    {
      "cell_type": "code",
      "metadata": {
        "id": "CVRqY-SkRAed",
        "colab_type": "code",
        "colab": {
          "base_uri": "https://localhost:8080/",
          "height": 34
        },
        "outputId": "2d47da2f-02aa-4ce1-daf1-a798b493e2c4"
      },
      "source": [
        "# Look at shape\n",
        "data.data.shape"
      ],
      "execution_count": 24,
      "outputs": [
        {
          "output_type": "execute_result",
          "data": {
            "text/plain": [
              "(569, 30)"
            ]
          },
          "metadata": {
            "tags": []
          },
          "execution_count": 24
        }
      ]
    },
    {
      "cell_type": "code",
      "metadata": {
        "id": "ht0v7NtQRGkm",
        "colab_type": "code",
        "colab": {
          "base_uri": "https://localhost:8080/",
          "height": 289
        },
        "outputId": "8e58d02f-df79-43d8-be7b-fd14ab9411b7"
      },
      "source": [
        "# Print targets\n",
        "print(data.target)"
      ],
      "execution_count": 25,
      "outputs": [
        {
          "output_type": "stream",
          "text": [
            "[0 0 0 0 0 0 0 0 0 0 0 0 0 0 0 0 0 0 0 1 1 1 0 0 0 0 0 0 0 0 0 0 0 0 0 0 0\n",
            " 1 0 0 0 0 0 0 0 0 1 0 1 1 1 1 1 0 0 1 0 0 1 1 1 1 0 1 0 0 1 1 1 1 0 1 0 0\n",
            " 1 0 1 0 0 1 1 1 0 0 1 0 0 0 1 1 1 0 1 1 0 0 1 1 1 0 0 1 1 1 1 0 1 1 0 1 1\n",
            " 1 1 1 1 1 1 0 0 0 1 0 0 1 1 1 0 0 1 0 1 0 0 1 0 0 1 1 0 1 1 0 1 1 1 1 0 1\n",
            " 1 1 1 1 1 1 1 1 0 1 1 1 1 0 0 1 0 1 1 0 0 1 1 0 0 1 1 1 1 0 1 1 0 0 0 1 0\n",
            " 1 0 1 1 1 0 1 1 0 0 1 0 0 0 0 1 0 0 0 1 0 1 0 1 1 0 1 0 0 0 0 1 1 0 0 1 1\n",
            " 1 0 1 1 1 1 1 0 0 1 1 0 1 1 0 0 1 0 1 1 1 1 0 1 1 1 1 1 0 1 0 0 0 0 0 0 0\n",
            " 0 0 0 0 0 0 0 1 1 1 1 1 1 0 1 0 1 1 0 1 1 0 1 0 0 1 1 1 1 1 1 1 1 1 1 1 1\n",
            " 1 0 1 1 0 1 0 1 1 1 1 1 1 1 1 1 1 1 1 1 1 0 1 1 1 0 1 0 1 1 1 1 0 0 0 1 1\n",
            " 1 1 0 1 0 1 0 1 1 1 0 1 1 1 1 1 1 1 0 0 0 1 1 1 1 1 1 1 1 1 1 1 0 0 1 0 0\n",
            " 0 1 0 0 1 1 1 1 1 0 1 1 1 1 1 0 1 1 1 0 1 1 0 0 1 1 1 1 1 1 0 1 1 1 1 1 1\n",
            " 1 0 1 1 1 1 1 0 1 1 0 1 1 1 1 1 1 1 1 1 1 1 1 0 1 0 0 1 0 1 1 1 1 1 0 1 1\n",
            " 0 1 0 1 1 0 1 0 1 1 1 1 1 1 1 1 0 0 1 1 1 1 1 1 0 1 1 1 1 1 1 1 1 1 1 0 1\n",
            " 1 1 1 1 1 1 0 1 0 1 1 0 1 1 1 1 1 0 0 1 0 1 0 1 1 1 1 1 0 1 1 0 1 0 1 0 0\n",
            " 1 1 1 0 1 1 1 1 1 1 1 1 1 1 1 0 1 0 0 1 1 1 1 1 1 1 1 1 1 1 1 1 1 1 1 1 1\n",
            " 1 1 1 1 1 1 1 0 0 0 0 0 0 1]\n"
          ],
          "name": "stdout"
        }
      ]
    },
    {
      "cell_type": "code",
      "metadata": {
        "id": "m4qFjZN3RLEg",
        "colab_type": "code",
        "colab": {
          "base_uri": "https://localhost:8080/",
          "height": 34
        },
        "outputId": "d438149f-1d48-4e26-c08b-b89bf40c1db5"
      },
      "source": [
        "# Check labels ie names\n",
        "print(data.target_names)"
      ],
      "execution_count": 26,
      "outputs": [
        {
          "output_type": "stream",
          "text": [
            "['malignant' 'benign']\n"
          ],
          "name": "stdout"
        }
      ]
    },
    {
      "cell_type": "code",
      "metadata": {
        "id": "vGWZyYeiRVXP",
        "colab_type": "code",
        "colab": {
          "base_uri": "https://localhost:8080/",
          "height": 34
        },
        "outputId": "44fdad8c-c10f-4c18-c449-1f1148ca4871"
      },
      "source": [
        "# Check target shape\n",
        "data.target.shape"
      ],
      "execution_count": 27,
      "outputs": [
        {
          "output_type": "execute_result",
          "data": {
            "text/plain": [
              "(569,)"
            ]
          },
          "metadata": {
            "tags": []
          },
          "execution_count": 27
        }
      ]
    },
    {
      "cell_type": "code",
      "metadata": {
        "id": "OXx36x1dRb6-",
        "colab_type": "code",
        "colab": {
          "base_uri": "https://localhost:8080/",
          "height": 170
        },
        "outputId": "c125bdab-7165-47e1-be2d-59b1648e2d4c"
      },
      "source": [
        "# CHeck input feature names\n",
        "print(data.feature_names)"
      ],
      "execution_count": 29,
      "outputs": [
        {
          "output_type": "stream",
          "text": [
            "['mean radius' 'mean texture' 'mean perimeter' 'mean area'\n",
            " 'mean smoothness' 'mean compactness' 'mean concavity'\n",
            " 'mean concave points' 'mean symmetry' 'mean fractal dimension'\n",
            " 'radius error' 'texture error' 'perimeter error' 'area error'\n",
            " 'smoothness error' 'compactness error' 'concavity error'\n",
            " 'concave points error' 'symmetry error' 'fractal dimension error'\n",
            " 'worst radius' 'worst texture' 'worst perimeter' 'worst area'\n",
            " 'worst smoothness' 'worst compactness' 'worst concavity'\n",
            " 'worst concave points' 'worst symmetry' 'worst fractal dimension']\n"
          ],
          "name": "stdout"
        }
      ]
    },
    {
      "cell_type": "code",
      "metadata": {
        "id": "BQv95rU5RfcC",
        "colab_type": "code",
        "colab": {}
      },
      "source": [
        "# Split the data (test size 0.33)\n",
        "X_train, X_test, y_train, y_test = train_test_split(data.data, data.target, test_size=0.33)\n",
        "\n",
        "# Assign the shape of x_train to the variables N, D\n",
        "N, D = X_train.shape"
      ],
      "execution_count": 31,
      "outputs": []
    },
    {
      "cell_type": "code",
      "metadata": {
        "id": "s6r5QdDPRfl5",
        "colab_type": "code",
        "colab": {}
      },
      "source": [
        "# Scale the data\n",
        "scaler = StandardScaler()\n",
        "X_train = scaler.fit_transform(X_train)\n",
        "X_test = scaler.transform(X_test)"
      ],
      "execution_count": 10,
      "outputs": []
    },
    {
      "cell_type": "code",
      "metadata": {
        "id": "zILKRHYwR4_F",
        "colab_type": "code",
        "colab": {
          "base_uri": "https://localhost:8080/",
          "height": 1000
        },
        "outputId": "a09af1a9-44e8-474b-8b2b-c665fbe5978d"
      },
      "source": [
        "# Build the model\n",
        "model = tf.keras.models.Sequential([\n",
        "  tf.keras.layers.Input(shape=(D,)),\n",
        "  tf.keras.layers.Dense(1, activation='sigmoid')\n",
        "])\n",
        "\n",
        "# Compile the model\n",
        "model.compile(\n",
        "    loss = 'binary_crossentropy',\n",
        "    optimizer='adam',\n",
        "    metrics=['accuracy']\n",
        ")\n",
        "\n",
        "\n",
        "# train the model\n",
        "r = model.fit(X_train, y_train, validation_data= (X_test, y_test), epochs=100)\n",
        "\n",
        "\n",
        "# Evaluate the model\n",
        "print(\"Train score:\", model.evaluate(X_train, y_train))\n",
        "print(\"Test score:\", model.evaluate(X_test, y_test))"
      ],
      "execution_count": 35,
      "outputs": [
        {
          "output_type": "stream",
          "text": [
            "Epoch 1/100\n",
            "12/12 [==============================] - 0s 10ms/step - loss: 39.0778 - accuracy: 0.6273 - val_loss: 32.0838 - val_accuracy: 0.6277\n",
            "Epoch 2/100\n",
            "12/12 [==============================] - 0s 2ms/step - loss: 26.9453 - accuracy: 0.6273 - val_loss: 19.6684 - val_accuracy: 0.6277\n",
            "Epoch 3/100\n",
            "12/12 [==============================] - 0s 2ms/step - loss: 14.1008 - accuracy: 0.6273 - val_loss: 7.5515 - val_accuracy: 0.6277\n",
            "Epoch 4/100\n",
            "12/12 [==============================] - 0s 2ms/step - loss: 3.4004 - accuracy: 0.7270 - val_loss: 0.7010 - val_accuracy: 0.8404\n",
            "Epoch 5/100\n",
            "12/12 [==============================] - 0s 2ms/step - loss: 1.0781 - accuracy: 0.7638 - val_loss: 1.3896 - val_accuracy: 0.7021\n",
            "Epoch 6/100\n",
            "12/12 [==============================] - 0s 3ms/step - loss: 1.1538 - accuracy: 0.7664 - val_loss: 0.8319 - val_accuracy: 0.7926\n",
            "Epoch 7/100\n",
            "12/12 [==============================] - 0s 3ms/step - loss: 0.7682 - accuracy: 0.8136 - val_loss: 0.6714 - val_accuracy: 0.8511\n",
            "Epoch 8/100\n",
            "12/12 [==============================] - 0s 2ms/step - loss: 0.7860 - accuracy: 0.8504 - val_loss: 0.6797 - val_accuracy: 0.8457\n",
            "Epoch 9/100\n",
            "12/12 [==============================] - 0s 2ms/step - loss: 0.7721 - accuracy: 0.8294 - val_loss: 0.6551 - val_accuracy: 0.8617\n",
            "Epoch 10/100\n",
            "12/12 [==============================] - 0s 2ms/step - loss: 0.7335 - accuracy: 0.8215 - val_loss: 0.6448 - val_accuracy: 0.8670\n",
            "Epoch 11/100\n",
            "12/12 [==============================] - 0s 2ms/step - loss: 0.7283 - accuracy: 0.8241 - val_loss: 0.6349 - val_accuracy: 0.8617\n",
            "Epoch 12/100\n",
            "12/12 [==============================] - 0s 3ms/step - loss: 0.7210 - accuracy: 0.8268 - val_loss: 0.6291 - val_accuracy: 0.8670\n",
            "Epoch 13/100\n",
            "12/12 [==============================] - 0s 2ms/step - loss: 0.7143 - accuracy: 0.8294 - val_loss: 0.6188 - val_accuracy: 0.8670\n",
            "Epoch 14/100\n",
            "12/12 [==============================] - 0s 2ms/step - loss: 0.7102 - accuracy: 0.8215 - val_loss: 0.6157 - val_accuracy: 0.8670\n",
            "Epoch 15/100\n",
            "12/12 [==============================] - 0s 2ms/step - loss: 0.7032 - accuracy: 0.8320 - val_loss: 0.6022 - val_accuracy: 0.8723\n",
            "Epoch 16/100\n",
            "12/12 [==============================] - 0s 3ms/step - loss: 0.6913 - accuracy: 0.8320 - val_loss: 0.5929 - val_accuracy: 0.8723\n",
            "Epoch 17/100\n",
            "12/12 [==============================] - 0s 2ms/step - loss: 0.6878 - accuracy: 0.8346 - val_loss: 0.5841 - val_accuracy: 0.8670\n",
            "Epoch 18/100\n",
            "12/12 [==============================] - 0s 3ms/step - loss: 0.6758 - accuracy: 0.8399 - val_loss: 0.5806 - val_accuracy: 0.8723\n",
            "Epoch 19/100\n",
            "12/12 [==============================] - 0s 3ms/step - loss: 0.6717 - accuracy: 0.8320 - val_loss: 0.5711 - val_accuracy: 0.8723\n",
            "Epoch 20/100\n",
            "12/12 [==============================] - 0s 2ms/step - loss: 0.6609 - accuracy: 0.8320 - val_loss: 0.5578 - val_accuracy: 0.8723\n",
            "Epoch 21/100\n",
            "12/12 [==============================] - 0s 2ms/step - loss: 0.6592 - accuracy: 0.8346 - val_loss: 0.5494 - val_accuracy: 0.8617\n",
            "Epoch 22/100\n",
            "12/12 [==============================] - 0s 2ms/step - loss: 0.6484 - accuracy: 0.8504 - val_loss: 0.5406 - val_accuracy: 0.8777\n",
            "Epoch 23/100\n",
            "12/12 [==============================] - 0s 3ms/step - loss: 0.6444 - accuracy: 0.8346 - val_loss: 0.5368 - val_accuracy: 0.8777\n",
            "Epoch 24/100\n",
            "12/12 [==============================] - 0s 2ms/step - loss: 0.6335 - accuracy: 0.8425 - val_loss: 0.5225 - val_accuracy: 0.8777\n",
            "Epoch 25/100\n",
            "12/12 [==============================] - 0s 2ms/step - loss: 0.6277 - accuracy: 0.8451 - val_loss: 0.5158 - val_accuracy: 0.8777\n",
            "Epoch 26/100\n",
            "12/12 [==============================] - 0s 2ms/step - loss: 0.6187 - accuracy: 0.8425 - val_loss: 0.5050 - val_accuracy: 0.8777\n",
            "Epoch 27/100\n",
            "12/12 [==============================] - 0s 2ms/step - loss: 0.6191 - accuracy: 0.8556 - val_loss: 0.4957 - val_accuracy: 0.8777\n",
            "Epoch 28/100\n",
            "12/12 [==============================] - 0s 2ms/step - loss: 0.6175 - accuracy: 0.8373 - val_loss: 0.4930 - val_accuracy: 0.8830\n",
            "Epoch 29/100\n",
            "12/12 [==============================] - 0s 2ms/step - loss: 0.6150 - accuracy: 0.8425 - val_loss: 0.4808 - val_accuracy: 0.8777\n",
            "Epoch 30/100\n",
            "12/12 [==============================] - 0s 2ms/step - loss: 0.5848 - accuracy: 0.8530 - val_loss: 0.4741 - val_accuracy: 0.8830\n",
            "Epoch 31/100\n",
            "12/12 [==============================] - 0s 2ms/step - loss: 0.5831 - accuracy: 0.8399 - val_loss: 0.4635 - val_accuracy: 0.8830\n",
            "Epoch 32/100\n",
            "12/12 [==============================] - 0s 3ms/step - loss: 0.5727 - accuracy: 0.8583 - val_loss: 0.4513 - val_accuracy: 0.8830\n",
            "Epoch 33/100\n",
            "12/12 [==============================] - 0s 2ms/step - loss: 0.5644 - accuracy: 0.8583 - val_loss: 0.4427 - val_accuracy: 0.8830\n",
            "Epoch 34/100\n",
            "12/12 [==============================] - 0s 2ms/step - loss: 0.5599 - accuracy: 0.8530 - val_loss: 0.4364 - val_accuracy: 0.8830\n",
            "Epoch 35/100\n",
            "12/12 [==============================] - 0s 2ms/step - loss: 0.5558 - accuracy: 0.8609 - val_loss: 0.4251 - val_accuracy: 0.8883\n",
            "Epoch 36/100\n",
            "12/12 [==============================] - 0s 2ms/step - loss: 0.5441 - accuracy: 0.8583 - val_loss: 0.4177 - val_accuracy: 0.8883\n",
            "Epoch 37/100\n",
            "12/12 [==============================] - 0s 2ms/step - loss: 0.5395 - accuracy: 0.8504 - val_loss: 0.4155 - val_accuracy: 0.8830\n",
            "Epoch 38/100\n",
            "12/12 [==============================] - 0s 2ms/step - loss: 0.5334 - accuracy: 0.8583 - val_loss: 0.4020 - val_accuracy: 0.8777\n",
            "Epoch 39/100\n",
            "12/12 [==============================] - 0s 2ms/step - loss: 0.5217 - accuracy: 0.8635 - val_loss: 0.3941 - val_accuracy: 0.8883\n",
            "Epoch 40/100\n",
            "12/12 [==============================] - 0s 2ms/step - loss: 0.5270 - accuracy: 0.8425 - val_loss: 0.3883 - val_accuracy: 0.8936\n",
            "Epoch 41/100\n",
            "12/12 [==============================] - 0s 3ms/step - loss: 0.5212 - accuracy: 0.8661 - val_loss: 0.3761 - val_accuracy: 0.8936\n",
            "Epoch 42/100\n",
            "12/12 [==============================] - 0s 3ms/step - loss: 0.4982 - accuracy: 0.8609 - val_loss: 0.3756 - val_accuracy: 0.8936\n",
            "Epoch 43/100\n",
            "12/12 [==============================] - 0s 2ms/step - loss: 0.4953 - accuracy: 0.8609 - val_loss: 0.3659 - val_accuracy: 0.8936\n",
            "Epoch 44/100\n",
            "12/12 [==============================] - 0s 2ms/step - loss: 0.4882 - accuracy: 0.8609 - val_loss: 0.3608 - val_accuracy: 0.8936\n",
            "Epoch 45/100\n",
            "12/12 [==============================] - 0s 2ms/step - loss: 0.4795 - accuracy: 0.8609 - val_loss: 0.3488 - val_accuracy: 0.8936\n",
            "Epoch 46/100\n",
            "12/12 [==============================] - 0s 2ms/step - loss: 0.4733 - accuracy: 0.8635 - val_loss: 0.3453 - val_accuracy: 0.8936\n",
            "Epoch 47/100\n",
            "12/12 [==============================] - 0s 2ms/step - loss: 0.4806 - accuracy: 0.8478 - val_loss: 0.3357 - val_accuracy: 0.8936\n",
            "Epoch 48/100\n",
            "12/12 [==============================] - 0s 3ms/step - loss: 0.4589 - accuracy: 0.8661 - val_loss: 0.3279 - val_accuracy: 0.8989\n",
            "Epoch 49/100\n",
            "12/12 [==============================] - 0s 2ms/step - loss: 0.4648 - accuracy: 0.8583 - val_loss: 0.3278 - val_accuracy: 0.8936\n",
            "Epoch 50/100\n",
            "12/12 [==============================] - 0s 2ms/step - loss: 0.4518 - accuracy: 0.8714 - val_loss: 0.3154 - val_accuracy: 0.8989\n",
            "Epoch 51/100\n",
            "12/12 [==============================] - 0s 2ms/step - loss: 0.4442 - accuracy: 0.8635 - val_loss: 0.3133 - val_accuracy: 0.8989\n",
            "Epoch 52/100\n",
            "12/12 [==============================] - 0s 2ms/step - loss: 0.4370 - accuracy: 0.8688 - val_loss: 0.3031 - val_accuracy: 0.8989\n",
            "Epoch 53/100\n",
            "12/12 [==============================] - 0s 3ms/step - loss: 0.4463 - accuracy: 0.8583 - val_loss: 0.3018 - val_accuracy: 0.8989\n",
            "Epoch 54/100\n",
            "12/12 [==============================] - 0s 2ms/step - loss: 0.4310 - accuracy: 0.8793 - val_loss: 0.2909 - val_accuracy: 0.8989\n",
            "Epoch 55/100\n",
            "12/12 [==============================] - 0s 2ms/step - loss: 0.4403 - accuracy: 0.8635 - val_loss: 0.3017 - val_accuracy: 0.8936\n",
            "Epoch 56/100\n",
            "12/12 [==============================] - 0s 2ms/step - loss: 0.4127 - accuracy: 0.8688 - val_loss: 0.2795 - val_accuracy: 0.8989\n",
            "Epoch 57/100\n",
            "12/12 [==============================] - 0s 2ms/step - loss: 0.4060 - accuracy: 0.8740 - val_loss: 0.2845 - val_accuracy: 0.8989\n",
            "Epoch 58/100\n",
            "12/12 [==============================] - 0s 2ms/step - loss: 0.4013 - accuracy: 0.8766 - val_loss: 0.2682 - val_accuracy: 0.8989\n",
            "Epoch 59/100\n",
            "12/12 [==============================] - 0s 3ms/step - loss: 0.3978 - accuracy: 0.8793 - val_loss: 0.2807 - val_accuracy: 0.8989\n",
            "Epoch 60/100\n",
            "12/12 [==============================] - 0s 3ms/step - loss: 0.3892 - accuracy: 0.8766 - val_loss: 0.2626 - val_accuracy: 0.8989\n",
            "Epoch 61/100\n",
            "12/12 [==============================] - 0s 3ms/step - loss: 0.3824 - accuracy: 0.8740 - val_loss: 0.2537 - val_accuracy: 0.8989\n",
            "Epoch 62/100\n",
            "12/12 [==============================] - 0s 2ms/step - loss: 0.3747 - accuracy: 0.8766 - val_loss: 0.2508 - val_accuracy: 0.8989\n",
            "Epoch 63/100\n",
            "12/12 [==============================] - 0s 2ms/step - loss: 0.3747 - accuracy: 0.8871 - val_loss: 0.2438 - val_accuracy: 0.8989\n",
            "Epoch 64/100\n",
            "12/12 [==============================] - 0s 2ms/step - loss: 0.3662 - accuracy: 0.8845 - val_loss: 0.2478 - val_accuracy: 0.9043\n",
            "Epoch 65/100\n",
            "12/12 [==============================] - 0s 3ms/step - loss: 0.3599 - accuracy: 0.8845 - val_loss: 0.2325 - val_accuracy: 0.8989\n",
            "Epoch 66/100\n",
            "12/12 [==============================] - 0s 2ms/step - loss: 0.3588 - accuracy: 0.8871 - val_loss: 0.2293 - val_accuracy: 0.8989\n",
            "Epoch 67/100\n",
            "12/12 [==============================] - 0s 3ms/step - loss: 0.3756 - accuracy: 0.8714 - val_loss: 0.2239 - val_accuracy: 0.8989\n",
            "Epoch 68/100\n",
            "12/12 [==============================] - 0s 3ms/step - loss: 0.3624 - accuracy: 0.8793 - val_loss: 0.2186 - val_accuracy: 0.9043\n",
            "Epoch 69/100\n",
            "12/12 [==============================] - 0s 2ms/step - loss: 0.3578 - accuracy: 0.8845 - val_loss: 0.2283 - val_accuracy: 0.9096\n",
            "Epoch 70/100\n",
            "12/12 [==============================] - 0s 3ms/step - loss: 0.3474 - accuracy: 0.8898 - val_loss: 0.2122 - val_accuracy: 0.9202\n",
            "Epoch 71/100\n",
            "12/12 [==============================] - 0s 2ms/step - loss: 0.3313 - accuracy: 0.8950 - val_loss: 0.2204 - val_accuracy: 0.9096\n",
            "Epoch 72/100\n",
            "12/12 [==============================] - 0s 2ms/step - loss: 0.3345 - accuracy: 0.8950 - val_loss: 0.2035 - val_accuracy: 0.9096\n",
            "Epoch 73/100\n",
            "12/12 [==============================] - 0s 2ms/step - loss: 0.3265 - accuracy: 0.8950 - val_loss: 0.2043 - val_accuracy: 0.9096\n",
            "Epoch 74/100\n",
            "12/12 [==============================] - 0s 2ms/step - loss: 0.3205 - accuracy: 0.9003 - val_loss: 0.1978 - val_accuracy: 0.9096\n",
            "Epoch 75/100\n",
            "12/12 [==============================] - 0s 2ms/step - loss: 0.3242 - accuracy: 0.8924 - val_loss: 0.1938 - val_accuracy: 0.9149\n",
            "Epoch 76/100\n",
            "12/12 [==============================] - 0s 3ms/step - loss: 0.3225 - accuracy: 0.8950 - val_loss: 0.1902 - val_accuracy: 0.9202\n",
            "Epoch 77/100\n",
            "12/12 [==============================] - 0s 2ms/step - loss: 0.3152 - accuracy: 0.9003 - val_loss: 0.1933 - val_accuracy: 0.9149\n",
            "Epoch 78/100\n",
            "12/12 [==============================] - 0s 2ms/step - loss: 0.3074 - accuracy: 0.9003 - val_loss: 0.1874 - val_accuracy: 0.9149\n",
            "Epoch 79/100\n",
            "12/12 [==============================] - 0s 2ms/step - loss: 0.3133 - accuracy: 0.8950 - val_loss: 0.1814 - val_accuracy: 0.9202\n",
            "Epoch 80/100\n",
            "12/12 [==============================] - 0s 2ms/step - loss: 0.2990 - accuracy: 0.8898 - val_loss: 0.1959 - val_accuracy: 0.9255\n",
            "Epoch 81/100\n",
            "12/12 [==============================] - 0s 2ms/step - loss: 0.2957 - accuracy: 0.9003 - val_loss: 0.1749 - val_accuracy: 0.9255\n",
            "Epoch 82/100\n",
            "12/12 [==============================] - 0s 3ms/step - loss: 0.2974 - accuracy: 0.8950 - val_loss: 0.1777 - val_accuracy: 0.9309\n",
            "Epoch 83/100\n",
            "12/12 [==============================] - 0s 2ms/step - loss: 0.2905 - accuracy: 0.9003 - val_loss: 0.1710 - val_accuracy: 0.9255\n",
            "Epoch 84/100\n",
            "12/12 [==============================] - 0s 2ms/step - loss: 0.2864 - accuracy: 0.9055 - val_loss: 0.1714 - val_accuracy: 0.9309\n",
            "Epoch 85/100\n",
            "12/12 [==============================] - 0s 2ms/step - loss: 0.2865 - accuracy: 0.9003 - val_loss: 0.1690 - val_accuracy: 0.9309\n",
            "Epoch 86/100\n",
            "12/12 [==============================] - 0s 2ms/step - loss: 0.2830 - accuracy: 0.9003 - val_loss: 0.1649 - val_accuracy: 0.9362\n",
            "Epoch 87/100\n",
            "12/12 [==============================] - 0s 2ms/step - loss: 0.2818 - accuracy: 0.9003 - val_loss: 0.1594 - val_accuracy: 0.9255\n",
            "Epoch 88/100\n",
            "12/12 [==============================] - 0s 2ms/step - loss: 0.2776 - accuracy: 0.9055 - val_loss: 0.1608 - val_accuracy: 0.9362\n",
            "Epoch 89/100\n",
            "12/12 [==============================] - 0s 2ms/step - loss: 0.2776 - accuracy: 0.9055 - val_loss: 0.1609 - val_accuracy: 0.9362\n",
            "Epoch 90/100\n",
            "12/12 [==============================] - 0s 3ms/step - loss: 0.2751 - accuracy: 0.9003 - val_loss: 0.1588 - val_accuracy: 0.9362\n",
            "Epoch 91/100\n",
            "12/12 [==============================] - 0s 2ms/step - loss: 0.2827 - accuracy: 0.9003 - val_loss: 0.1634 - val_accuracy: 0.9309\n",
            "Epoch 92/100\n",
            "12/12 [==============================] - 0s 2ms/step - loss: 0.2709 - accuracy: 0.8976 - val_loss: 0.1496 - val_accuracy: 0.9415\n",
            "Epoch 93/100\n",
            "12/12 [==============================] - 0s 3ms/step - loss: 0.2680 - accuracy: 0.9081 - val_loss: 0.1510 - val_accuracy: 0.9362\n",
            "Epoch 94/100\n",
            "12/12 [==============================] - 0s 3ms/step - loss: 0.2594 - accuracy: 0.9055 - val_loss: 0.1593 - val_accuracy: 0.9362\n",
            "Epoch 95/100\n",
            "12/12 [==============================] - 0s 3ms/step - loss: 0.2605 - accuracy: 0.9081 - val_loss: 0.1452 - val_accuracy: 0.9415\n",
            "Epoch 96/100\n",
            "12/12 [==============================] - 0s 3ms/step - loss: 0.2590 - accuracy: 0.9108 - val_loss: 0.1442 - val_accuracy: 0.9415\n",
            "Epoch 97/100\n",
            "12/12 [==============================] - 0s 2ms/step - loss: 0.2704 - accuracy: 0.9003 - val_loss: 0.1482 - val_accuracy: 0.9415\n",
            "Epoch 98/100\n",
            "12/12 [==============================] - 0s 2ms/step - loss: 0.2830 - accuracy: 0.9160 - val_loss: 0.1440 - val_accuracy: 0.9415\n",
            "Epoch 99/100\n",
            "12/12 [==============================] - 0s 2ms/step - loss: 0.2668 - accuracy: 0.8898 - val_loss: 0.1550 - val_accuracy: 0.9468\n",
            "Epoch 100/100\n",
            "12/12 [==============================] - 0s 2ms/step - loss: 0.2847 - accuracy: 0.9055 - val_loss: 0.1402 - val_accuracy: 0.9468\n",
            "12/12 [==============================] - 0s 981us/step - loss: 0.2443 - accuracy: 0.9029\n",
            "Train score: [0.2442626953125, 0.9028871655464172]\n",
            "6/6 [==============================] - 0s 1ms/step - loss: 0.1402 - accuracy: 0.9468\n",
            "Test score: [0.14016015827655792, 0.9468085169792175]\n"
          ],
          "name": "stdout"
        }
      ]
    },
    {
      "cell_type": "code",
      "metadata": {
        "id": "lZpJLZTfSDJE",
        "colab_type": "code",
        "colab": {
          "base_uri": "https://localhost:8080/",
          "height": 282
        },
        "outputId": "87396952-9298-437c-af87-b7a150fceddd"
      },
      "source": [
        "# Plot loss\n",
        "plt.plot(r.history['loss'], label= \"loss\")\n",
        "plt.plot(r.history['val_loss'], label= \"val_loss\")\n",
        "plt.legend()"
      ],
      "execution_count": 36,
      "outputs": [
        {
          "output_type": "execute_result",
          "data": {
            "text/plain": [
              "<matplotlib.legend.Legend at 0x7f9c1377b978>"
            ]
          },
          "metadata": {
            "tags": []
          },
          "execution_count": 36
        },
        {
          "output_type": "display_data",
          "data": {
            "image/png": "[encoded data removed]",
            "text/plain": [
              "<Figure size 432x288 with 1 Axes>"
            ]
          },
          "metadata": {
            "tags": [],
            "needs_background": "light"
          }
        }
      ]
    },
    {
      "cell_type": "code",
      "metadata": {
        "id": "o9ucrVObSb8w",
        "colab_type": "code",
        "colab": {
          "base_uri": "https://localhost:8080/",
          "height": 282
        },
        "outputId": "1bd7602f-a39b-4091-c3bc-f8c7d77e5450"
      },
      "source": [
        "#  Plot accurarcy\n",
        "plt.plot(r.history['accuracy'], label='acc')\n",
        "plt.plot(r.history['val_accuracy'], label='val_acc')\n",
        "plt.legend()"
      ],
      "execution_count": 37,
      "outputs": [
        {
          "output_type": "execute_result",
          "data": {
            "text/plain": [
              "<matplotlib.legend.Legend at 0x7f9c14bd3470>"
            ]
          },
          "metadata": {
            "tags": []
          },
          "execution_count": 37
        },
        {
          "output_type": "display_data",
          "data": {
            "image/png": "[encoded data removed]",
            "text/plain": [
              "<Figure size 432x288 with 1 Axes>"
            ]
          },
          "metadata": {
            "tags": [],
            "needs_background": "light"
          }
        }
      ]
    },
    {
      "cell_type": "code",
      "metadata": {
        "id": "Rht3NtOmSgTR",
        "colab_type": "code",
        "colab": {
          "base_uri": "https://localhost:8080/",
          "height": 1000
        },
        "outputId": "2cf9c7e8-4ac2-48fb-ca62-163fb8df8d21"
      },
      "source": [
        "# Make predictions\n",
        "P = model.predict(X_test)\n",
        "print(P)"
      ],
      "execution_count": 38,
      "outputs": [
        {
          "output_type": "stream",
          "text": [
            "[[9.9953210e-01]\n",
            " [9.9252522e-01]\n",
            " [2.4309200e-05]\n",
            " [9.8974025e-01]\n",
            " [9.3076497e-01]\n",
            " [9.2106640e-01]\n",
            " [2.8184023e-01]\n",
            " [3.6857396e-02]\n",
            " [9.9937034e-01]\n",
            " [4.1246734e-05]\n",
            " [9.9979436e-01]\n",
            " [9.9951947e-01]\n",
            " [3.8200276e-19]\n",
            " [9.9523568e-01]\n",
            " [6.6574592e-07]\n",
            " [9.8988426e-01]\n",
            " [9.7564006e-01]\n",
            " [2.2256855e-21]\n",
            " [9.9827445e-01]\n",
            " [9.9922252e-01]\n",
            " [4.6277613e-09]\n",
            " [1.9731820e-03]\n",
            " [9.9964803e-01]\n",
            " [9.9583083e-01]\n",
            " [7.9056084e-02]\n",
            " [9.9984241e-01]\n",
            " [9.8550379e-01]\n",
            " [5.6678777e-13]\n",
            " [8.6639466e-11]\n",
            " [9.9805772e-01]\n",
            " [9.9773204e-01]\n",
            " [3.8256176e-09]\n",
            " [3.5433769e-03]\n",
            " [1.6435087e-03]\n",
            " [2.9640546e-10]\n",
            " [9.3995005e-01]\n",
            " [9.9372774e-01]\n",
            " [2.9041029e-14]\n",
            " [9.9159586e-01]\n",
            " [1.1731815e-06]\n",
            " [3.7568694e-01]\n",
            " [9.9945366e-01]\n",
            " [9.9802303e-01]\n",
            " [8.9982855e-01]\n",
            " [1.6802379e-09]\n",
            " [5.0432116e-01]\n",
            " [9.7539401e-01]\n",
            " [9.8164809e-01]\n",
            " [2.4082983e-01]\n",
            " [9.1365170e-01]\n",
            " [1.8670678e-02]\n",
            " [9.9894416e-01]\n",
            " [9.9995583e-01]\n",
            " [6.6133055e-08]\n",
            " [9.9799168e-01]\n",
            " [2.0506515e-10]\n",
            " [9.9888068e-01]\n",
            " [9.9256086e-01]\n",
            " [5.8743184e-11]\n",
            " [8.0575705e-02]\n",
            " [9.9959660e-01]\n",
            " [1.7989212e-05]\n",
            " [9.0308159e-13]\n",
            " [9.7844326e-01]\n",
            " [9.4762170e-01]\n",
            " [9.9672359e-01]\n",
            " [8.6892797e-08]\n",
            " [9.9924111e-01]\n",
            " [9.9967980e-01]\n",
            " [5.7731118e-09]\n",
            " [3.7864822e-07]\n",
            " [7.0871058e-05]\n",
            " [4.3008113e-01]\n",
            " [9.9288207e-01]\n",
            " [9.8276132e-01]\n",
            " [9.9703813e-01]\n",
            " [9.9974775e-01]\n",
            " [9.8637569e-01]\n",
            " [1.4963746e-04]\n",
            " [9.9990565e-01]\n",
            " [9.2454123e-01]\n",
            " [9.9940526e-01]\n",
            " [2.5081635e-04]\n",
            " [9.9755871e-01]\n",
            " [9.9981689e-01]\n",
            " [9.9978387e-01]\n",
            " [9.5755410e-01]\n",
            " [9.9709821e-01]\n",
            " [9.9771917e-01]\n",
            " [7.3561455e-09]\n",
            " [7.8546488e-01]\n",
            " [9.8823023e-01]\n",
            " [2.7322769e-04]\n",
            " [9.9735957e-01]\n",
            " [9.9658352e-01]\n",
            " [9.4157577e-01]\n",
            " [9.2331845e-01]\n",
            " [6.5428418e-01]\n",
            " [1.4073640e-02]\n",
            " [3.1630921e-01]\n",
            " [9.7190106e-01]\n",
            " [9.9995893e-01]\n",
            " [9.7608948e-01]\n",
            " [4.9885213e-03]\n",
            " [9.7279084e-01]\n",
            " [5.9780431e-01]\n",
            " [9.9092746e-01]\n",
            " [9.9962926e-01]\n",
            " [4.3372771e-01]\n",
            " [2.2314440e-05]\n",
            " [3.9782253e-01]\n",
            " [1.7145276e-04]\n",
            " [9.9878323e-01]\n",
            " [9.9486125e-01]\n",
            " [8.3120310e-01]\n",
            " [9.9604654e-01]\n",
            " [5.0091083e-05]\n",
            " [9.9442726e-01]\n",
            " [9.9690580e-01]\n",
            " [9.7944421e-01]\n",
            " [9.8990166e-01]\n",
            " [9.8499370e-01]\n",
            " [4.5161480e-01]\n",
            " [9.9990618e-01]\n",
            " [9.7836745e-01]\n",
            " [6.4747018e-01]\n",
            " [5.4550572e-05]\n",
            " [1.7183887e-20]\n",
            " [6.7654657e-01]\n",
            " [9.4445193e-01]\n",
            " [9.9317861e-01]\n",
            " [9.9937510e-01]\n",
            " [1.1236005e-09]\n",
            " [3.9711595e-04]\n",
            " [9.9722385e-01]\n",
            " [9.2238224e-01]\n",
            " [3.3233428e-01]\n",
            " [4.9261257e-06]\n",
            " [9.4293267e-02]\n",
            " [3.8277048e-01]\n",
            " [1.0354637e-11]\n",
            " [9.9975693e-01]\n",
            " [2.2097193e-08]\n",
            " [9.9097210e-01]\n",
            " [4.4819274e-08]\n",
            " [9.6438205e-01]\n",
            " [1.5878859e-07]\n",
            " [9.9760354e-01]\n",
            " [9.9423718e-01]\n",
            " [1.3898787e-01]\n",
            " [9.4219261e-01]\n",
            " [9.9762928e-01]\n",
            " [4.9702925e-07]\n",
            " [2.7533664e-09]\n",
            " [7.3902222e-20]\n",
            " [9.9972749e-01]\n",
            " [6.6694617e-04]\n",
            " [9.8758566e-01]\n",
            " [9.8324776e-01]\n",
            " [9.9962759e-01]\n",
            " [3.4657717e-03]\n",
            " [9.9934435e-01]\n",
            " [9.9982882e-01]\n",
            " [8.1076622e-03]\n",
            " [9.9851441e-01]\n",
            " [7.5587863e-01]\n",
            " [9.9116707e-01]\n",
            " [8.2463142e-05]\n",
            " [4.8965217e-07]\n",
            " [9.9954921e-01]\n",
            " [9.4111156e-01]\n",
            " [9.9941796e-01]\n",
            " [6.7023248e-15]\n",
            " [2.5002260e-09]\n",
            " [2.2529691e-02]\n",
            " [9.9841541e-01]\n",
            " [9.9896526e-01]\n",
            " [9.9968290e-01]\n",
            " [9.9803627e-01]\n",
            " [9.7907531e-01]\n",
            " [8.1919217e-01]\n",
            " [9.9950045e-01]\n",
            " [9.9192095e-01]\n",
            " [1.7297603e-12]\n",
            " [4.0711061e-09]\n",
            " [9.8215878e-01]\n",
            " [7.9440564e-01]\n",
            " [7.5354117e-01]]\n"
          ],
          "name": "stdout"
        }
      ]
    },
    {
      "cell_type": "code",
      "metadata": {
        "id": "Scia8zgrbdN9",
        "colab_type": "code",
        "colab": {
          "base_uri": "https://localhost:8080/",
          "height": 153
        },
        "outputId": "edc0b34f-9906-4cee-aa4d-9e6bca0d74a2"
      },
      "source": [
        "P = np.round(P).flatten()\n",
        "print(P)"
      ],
      "execution_count": 39,
      "outputs": [
        {
          "output_type": "stream",
          "text": [
            "[1. 1. 0. 1. 1. 1. 0. 0. 1. 0. 1. 1. 0. 1. 0. 1. 1. 0. 1. 1. 0. 0. 1. 1.\n",
            " 0. 1. 1. 0. 0. 1. 1. 0. 0. 0. 0. 1. 1. 0. 1. 0. 0. 1. 1. 1. 0. 1. 1. 1.\n",
            " 0. 1. 0. 1. 1. 0. 1. 0. 1. 1. 0. 0. 1. 0. 0. 1. 1. 1. 0. 1. 1. 0. 0. 0.\n",
            " 0. 1. 1. 1. 1. 1. 0. 1. 1. 1. 0. 1. 1. 1. 1. 1. 1. 0. 1. 1. 0. 1. 1. 1.\n",
            " 1. 1. 0. 0. 1. 1. 1. 0. 1. 1. 1. 1. 0. 0. 0. 0. 1. 1. 1. 1. 0. 1. 1. 1.\n",
            " 1. 1. 0. 1. 1. 1. 0. 0. 1. 1. 1. 1. 0. 0. 1. 1. 0. 0. 0. 0. 0. 1. 0. 1.\n",
            " 0. 1. 0. 1. 1. 0. 1. 1. 0. 0. 0. 1. 0. 1. 1. 1. 0. 1. 1. 0. 1. 1. 1. 0.\n",
            " 0. 1. 1. 1. 0. 0. 0. 1. 1. 1. 1. 1. 1. 1. 1. 0. 0. 1. 1. 1.]\n"
          ],
          "name": "stdout"
        }
      ]
    },
    {
      "cell_type": "code",
      "metadata": {
        "id": "gr9BPEaGbkIv",
        "colab_type": "code",
        "colab": {
          "base_uri": "https://localhost:8080/",
          "height": 88
        },
        "outputId": "99a0303f-65c3-4f20-b306-331d82f7d19f"
      },
      "source": [
        "# Calculate the accuracy, compare it to evaluate() output\n",
        "print(\"Manually calculated accuracy:\", np.mean(P == y_test))\n",
        "print(\"Evaluate output:\", model.evaluate(X_test, y_test))"
      ],
      "execution_count": 40,
      "outputs": [
        {
          "output_type": "stream",
          "text": [
            "Manually calculated accuracy: 0.9468085106382979\n",
            "6/6 [==============================] - 0s 1ms/step - loss: 0.1402 - accuracy: 0.9468\n",
            "Evaluate output: [0.14016015827655792, 0.9468085169792175]\n"
          ],
          "name": "stdout"
        }
      ]
    },
    {
      "cell_type": "code",
      "metadata": {
        "id": "W6glOx_pbq54",
        "colab_type": "code",
        "colab": {}
      },
      "source": [
        "model.save('linearclassifier.h5')"
      ],
      "execution_count": 41,
      "outputs": []
    },
    {
      "cell_type": "code",
      "metadata": {
        "id": "q1IBsKO0b6ve",
        "colab_type": "code",
        "colab": {
          "base_uri": "https://localhost:8080/",
          "height": 68
        },
        "outputId": "6b8a18e6-49ff-403f-8b5f-a8568abdcf04"
      },
      "source": [
        "!ls -lh "
      ],
      "execution_count": 42,
      "outputs": [
        {
          "output_type": "stream",
          "text": [
            "total 24K\n",
            "-rw-r--r-- 1 root root  19K Sep  8 11:17 linearclassifier.h5\n",
            "drwxr-xr-x 1 root root 4.0K Aug 27 16:39 sample_data\n"
          ],
          "name": "stdout"
        }
      ]
    },
    {
      "cell_type": "code",
      "metadata": {
        "id": "OTfR46pZb9I8",
        "colab_type": "code",
        "colab": {
          "base_uri": "https://localhost:8080/",
          "height": 88
        },
        "outputId": "b7a68af8-dcbf-4eae-96c1-57b6c566c4c0"
      },
      "source": [
        "model = tf.keras.models.load_model('linearclassifier.h5')\n",
        "print(model.layers)\n",
        "model.evaluate(X_test, y_test)"
      ],
      "execution_count": 43,
      "outputs": [
        {
          "output_type": "stream",
          "text": [
            "[<tensorflow.python.keras.layers.core.Dense object at 0x7f9c183b6320>]\n",
            "6/6 [==============================] - 0s 1ms/step - loss: 0.1402 - accuracy: 0.9468\n"
          ],
          "name": "stdout"
        },
        {
          "output_type": "execute_result",
          "data": {
            "text/plain": [
              "[0.14016015827655792, 0.9468085169792175]"
            ]
          },
          "metadata": {
            "tags": []
          },
          "execution_count": 43
        }
      ]
    },
    {
      "cell_type": "code",
      "metadata": {
        "id": "vCoxaRL1cEOU",
        "colab_type": "code",
        "colab": {
          "base_uri": "https://localhost:8080/",
          "height": 17
        },
        "outputId": "b7ab0925-935b-4880-e1ff-48b48f9e23c5"
      },
      "source": [
        "from google.colab import files\n",
        "files.download('linearclassifier.h5')"
      ],
      "execution_count": 44,
      "outputs": [
        {
          "output_type": "display_data",
          "data": {
            "application/javascript": [
              "\n",
              "    async function download(id, filename, size) {\n",
              "      if (!google.colab.kernel.accessAllowed) {\n",
              "        return;\n",
              "      }\n",
              "      const div = document.createElement('div');\n",
              "      const label = document.createElement('label');\n",
              "      label.textContent = `Downloading \"${filename}\": `;\n",
              "      div.appendChild(label);\n",
              "      const progress = document.createElement('progress');\n",
              "      progress.max = size;\n",
              "      div.appendChild(progress);\n",
              "      document.body.appendChild(div);\n",
              "\n",
              "      const buffers = [];\n",
              "      let downloaded = 0;\n",
              "\n",
              "      const channel = await google.colab.kernel.comms.open(id);\n",
              "      // Send a message to notify the kernel that we're ready.\n",
              "      channel.send({})\n",
              "\n",
              "      for await (const message of channel.messages) {\n",
              "        // Send a message to notify the kernel that we're ready.\n",
              "        channel.send({})\n",
              "        if (message.buffers) {\n",
              "          for (const buffer of message.buffers) {\n",
              "            buffers.push(buffer);\n",
              "            downloaded += buffer.byteLength;\n",
              "            progress.value = downloaded;\n",
              "          }\n",
              "        }\n",
              "      }\n",
              "      const blob = new Blob(buffers, {type: 'application/binary'});\n",
              "      const a = document.createElement('a');\n",
              "      a.href = window.URL.createObjectURL(blob);\n",
              "      a.download = filename;\n",
              "      div.appendChild(a);\n",
              "      a.click();\n",
              "      div.remove();\n",
              "    }\n",
              "  "
            ],
            "text/plain": [
              "<IPython.core.display.Javascript object>"
            ]
          },
          "metadata": {
            "tags": []
          }
        },
        {
          "output_type": "display_data",
          "data": {
            "application/javascript": [
              "download(\"download_b128f15f-e2e3-4899-b687-c84242e4d196\", \"linearclassifier.h5\", 18488)"
            ],
            "text/plain": [
              "<IPython.core.display.Javascript object>"
            ]
          },
          "metadata": {
            "tags": []
          }
        }
      ]
    },
    {
      "cell_type": "code",
      "metadata": {
        "id": "m4PnFZaDcI2j",
        "colab_type": "code",
        "colab": {}
      },
      "source": [
        ""
      ],
      "execution_count": null,
      "outputs": []
    }
  ]
}