{
  "nbformat": 4,
  "nbformat_minor": 0,
  "metadata": {
    "colab": {
      "name": "MNIST10 update",
      "provenance": [],
      "collapsed_sections": [],
      "authorship_tag": "ABX9TyPpwGsQqgYQRd9hfCMfByIz",
      "include_colab_link": true
    },
    "kernelspec": {
      "name": "python3",
      "display_name": "Python 3"
    },
    "accelerator": "GPU"
  },
  "cells": [
    {
      "cell_type": "markdown",
      "metadata": {
        "id": "view-in-github",
        "colab_type": "text"
      },
      "source": [
        "<a href=\"https://colab.research.google.com/github/alicepearse/DL_prac/blob/master/MNIST10_update.ipynb\" target=\"_parent\"><img src=\"https://colab.research.google.com/assets/colab-badge.svg\" alt=\"Open In Colab\"/></a>"
      ]
    },
    {
      "cell_type": "code",
      "metadata": {
        "id": "HQ2945o4CDDL",
        "colab_type": "code",
        "colab": {}
      },
      "source": [
        "import tensorflow as tf\n",
        "from tensorflow.keras.layers import Input, Conv2D, Dense, Flatten, Dropout, GlobalMaxPooling2D, MaxPooling2D, BatchNormalization\n",
        "from tensorflow.keras.models import Model\n",
        "\n",
        "import numpy as np\n",
        "import matplotlib.pyplot as plt\n",
        "% matplotlib inline"
      ],
      "execution_count": 1,
      "outputs": []
    },
    {
      "cell_type": "code",
      "metadata": {
        "id": "T9L722LlD6Cw",
        "colab_type": "code",
        "colab": {
          "base_uri": "https://localhost:8080/",
          "height": 85
        },
        "outputId": "51180cd5-c39b-42dd-9402-d5ff6ea99025"
      },
      "source": [
        "cifar10 = tf.keras.datasets.cifar10\n",
        "\n",
        "(x_train, y_train), (x_test, y_test) = cifar10.load_data()\n",
        "x_train, x_test = x_train / 255, x_test / 255\n",
        "y_train, y_test = y_train.flatten(), y_test.flatten()\n",
        "print(\"x_train shape:\", x_train.shape)\n",
        "print(\"y_train shape:\", y_train.shape)"
      ],
      "execution_count": 2,
      "outputs": [
        {
          "output_type": "stream",
          "text": [
            "Downloading data from https://www.cs.toronto.edu/~kriz/cifar-10-python.tar.gz\n",
            "170500096/170498071 [==============================] - 4s 0us/step\n",
            "x_train shape: (50000, 32, 32, 3)\n",
            "y_train shape: (50000,)\n"
          ],
          "name": "stdout"
        }
      ]
    },
    {
      "cell_type": "code",
      "metadata": {
        "id": "xSv-FOx1HY77",
        "colab_type": "code",
        "colab": {
          "base_uri": "https://localhost:8080/",
          "height": 34
        },
        "outputId": "1548cab9-91f7-4768-9f77-5d823aa66648"
      },
      "source": [
        "# set classes\n",
        "K = len(set(y_train))\n",
        "print(\"Number classes:\", K)"
      ],
      "execution_count": 3,
      "outputs": [
        {
          "output_type": "stream",
          "text": [
            "Number classes: 10\n"
          ],
          "name": "stdout"
        }
      ]
    },
    {
      "cell_type": "code",
      "metadata": {
        "id": "rUzdCeKnIBPA",
        "colab_type": "code",
        "colab": {}
      },
      "source": [
        "# Build the model using the functional API\n",
        "i = Input(shape = x_train[0].shape)\n",
        "# x = Conv2D(32, (3, 3), strides=2, activation='relu')(i)\n",
        "# x = Conv2D(64, (3, 3), strides=2, activation='relu')(x)\n",
        "# x = Conv2D(128, (3, 3), strides=2, activation='relu')(x)\n",
        "\n",
        "x = Conv2D(32, (3, 3), activation='relu', padding='same')(i)\n",
        "x = BatchNormalization()(x)\n",
        "x = Conv2D(32, (3, 3), activation='relu', padding='same')(x)\n",
        "x = BatchNormalization()(x)\n",
        "x = MaxPooling2D((2, 2))(x)\n",
        "x = Conv2D(64, (3, 3), activation='relu', padding='same')(x)\n",
        "x = BatchNormalization()(x)\n",
        "x = Conv2D(64, (3, 3), activation='relu', padding='same')(x)\n",
        "x = BatchNormalization()(x)\n",
        "x = MaxPooling2D((2,2))(x)\n",
        "x = Conv2D(128, (3, 3), activation='relu', padding='same')(x)\n",
        "x = BatchNormalization()(x)\n",
        "x = Conv2D(128, (3, 3), activation='relu', padding='same')(x)\n",
        "x = BatchNormalization()(x)\n",
        "x = MaxPooling2D((2, 2))(x)\n",
        "x = Flatten()(x)\n",
        "x = Dropout(0.5)(x)\n",
        "x = Dense(1024, activation='relu')(x)\n",
        "x = Dropout(0.2)(x)\n",
        "x = Dense(K, activation='softmax')(x)\n",
        "\n",
        "model = Model(i, x)"
      ],
      "execution_count": 4,
      "outputs": []
    },
    {
      "cell_type": "code",
      "metadata": {
        "id": "1s7_CigEKvLB",
        "colab_type": "code",
        "colab": {
          "base_uri": "https://localhost:8080/",
          "height": 1000
        },
        "outputId": "293f6b54-b746-4a24-a76f-e69be21fd8c0"
      },
      "source": [
        "# compile and fit\n",
        "model.compile(optimizer='adam',\n",
        "              loss = 'sparse_categorical_crossentropy',\n",
        "              metrics = ['accuracy'])\n",
        "\n",
        "batch_size = 32\n",
        "data_generator = tf.keras.preprocessing.image.ImageDataGenerator(width_shift_range=0.1, height_shift_range=0.1, horizontal_flip=True)\n",
        "train_generator = data_generator.flow(x_train, y_train, batch_size)\n",
        "steps_per_epoch = x_train.shape[0] // batch_size\n",
        "r = model.fit(train_generator, validation_data=(x_test, y_test), steps_per_epoch=steps_per_epoch, epochs=50)"
      ],
      "execution_count": 5,
      "outputs": [
        {
          "output_type": "stream",
          "text": [
            "Epoch 1/50\n",
            "1562/1562 [==============================] - 28s 18ms/step - loss: 1.5268 - accuracy: 0.4717 - val_loss: 1.2858 - val_accuracy: 0.5573\n",
            "Epoch 2/50\n",
            "1562/1562 [==============================] - 27s 17ms/step - loss: 1.0753 - accuracy: 0.6245 - val_loss: 0.9170 - val_accuracy: 0.6879\n",
            "Epoch 3/50\n",
            "1562/1562 [==============================] - 27s 17ms/step - loss: 0.9160 - accuracy: 0.6841 - val_loss: 0.8629 - val_accuracy: 0.7033\n",
            "Epoch 4/50\n",
            "1562/1562 [==============================] - 27s 17ms/step - loss: 0.8234 - accuracy: 0.7186 - val_loss: 0.8527 - val_accuracy: 0.7183\n",
            "Epoch 5/50\n",
            "1562/1562 [==============================] - 27s 17ms/step - loss: 0.7565 - accuracy: 0.7431 - val_loss: 0.8401 - val_accuracy: 0.7109\n",
            "Epoch 6/50\n",
            "1562/1562 [==============================] - 26s 17ms/step - loss: 0.7013 - accuracy: 0.7609 - val_loss: 0.6900 - val_accuracy: 0.7706\n",
            "Epoch 7/50\n",
            "1562/1562 [==============================] - 26s 17ms/step - loss: 0.6580 - accuracy: 0.7750 - val_loss: 0.6173 - val_accuracy: 0.7891\n",
            "Epoch 8/50\n",
            "1562/1562 [==============================] - 26s 16ms/step - loss: 0.6176 - accuracy: 0.7899 - val_loss: 0.6092 - val_accuracy: 0.8000\n",
            "Epoch 9/50\n",
            "1562/1562 [==============================] - 26s 16ms/step - loss: 0.5824 - accuracy: 0.8021 - val_loss: 0.6009 - val_accuracy: 0.8040\n",
            "Epoch 10/50\n",
            "1562/1562 [==============================] - 26s 17ms/step - loss: 0.5524 - accuracy: 0.8117 - val_loss: 0.6040 - val_accuracy: 0.7966\n",
            "Epoch 11/50\n",
            "1562/1562 [==============================] - 26s 17ms/step - loss: 0.5239 - accuracy: 0.8232 - val_loss: 0.5603 - val_accuracy: 0.8136\n",
            "Epoch 12/50\n",
            "1562/1562 [==============================] - 26s 17ms/step - loss: 0.5015 - accuracy: 0.8291 - val_loss: 0.4792 - val_accuracy: 0.8386\n",
            "Epoch 13/50\n",
            "1562/1562 [==============================] - 27s 17ms/step - loss: 0.4824 - accuracy: 0.8345 - val_loss: 0.5009 - val_accuracy: 0.8293\n",
            "Epoch 14/50\n",
            "1562/1562 [==============================] - 26s 17ms/step - loss: 0.4640 - accuracy: 0.8410 - val_loss: 0.5012 - val_accuracy: 0.8335\n",
            "Epoch 15/50\n",
            "1562/1562 [==============================] - 27s 17ms/step - loss: 0.4477 - accuracy: 0.8475 - val_loss: 0.6080 - val_accuracy: 0.8031\n",
            "Epoch 16/50\n",
            "1562/1562 [==============================] - 26s 17ms/step - loss: 0.4388 - accuracy: 0.8517 - val_loss: 0.4213 - val_accuracy: 0.8576\n",
            "Epoch 17/50\n",
            "1562/1562 [==============================] - 27s 17ms/step - loss: 0.4229 - accuracy: 0.8562 - val_loss: 0.4385 - val_accuracy: 0.8533\n",
            "Epoch 18/50\n",
            "1562/1562 [==============================] - 26s 17ms/step - loss: 0.4057 - accuracy: 0.8605 - val_loss: 0.4187 - val_accuracy: 0.8609\n",
            "Epoch 19/50\n",
            "1562/1562 [==============================] - 26s 17ms/step - loss: 0.4015 - accuracy: 0.8639 - val_loss: 0.5355 - val_accuracy: 0.8276\n",
            "Epoch 20/50\n",
            "1562/1562 [==============================] - 26s 17ms/step - loss: 0.3900 - accuracy: 0.8658 - val_loss: 0.4207 - val_accuracy: 0.8601\n",
            "Epoch 21/50\n",
            "1562/1562 [==============================] - 27s 17ms/step - loss: 0.3808 - accuracy: 0.8703 - val_loss: 0.3975 - val_accuracy: 0.8630\n",
            "Epoch 22/50\n",
            "1562/1562 [==============================] - 27s 17ms/step - loss: 0.3727 - accuracy: 0.8709 - val_loss: 0.3866 - val_accuracy: 0.8689\n",
            "Epoch 23/50\n",
            "1562/1562 [==============================] - 26s 17ms/step - loss: 0.3687 - accuracy: 0.8741 - val_loss: 0.4146 - val_accuracy: 0.8594\n",
            "Epoch 24/50\n",
            "1562/1562 [==============================] - 27s 17ms/step - loss: 0.3564 - accuracy: 0.8772 - val_loss: 0.5507 - val_accuracy: 0.8244\n",
            "Epoch 25/50\n",
            "1562/1562 [==============================] - 27s 17ms/step - loss: 0.3509 - accuracy: 0.8791 - val_loss: 0.4255 - val_accuracy: 0.8569\n",
            "Epoch 26/50\n",
            "1562/1562 [==============================] - 26s 17ms/step - loss: 0.3434 - accuracy: 0.8833 - val_loss: 0.3961 - val_accuracy: 0.8682\n",
            "Epoch 27/50\n",
            "1562/1562 [==============================] - 26s 17ms/step - loss: 0.3438 - accuracy: 0.8819 - val_loss: 0.4714 - val_accuracy: 0.8470\n",
            "Epoch 28/50\n",
            "1562/1562 [==============================] - 27s 17ms/step - loss: 0.3325 - accuracy: 0.8863 - val_loss: 0.4094 - val_accuracy: 0.8629\n",
            "Epoch 29/50\n",
            "1562/1562 [==============================] - 27s 17ms/step - loss: 0.3304 - accuracy: 0.8871 - val_loss: 0.4240 - val_accuracy: 0.8591\n",
            "Epoch 30/50\n",
            "1562/1562 [==============================] - 27s 17ms/step - loss: 0.3191 - accuracy: 0.8916 - val_loss: 0.4105 - val_accuracy: 0.8619\n",
            "Epoch 31/50\n",
            "1562/1562 [==============================] - 27s 17ms/step - loss: 0.3195 - accuracy: 0.8914 - val_loss: 0.4014 - val_accuracy: 0.8690\n",
            "Epoch 32/50\n",
            "1562/1562 [==============================] - 26s 17ms/step - loss: 0.3117 - accuracy: 0.8925 - val_loss: 0.3904 - val_accuracy: 0.8715\n",
            "Epoch 33/50\n",
            "1562/1562 [==============================] - 27s 17ms/step - loss: 0.3067 - accuracy: 0.8949 - val_loss: 0.3824 - val_accuracy: 0.8724\n",
            "Epoch 34/50\n",
            "1562/1562 [==============================] - 27s 17ms/step - loss: 0.3079 - accuracy: 0.8925 - val_loss: 0.3853 - val_accuracy: 0.8712\n",
            "Epoch 35/50\n",
            "1562/1562 [==============================] - 27s 17ms/step - loss: 0.2972 - accuracy: 0.8984 - val_loss: 0.3898 - val_accuracy: 0.8720\n",
            "Epoch 36/50\n",
            "1562/1562 [==============================] - 27s 17ms/step - loss: 0.2933 - accuracy: 0.8994 - val_loss: 0.3622 - val_accuracy: 0.8785\n",
            "Epoch 37/50\n",
            "1562/1562 [==============================] - 27s 17ms/step - loss: 0.2923 - accuracy: 0.8990 - val_loss: 0.3773 - val_accuracy: 0.8746\n",
            "Epoch 38/50\n",
            "1562/1562 [==============================] - 27s 17ms/step - loss: 0.2877 - accuracy: 0.9014 - val_loss: 0.3755 - val_accuracy: 0.8750\n",
            "Epoch 39/50\n",
            "1562/1562 [==============================] - 27s 17ms/step - loss: 0.2820 - accuracy: 0.9030 - val_loss: 0.3621 - val_accuracy: 0.8812\n",
            "Epoch 40/50\n",
            "1562/1562 [==============================] - 28s 18ms/step - loss: 0.2827 - accuracy: 0.9036 - val_loss: 0.3798 - val_accuracy: 0.8763\n",
            "Epoch 41/50\n",
            "1562/1562 [==============================] - 27s 17ms/step - loss: 0.2734 - accuracy: 0.9063 - val_loss: 0.3565 - val_accuracy: 0.8826\n",
            "Epoch 42/50\n",
            "1562/1562 [==============================] - 27s 17ms/step - loss: 0.2744 - accuracy: 0.9060 - val_loss: 0.3872 - val_accuracy: 0.8764\n",
            "Epoch 43/50\n",
            "1562/1562 [==============================] - 27s 17ms/step - loss: 0.2721 - accuracy: 0.9065 - val_loss: 0.3754 - val_accuracy: 0.8789\n",
            "Epoch 44/50\n",
            "1562/1562 [==============================] - 27s 17ms/step - loss: 0.2715 - accuracy: 0.9076 - val_loss: 0.3764 - val_accuracy: 0.8789\n",
            "Epoch 45/50\n",
            "1562/1562 [==============================] - 26s 17ms/step - loss: 0.2682 - accuracy: 0.9078 - val_loss: 0.4065 - val_accuracy: 0.8663\n",
            "Epoch 46/50\n",
            "1562/1562 [==============================] - 27s 17ms/step - loss: 0.2667 - accuracy: 0.9079 - val_loss: 0.3546 - val_accuracy: 0.8874\n",
            "Epoch 47/50\n",
            "1562/1562 [==============================] - 27s 17ms/step - loss: 0.2596 - accuracy: 0.9108 - val_loss: 0.3351 - val_accuracy: 0.8909\n",
            "Epoch 48/50\n",
            "1562/1562 [==============================] - 26s 17ms/step - loss: 0.2564 - accuracy: 0.9127 - val_loss: 0.3330 - val_accuracy: 0.8897\n",
            "Epoch 49/50\n",
            "1562/1562 [==============================] - 27s 17ms/step - loss: 0.2578 - accuracy: 0.9123 - val_loss: 0.3784 - val_accuracy: 0.8760\n",
            "Epoch 50/50\n",
            "1562/1562 [==============================] - 26s 17ms/step - loss: 0.2573 - accuracy: 0.9114 - val_loss: 0.3888 - val_accuracy: 0.8774\n"
          ],
          "name": "stdout"
        }
      ]
    },
    {
      "cell_type": "code",
      "metadata": {
        "id": "Yy_KRxr2L17b",
        "colab_type": "code",
        "colab": {
          "base_uri": "https://localhost:8080/",
          "height": 282
        },
        "outputId": "c85f5c00-dce3-41fc-c4d5-00eb6270cea6"
      },
      "source": [
        "# plot loss per iteration\n",
        "plt.plot(r.history['loss'], label = 'loss')\n",
        "plt.plot(r.history['val_loss'], label = 'val_loss')\n",
        "plt.legend()"
      ],
      "execution_count": 6,
      "outputs": [
        {
          "output_type": "execute_result",
          "data": {
            "text/plain": [
              "<matplotlib.legend.Legend at 0x7f8f19fecf60>"
            ]
          },
          "metadata": {
            "tags": []
          },
          "execution_count": 6
        },
        {
          "output_type": "display_data",
          "data": {
            "image/png": "[encoded data removed]",
            "text/plain": [
              "<Figure size 432x288 with 1 Axes>"
            ]
          },
          "metadata": {
            "tags": [],
            "needs_background": "light"
          }
        }
      ]
    },
    {
      "cell_type": "code",
      "metadata": {
        "id": "w4Zshn-OMu9D",
        "colab_type": "code",
        "colab": {
          "base_uri": "https://localhost:8080/",
          "height": 282
        },
        "outputId": "9300d015-8d8e-4add-e388-454f730a9ff1"
      },
      "source": [
        "# plot accuracy per iteration\n",
        "plt.plot(r.history['accuracy'], label = 'acc')\n",
        "plt.plot(r.history['val_accuracy'], label = 'val_acc')\n",
        "plt.legend()"
      ],
      "execution_count": 7,
      "outputs": [
        {
          "output_type": "execute_result",
          "data": {
            "text/plain": [
              "<matplotlib.legend.Legend at 0x7f8f18207ac8>"
            ]
          },
          "metadata": {
            "tags": []
          },
          "execution_count": 7
        },
        {
          "output_type": "display_data",
          "data": {
            "image/png": "[encoded data removed]",
            "text/plain": [
              "<Figure size 432x288 with 1 Axes>"
            ]
          },
          "metadata": {
            "tags": [],
            "needs_background": "light"
          }
        }
      ]
    },
    {
      "cell_type": "code",
      "metadata": {
        "id": "BVselZ7CNVg3",
        "colab_type": "code",
        "colab": {
          "base_uri": "https://localhost:8080/",
          "height": 498
        },
        "outputId": "36c6f9ab-4ef6-4e1f-ce94-d487dac11414"
      },
      "source": [
        "# plot confusion matrix\n",
        "from sklearn.metrics import confusion_matrix\n",
        "import itertools\n",
        "\n",
        "def plot_confusion_matrix(cm, classes,\n",
        "                          normalize=False,\n",
        "                          title=\"Confusion matrix\",\n",
        "                          cmap=plt.cm.Blues):\n",
        "  if normalize:\n",
        "    cm = cm.astype('float') / cm.sum(axis=1)[:, np.newaxis]\n",
        "    print(\"Normalized Confusion Matrix\")\n",
        "  else:\n",
        "    print(\"Confusion Matrix, without normalization\")\n",
        "\n",
        "  print(cm)\n",
        "\n",
        "  plt.imshow(cm, interpolation=\"nearest\", cmap=cmap)\n",
        "  plt.title(title)\n",
        "  plt.colorbar()\n",
        "  tick_marks = np.arange(len(classes))\n",
        "  plt.xticks(tick_marks, classes, rotation=45)\n",
        "  plt.yticks(tick_marks, classes)\n",
        "  \n",
        "  fmt = '.2f' if normalize else 'd'\n",
        "  thresh = cm.max() / 2.\n",
        "  for i, j in itertools.product(range(cm.shape[0]), range(cm.shape[1])):\n",
        "    plt.text(j, i, format(cm[i, j], fmt),\n",
        "             horizontalalignment='center',\n",
        "             color = 'white' if cm[i, j] > thresh else 'black')\n",
        "  \n",
        "  plt.tight_layout()\n",
        "  plt.ylabel('True label')\n",
        "  plt.xlabel(\"Predicted label\")\n",
        "\n",
        "\n",
        "p_test = model.predict(x_test).argmax(axis=1)\n",
        "cm = confusion_matrix(y_test, p_test)\n",
        "plot_confusion_matrix(cm, list(range(10)))"
      ],
      "execution_count": 8,
      "outputs": [
        {
          "output_type": "stream",
          "text": [
            "Confusion Matrix, without normalization\n",
            "[[899   8  18  10   2   2   8   5  31  17]\n",
            " [  3 944   2   1   0   0   1   1   2  46]\n",
            " [ 31   0 762  52  32  17  83  12   5   6]\n",
            " [ 12   3  15 794  32  43  66  16   7  12]\n",
            " [ 10   0  11  26 863   7  67  14   1   1]\n",
            " [  4   2   8 157  19 745  38  19   2   6]\n",
            " [  2   3   5  22   2   3 959   1   1   2]\n",
            " [  6   0   5  26  15   8  10 924   1   5]\n",
            " [ 24  18   3   7   0   0   2   2 925  19]\n",
            " [  6  21   1   4   0   0   1   2   6 959]]\n"
          ],
          "name": "stdout"
        },
        {
          "output_type": "display_data",
          "data": {
            "image/png": "[encoded data removed]",
            "text/plain": [
              "<Figure size 432x288 with 2 Axes>"
            ]
          },
          "metadata": {
            "tags": [],
            "needs_background": "light"
          }
        }
      ]
    },
    {
      "cell_type": "code",
      "metadata": {
        "id": "ajmnqLjoTGyZ",
        "colab_type": "code",
        "colab": {}
      },
      "source": [
        "#label mapping\n",
        "labels = '''airplane\n",
        "automobile\n",
        "bird\n",
        "cat\n",
        "deer\n",
        "dog\n",
        "frog\n",
        "horse\n",
        "ship\n",
        "truck'''.split()"
      ],
      "execution_count": 9,
      "outputs": []
    },
    {
      "cell_type": "code",
      "metadata": {
        "id": "LNkYN1DxTbmZ",
        "colab_type": "code",
        "colab": {
          "base_uri": "https://localhost:8080/",
          "height": 298
        },
        "outputId": "a17e72db-dad2-4e50-f13c-009d000b30d3"
      },
      "source": [
        "# Show some misclassified examples\n",
        "misclassified_idx = np.where(p_test != y_test)[0]\n",
        "i = np.random.choice(misclassified_idx)\n",
        "plt.imshow(x_test[i], cmap='gray')\n",
        "plt.title(\"True label: %s Predicted: %s\" % (labels[y_test[i]], labels[p_test[i]]))"
      ],
      "execution_count": 10,
      "outputs": [
        {
          "output_type": "execute_result",
          "data": {
            "text/plain": [
              "Text(0.5, 1.0, 'True label: bird Predicted: airplane')"
            ]
          },
          "metadata": {
            "tags": []
          },
          "execution_count": 10
        },
        {
          "output_type": "display_data",
          "data": {
            "image/png": "[encoded data removed]",
            "text/plain": [
              "<Figure size 432x288 with 1 Axes>"
            ]
          },
          "metadata": {
            "tags": [],
            "needs_background": "light"
          }
        }
      ]
    },
    {
      "cell_type": "code",
      "metadata": {
        "id": "-KAg6tjmU3mc",
        "colab_type": "code",
        "colab": {}
      },
      "source": [
        ""
      ],
      "execution_count": 10,
      "outputs": []
    }
  ]
}