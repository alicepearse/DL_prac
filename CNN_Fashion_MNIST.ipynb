{
  "nbformat": 4,
  "nbformat_minor": 0,
  "metadata": {
    "colab": {
      "name": "CNN_Fashion_MNIST.ipynb",
      "provenance": [],
      "collapsed_sections": [],
      "authorship_tag": "ABX9TyPI9ZzFho8MLM41rMK2rFXk",
      "include_colab_link": true
    },
    "kernelspec": {
      "name": "python3",
      "display_name": "Python 3"
    }
  },
  "cells": [
    {
      "cell_type": "markdown",
      "metadata": {
        "id": "view-in-github",
        "colab_type": "text"
      },
      "source": [
        "<a href=\"https://colab.research.google.com/github/alicepearse/DL_prac/blob/master/CNN_Fashion_MNIST.ipynb\" target=\"_parent\"><img src=\"https://colab.research.google.com/assets/colab-badge.svg\" alt=\"Open In Colab\"/></a>"
      ]
    },
    {
      "cell_type": "code",
      "metadata": {
        "id": "wTwZbjmyN0Ux",
        "colab_type": "code",
        "colab": {}
      },
      "source": [
        "import numpy as np\n",
        "import matplotlib.pyplot as plt\n",
        "% matplotlib inline\n",
        "\n",
        "import tensorflow as tf\n",
        "from tensorflow.keras.layers import Input, Conv2D, Dense, Flatten, Dropout\n",
        "from tensorflow.keras.models import Model"
      ],
      "execution_count": 3,
      "outputs": []
    },
    {
      "cell_type": "code",
      "metadata": {
        "id": "QW2GWN9mPz_0",
        "colab_type": "code",
        "colab": {
          "base_uri": "https://localhost:8080/",
          "height": 34
        },
        "outputId": "74163a1d-7577-4936-e36f-85dd942d5655"
      },
      "source": [
        "# Load in the data\n",
        "fashion_mnist = tf.keras.datasets.fashion_mnist\n",
        "\n",
        "(x_train, y_train), (x_test, y_test) = fashion_mnist.load_data()\n",
        "x_train, x_test = x_train / 255, x_test / 255\n",
        "print(\"x_train shape:\", x_train.shape)"
      ],
      "execution_count": 4,
      "outputs": [
        {
          "output_type": "stream",
          "text": [
            "x_train shape: (60000, 28, 28)\n"
          ],
          "name": "stdout"
        }
      ]
    },
    {
      "cell_type": "code",
      "metadata": {
        "id": "Sz-BFSY9RnhU",
        "colab_type": "code",
        "colab": {
          "base_uri": "https://localhost:8080/",
          "height": 34
        },
        "outputId": "1e9f5fbf-f3a0-4138-b842-0537140ece08"
      },
      "source": [
        "# change data from 2D to 3D\n",
        "x_train = np.expand_dims(x_train, -1)\n",
        "X_test = np.expand_dims(x_test, -1)\n",
        "print(\"x_train shape:\", x_train.shape)"
      ],
      "execution_count": 6,
      "outputs": [
        {
          "output_type": "stream",
          "text": [
            "x_train shape: (60000, 28, 28, 1)\n"
          ],
          "name": "stdout"
        }
      ]
    },
    {
      "cell_type": "code",
      "metadata": {
        "id": "QicEhYDuwoSE",
        "colab_type": "code",
        "colab": {
          "base_uri": "https://localhost:8080/",
          "height": 34
        },
        "outputId": "bd69d89c-04f0-492b-eb54-66a001109677"
      },
      "source": [
        "# set number of classes\n",
        "K = len(set(y_train))\n",
        "print(\"number of classes:\", K)"
      ],
      "execution_count": 9,
      "outputs": [
        {
          "output_type": "stream",
          "text": [
            "number of classes: 10\n"
          ],
          "name": "stdout"
        }
      ]
    },
    {
      "cell_type": "code",
      "metadata": {
        "id": "8wup7xFJy8W_",
        "colab_type": "code",
        "colab": {}
      },
      "source": [
        "# Build model using functional API\n",
        "i = Input(shape = x_train[0].shape)\n",
        "x = Conv2D(32, (3, 3), strides=2, activation='relu')(i)\n",
        "x = Conv2D(64, (3, 3), strides=2, activation='relu')(x)\n",
        "x = Conv2D(128, (3, 3), strides=2, activation='relu')(x)\n",
        "x = Flatten()(x)\n",
        "x = Dropout(0.2)(x)\n",
        "x = Dense(512, activation='relu')(x)\n",
        "x = Dropout(0.2)(x)\n",
        "x = Dense(K, activation='softmax')(x)\n",
        "\n",
        "model = Model(i, x)"
      ],
      "execution_count": 13,
      "outputs": []
    },
    {
      "cell_type": "code",
      "metadata": {
        "id": "pXN93NJD2YSj",
        "colab_type": "code",
        "colab": {
          "base_uri": "https://localhost:8080/",
          "height": 527
        },
        "outputId": "050e51b7-17cd-401c-9ed4-b86c50a76dde"
      },
      "source": [
        "# compile and fit\n",
        "model.compile(optimizer = 'adam',\n",
        "              loss = 'sparse_categorical_crossentropy',\n",
        "              metrics = ['accuracy'])\n",
        "r = model.fit(x_train, y_train, validation_data = (x_test, y_test), epochs=15)"
      ],
      "execution_count": 15,
      "outputs": [
        {
          "output_type": "stream",
          "text": [
            "Epoch 1/15\n",
            "1875/1875 [==============================] - 27s 14ms/step - loss: 0.5169 - accuracy: 0.8092 - val_loss: 0.3909 - val_accuracy: 0.8525\n",
            "Epoch 2/15\n",
            "1875/1875 [==============================] - 27s 14ms/step - loss: 0.3582 - accuracy: 0.8651 - val_loss: 0.3511 - val_accuracy: 0.8677\n",
            "Epoch 3/15\n",
            "1875/1875 [==============================] - 27s 14ms/step - loss: 0.3095 - accuracy: 0.8827 - val_loss: 0.3282 - val_accuracy: 0.8747\n",
            "Epoch 4/15\n",
            "1875/1875 [==============================] - 27s 14ms/step - loss: 0.2762 - accuracy: 0.8960 - val_loss: 0.3041 - val_accuracy: 0.8859\n",
            "Epoch 5/15\n",
            "1875/1875 [==============================] - 26s 14ms/step - loss: 0.2513 - accuracy: 0.9062 - val_loss: 0.2966 - val_accuracy: 0.8952\n",
            "Epoch 6/15\n",
            "1875/1875 [==============================] - 26s 14ms/step - loss: 0.2291 - accuracy: 0.9131 - val_loss: 0.3077 - val_accuracy: 0.8947\n",
            "Epoch 7/15\n",
            "1875/1875 [==============================] - 26s 14ms/step - loss: 0.2118 - accuracy: 0.9200 - val_loss: 0.3025 - val_accuracy: 0.8987\n",
            "Epoch 8/15\n",
            "1875/1875 [==============================] - 26s 14ms/step - loss: 0.1972 - accuracy: 0.9241 - val_loss: 0.3078 - val_accuracy: 0.8937\n",
            "Epoch 9/15\n",
            "1875/1875 [==============================] - 25s 14ms/step - loss: 0.1791 - accuracy: 0.9321 - val_loss: 0.3002 - val_accuracy: 0.9017\n",
            "Epoch 10/15\n",
            "1875/1875 [==============================] - 28s 15ms/step - loss: 0.1682 - accuracy: 0.9354 - val_loss: 0.3355 - val_accuracy: 0.9020\n",
            "Epoch 11/15\n",
            "1875/1875 [==============================] - 27s 14ms/step - loss: 0.1575 - accuracy: 0.9388 - val_loss: 0.3345 - val_accuracy: 0.8920\n",
            "Epoch 12/15\n",
            "1875/1875 [==============================] - 25s 14ms/step - loss: 0.1506 - accuracy: 0.9428 - val_loss: 0.3348 - val_accuracy: 0.8985\n",
            "Epoch 13/15\n",
            "1875/1875 [==============================] - 26s 14ms/step - loss: 0.1414 - accuracy: 0.9452 - val_loss: 0.3389 - val_accuracy: 0.8999\n",
            "Epoch 14/15\n",
            "1875/1875 [==============================] - 26s 14ms/step - loss: 0.1309 - accuracy: 0.9499 - val_loss: 0.3451 - val_accuracy: 0.8993\n",
            "Epoch 15/15\n",
            "1875/1875 [==============================] - 26s 14ms/step - loss: 0.1247 - accuracy: 0.9516 - val_loss: 0.3613 - val_accuracy: 0.8994\n"
          ],
          "name": "stdout"
        }
      ]
    },
    {
      "cell_type": "code",
      "metadata": {
        "id": "r-T5QIqP3nCJ",
        "colab_type": "code",
        "colab": {
          "base_uri": "https://localhost:8080/",
          "height": 282
        },
        "outputId": "6d171e0a-b6d4-4c66-b0b3-d218b51b53ec"
      },
      "source": [
        "# plot loss per iteration\n",
        "plt.plot(r.history['loss'], label = 'loss')\n",
        "plt.plot(r.history['val_loss'], label = 'val_loss')\n",
        "plt.legend()"
      ],
      "execution_count": 16,
      "outputs": [
        {
          "output_type": "execute_result",
          "data": {
            "text/plain": [
              "<matplotlib.legend.Legend at 0x7f13e3e8cac8>"
            ]
          },
          "metadata": {
            "tags": []
          },
          "execution_count": 16
        },
        {
          "output_type": "display_data",
          "data": {
            "image/png": "[encoded data removed]",
            "text/plain": [
              "<Figure size 432x288 with 1 Axes>"
            ]
          },
          "metadata": {
            "tags": [],
            "needs_background": "light"
          }
        }
      ]
    },
    {
      "cell_type": "code",
      "metadata": {
        "id": "J2oX9WDC4xF3",
        "colab_type": "code",
        "colab": {
          "base_uri": "https://localhost:8080/",
          "height": 282
        },
        "outputId": "c8b8337e-b4db-4fa5-b6de-a0861da1daef"
      },
      "source": [
        "# plot accuracy per iteration\n",
        "plt.plot(r.history['accuracy'], label = 'acc')\n",
        "plt.plot(r.history['val_accuracy'], label = 'val_acc')\n",
        "plt.legend()"
      ],
      "execution_count": 18,
      "outputs": [
        {
          "output_type": "execute_result",
          "data": {
            "text/plain": [
              "<matplotlib.legend.Legend at 0x7f13e397e160>"
            ]
          },
          "metadata": {
            "tags": []
          },
          "execution_count": 18
        },
        {
          "output_type": "display_data",
          "data": {
            "image/png": "[encoded data removed]",
            "text/plain": [
              "<Figure size 432x288 with 1 Axes>"
            ]
          },
          "metadata": {
            "tags": [],
            "needs_background": "light"
          }
        }
      ]
    },
    {
      "cell_type": "code",
      "metadata": {
        "id": "v_Nq_Ya-5bct",
        "colab_type": "code",
        "colab": {
          "base_uri": "https://localhost:8080/",
          "height": 498
        },
        "outputId": "4063f525-34e4-476a-dccc-7784f4755649"
      },
      "source": [
        "# plot confusion matrix\n",
        "from sklearn.metrics import confusion_matrix\n",
        "import itertools\n",
        "\n",
        "def plot_confusion_matrix(cm, classes,\n",
        "                          normalize=False,\n",
        "                          title=\"Confusion matrix\",\n",
        "                          cmap=plt.cm.Blues):\n",
        "  if normalize:\n",
        "    cm = cm.astype('float') / cm.sum(axis=1)[:, np.newaxis]\n",
        "    print(\"Normalized confusion matrix\")\n",
        "  else:\n",
        "    print(\"Confusion matrix, without normalization\")\n",
        "\n",
        "  print(cm)\n",
        "\n",
        "  plt.imshow(cm, interpolation='nearest', cmap=cmap)\n",
        "  plt.title(title)\n",
        "  plt.colorbar()\n",
        "  tick_marks = np.arange(len(classes))\n",
        "  plt.xticks(tick_marks, classes, rotation=45)\n",
        "  plt.yticks(tick_marks, classes)\n",
        "\n",
        "  fmt = '.2f' if normalize else 'd'\n",
        "  thresh = cm.max() / 2.\n",
        "  for i, j in itertools.product(range(cm.shape[0]), range(cm.shape[1])):\n",
        "    plt.text(j, i, format(cm[i, j], fmt),\n",
        "             horizontalalignment=\"center\",\n",
        "             color=\"white\" if cm[i, j] > thresh else \"black\")\n",
        "    \n",
        "  plt.tight_layout()\n",
        "  plt.ylabel('True label')\n",
        "  plt.xlabel('Predicted label')\n",
        "\n",
        "p_test = model.predict(x_test).argmax(axis=1)\n",
        "cm = confusion_matrix(y_test, p_test)\n",
        "plot_confusion_matrix(cm, list(range(10)))"
      ],
      "execution_count": 23,
      "outputs": [
        {
          "output_type": "stream",
          "text": [
            "Confusion matrix, without normalization\n",
            "[[835   2  16  25   4   1 111   0   6   0]\n",
            " [  3 974   2  16   2   0   1   0   2   0]\n",
            " [ 11   1 826  15  41   0 104   0   2   0]\n",
            " [  9   4  14 920  28   0  24   0   1   0]\n",
            " [  0   1  70  28 795   0 105   0   1   0]\n",
            " [  0   1   0   1   0 975   0  15   0   8]\n",
            " [ 81   0  47  30  64   0 770   0   8   0]\n",
            " [  0   0   0   0   0  12   0 967   0  21]\n",
            " [  3   0   5   1   4   2   7   3 975   0]\n",
            " [  1   0   0   0   0  10   0  32   0 957]]\n"
          ],
          "name": "stdout"
        },
        {
          "output_type": "display_data",
          "data": {
            "image/png": "[encoded data removed]",
            "text/plain": [
              "<Figure size 432x288 with 2 Axes>"
            ]
          },
          "metadata": {
            "tags": [],
            "needs_background": "light"
          }
        }
      ]
    },
    {
      "cell_type": "code",
      "metadata": {
        "id": "4oRLX1PVAX79",
        "colab_type": "code",
        "colab": {}
      },
      "source": [
        "# Label mapping\n",
        "labels = '''T-shirt/top\n",
        "Trouser\n",
        "Pullover\n",
        "Dress\n",
        "Coat\n",
        "Sandal\n",
        "Shirt\n",
        "Sneaker\n",
        "Bag\n",
        "Ankle boot'''.split(\"\\n\")"
      ],
      "execution_count": 24,
      "outputs": []
    },
    {
      "cell_type": "code",
      "metadata": {
        "id": "fxMt2lkaA3wu",
        "colab_type": "code",
        "colab": {
          "base_uri": "https://localhost:8080/",
          "height": 281
        },
        "outputId": "72d93ec0-5985-40db-eb83-0e5d512be770"
      },
      "source": [
        "# Show some misclassified examples\n",
        "misclassified_idx = np.where(p_test != y_test)[0]\n",
        "i = np.random.choice(misclassified_idx)\n",
        "plt.imshow(x_test[i].reshape(28,28), cmap='gray')\n",
        "plt.title(\"True label: %s Predicted: %s\" % (labels[y_test[i]], labels[p_test[i]]));"
      ],
      "execution_count": 25,
      "outputs": [
        {
          "output_type": "display_data",
          "data": {
            "image/png": "[encoded data removed]",
            "text/plain": [
              "<Figure size 432x288 with 1 Axes>"
            ]
          },
          "metadata": {
            "tags": [],
            "needs_background": "light"
          }
        }
      ]
    },
    {
      "cell_type": "code",
      "metadata": {
        "id": "ryo51e0HBCVW",
        "colab_type": "code",
        "colab": {}
      },
      "source": [
        ""
      ],
      "execution_count": null,
      "outputs": []
    }
  ]
}