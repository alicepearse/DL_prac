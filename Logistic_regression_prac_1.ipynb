{
  "nbformat": 4,
  "nbformat_minor": 0,
  "metadata": {
    "colab": {
      "name": "Logistic_regression_prac_1.ipynb",
      "provenance": [],
      "collapsed_sections": [],
      "mount_file_id": "1PzvBI0bS5P-2GpUJ0YkwfYmEGfdV7SsY",
      "authorship_tag": "ABX9TyNSsBnb54hoknrHLyqv02E0",
      "include_colab_link": true
    },
    "kernelspec": {
      "name": "python3",
      "display_name": "Python 3"
    }
  },
  "cells": [
    {
      "cell_type": "markdown",
      "metadata": {
        "id": "view-in-github",
        "colab_type": "text"
      },
      "source": [
        "<a href=\"https://colab.research.google.com/github/alicepearse/DL_prac/blob/master/Logistic_regression_prac_1.ipynb\" target=\"_parent\"><img src=\"https://colab.research.google.com/assets/colab-badge.svg\" alt=\"Open In Colab\"/></a>"
      ]
    },
    {
      "cell_type": "code",
      "metadata": {
        "id": "ISQ5f3dvkcon",
        "colab_type": "code",
        "colab": {
          "base_uri": "https://localhost:8080/",
          "height": 68
        },
        "outputId": "51bdaa92-1057-46c4-d00a-2a7279477cf2"
      },
      "source": [
        "import numpy as np\n",
        "import matplotlib.pyplot as plt\n",
        "% matplotlib inline\n",
        "\n",
        "!ls \"/content/drive/My Drive/Machine Learning/Lazy Programmer/LP_Machine_learning/machine_learning_examples/ann_logistic_extra\"\n"
      ],
      "execution_count": null,
      "outputs": [
        {
          "output_type": "stream",
          "text": [
            "ann_predict.py\t    __init__.py\t\t       logistic_train.py\n",
            "ann_train.py\t    logistic_predict.py        process.py\n",
            "ecommerce_data.csv  logistic_softmax_train.py  __pycache__\n"
          ],
          "name": "stdout"
        }
      ]
    },
    {
      "cell_type": "code",
      "metadata": {
        "id": "0SFZI2Jeqq7C",
        "colab_type": "code",
        "colab": {
          "base_uri": "https://localhost:8080/",
          "height": 1000
        },
        "outputId": "84811d7b-031c-4be1-ec11-11b0733a5658"
      },
      "source": [
        "!cat '/content/drive/My Drive/Machine Learning/Lazy Programmer/LP_Machine_learning/machine_learning_examples/ann_logistic_extra/process.py'\n"
      ],
      "execution_count": null,
      "outputs": [
        {
          "output_type": "stream",
          "text": [
            "from __future__ import print_function, division\n",
            "from builtins import range\n",
            "# Note: you may need to update your version of future\n",
            "# sudo pip install -U future\n",
            "\n",
            "\n",
            "import numpy as np\n",
            "import pandas as pd\n",
            "import os\n",
            "\n",
            "# so scripts from other folders can import this file\n",
            "dir_path = os.path.abspath(os.path.dirname(os.path.realpath(__file__)))\n",
            "\n",
            "# normalize numerical columns\n",
            "# one-hot categorical columns\n",
            "\n",
            "def get_data():\n",
            "  df = pd.read_csv(dir_path + '/ecommerce_data.csv')\n",
            "\n",
            "  # just in case you're curious what's in it\n",
            "  # df.head()\n",
            "\n",
            "  # easier to work with numpy array\n",
            "  data = df.values\n",
            "\n",
            "  # shuffle it\n",
            "  np.random.shuffle(data)\n",
            "\n",
            "  # split features and labels\n",
            "  X = data[:,:-1]\n",
            "  Y = data[:,-1].astype(np.int32)\n",
            "\n",
            "  # one-hot encode the categorical data\n",
            "  # create a new matrix X2 with the correct number of columns\n",
            "  N, D = X.shape\n",
            "  X2 = np.zeros((N, D+3))\n",
            "  X2[:,0:(D-1)] = X[:,0:(D-1)] # non-categorical\n",
            "\n",
            "  # one-hot\n",
            "  for n in range(N):\n",
            "      t = int(X[n,D-1])\n",
            "      X2[n,t+D-1] = 1\n",
            "\n",
            "  # method 2\n",
            "  # Z = np.zeros((N, 4))\n",
            "  # Z[np.arange(N), X[:,D-1].astype(np.int32)] = 1\n",
            "  # # assign: X2[:,-4:] = Z\n",
            "  # assert(np.abs(X2[:,-4:] - Z).sum() < 1e-10)\n",
            "\n",
            "  # assign X2 back to X, since we don't need original anymore\n",
            "  X = X2\n",
            "\n",
            "  # split train and test\n",
            "  Xtrain = X[:-100]\n",
            "  Ytrain = Y[:-100]\n",
            "  Xtest = X[-100:]\n",
            "  Ytest = Y[-100:]\n",
            "\n",
            "  # normalize columns 1 and 2\n",
            "  for i in (1, 2):\n",
            "    m = Xtrain[:,i].mean()\n",
            "    s = Xtrain[:,i].std()\n",
            "    Xtrain[:,i] = (Xtrain[:,i] - m) / s\n",
            "    Xtest[:,i] = (Xtest[:,i] - m) / s\n",
            "\n",
            "  return Xtrain, Ytrain, Xtest, Ytest\n",
            "\n",
            "\n",
            "def get_binary_data():\n",
            "  # return only the data from the first 2 classes\n",
            "  Xtrain, Ytrain, Xtest, Ytest = get_data()\n",
            "  X2train = Xtrain[Ytrain <= 1]\n",
            "  Y2train = Ytrain[Ytrain <= 1]\n",
            "  X2test = Xtest[Ytest <= 1]\n",
            "  Y2test = Ytest[Ytest <= 1]\n",
            "  return X2train, Y2train, X2test, Y2test\n"
          ],
          "name": "stdout"
        }
      ]
    },
    {
      "cell_type": "code",
      "metadata": {
        "id": "fwkQ__kVvOKw",
        "colab_type": "code",
        "colab": {}
      },
      "source": [
        "!python '/content/drive/My Drive/Machine Learning/Lazy Programmer/LP_Machine_learning/machine_learning_examples/ann_logistic_extra/process.py'"
      ],
      "execution_count": null,
      "outputs": []
    },
    {
      "cell_type": "code",
      "metadata": {
        "id": "V3Q0Flm7srWx",
        "colab_type": "code",
        "colab": {
          "base_uri": "https://localhost:8080/",
          "height": 34
        },
        "outputId": "2f04207d-4c4d-4445-a3e4-e256359dcb40"
      },
      "source": [
        "print(get_binary_data)\n",
        "import sys\n",
        "sys.path.append('/content/drive/My Drive/Machine Learning/Lazy Programmer/LP_Machine_learning/machine_learning_examples/ann_logistic_extra')"
      ],
      "execution_count": null,
      "outputs": [
        {
          "output_type": "stream",
          "text": [
            "<function get_binary_data at 0x7ff15c53bc80>\n"
          ],
          "name": "stdout"
        }
      ]
    },
    {
      "cell_type": "code",
      "metadata": {
        "id": "TOgCmZrSvmPu",
        "colab_type": "code",
        "colab": {}
      },
      "source": [
        "Xtrain, Ytrain, Xtest, Ytest = get_binary_data()"
      ],
      "execution_count": null,
      "outputs": []
    },
    {
      "cell_type": "code",
      "metadata": {
        "id": "66xGRox-qLd5",
        "colab_type": "code",
        "colab": {}
      },
      "source": [
        "from sklearn.utils import shuffle"
      ],
      "execution_count": null,
      "outputs": []
    },
    {
      "cell_type": "code",
      "metadata": {
        "id": "AuMpk3u6uzLL",
        "colab_type": "code",
        "colab": {}
      },
      "source": [
        "D = Xtrain.shape[1]\n",
        "W = np.random.randn(D)\n",
        "b = 0"
      ],
      "execution_count": null,
      "outputs": []
    },
    {
      "cell_type": "code",
      "metadata": {
        "id": "K5-godhllLaW",
        "colab_type": "code",
        "colab": {}
      },
      "source": [
        "def sigmoid(a):\n",
        "  return 1 / (1 + np.exp(-a))"
      ],
      "execution_count": null,
      "outputs": []
    },
    {
      "cell_type": "code",
      "metadata": {
        "id": "WW30DN2nmE3H",
        "colab_type": "code",
        "colab": {}
      },
      "source": [
        "def forward(X, W, b):\n",
        "  return sigmoid(X.dot(W) + b)"
      ],
      "execution_count": null,
      "outputs": []
    },
    {
      "cell_type": "code",
      "metadata": {
        "id": "NzDULDZ-xg0I",
        "colab_type": "code",
        "colab": {}
      },
      "source": [
        "def classification_rate(Y, P):\n",
        "  return np.mean(Y == P)"
      ],
      "execution_count": null,
      "outputs": []
    },
    {
      "cell_type": "code",
      "metadata": {
        "id": "PSP2_jjrxzo6",
        "colab_type": "code",
        "colab": {}
      },
      "source": [
        "def cross_entropy(T, pY):\n",
        "  return -np.mean(T*np.log(pY) + (1 - T)*np.log(1 - pY))"
      ],
      "execution_count": null,
      "outputs": []
    },
    {
      "cell_type": "code",
      "metadata": {
        "id": "Tfp2Q797yS-m",
        "colab_type": "code",
        "colab": {
          "base_uri": "https://localhost:8080/",
          "height": 486
        },
        "outputId": "f7d48a71-dcdc-469e-df6f-cfa5236959a7"
      },
      "source": [
        "train_costs = []\n",
        "test_costs = []\n",
        "\n",
        "learning_rate = 0.001\n",
        "\n",
        "for i in range(10000):\n",
        "  # forward propagation\n",
        "  pYtrain = forward(Xtrain, W, b)\n",
        "  pYtest = forward(Xtest, W, b)\n",
        "\n",
        "  #calculate loss\n",
        "  ctrain = cross_entropy(Ytrain, pYtrain)\n",
        "  ctest = cross_entropy(Ytest, pYtest)\n",
        "  train_costs.append(ctrain)\n",
        "  test_costs.append(ctest)\n",
        "\n",
        "  # calculate weights and bias\n",
        "  W -= learning_rate*Xtrain.T.dot(pYtrain - Ytrain)\n",
        "  b -= learning_rate*(pYtrain - Ytrain).sum()\n",
        "\n",
        "  if i % 1000 == 0:\n",
        "    print(i, ctrain, ctest)\n",
        "\n",
        "print(\"Final train classification_rate:\", classification_rate(Ytrain, np.round(pYtrain)))\n",
        "print(\"Final test classification_rate:\", classification_rate(Ytest, np.round(pYtest)))\n",
        "\n",
        "legend1, = plt.plot(train_costs, label='train cost')\n",
        "legend2, = plt.plot(test_costs, label='test cost')\n",
        "plt.legend([legend1, legend2])"
      ],
      "execution_count": null,
      "outputs": [
        {
          "output_type": "stream",
          "text": [
            "0 1.4040519488853263 1.4778996372597746\n",
            "1000 0.19353292081769524 0.14636139199282586\n",
            "2000 0.192960911791888 0.14429805962883938\n",
            "3000 0.1929338566002531 0.14393415193613485\n",
            "4000 0.19293234720133642 0.14385282536249136\n",
            "5000 0.19293225994105676 0.14383356181164444\n",
            "6000 0.19293225485395898 0.14382892907992312\n",
            "7000 0.19293225455679405 0.14382781055234928\n",
            "8000 0.192932254539426 0.14382754022071698\n",
            "9000 0.19293225453841115 0.14382747486846242\n",
            "Final train classification_rate: 0.9717868338557993\n",
            "Final test classification_rate: 0.9746835443037974\n"
          ],
          "name": "stdout"
        },
        {
          "output_type": "execute_result",
          "data": {
            "text/plain": [
              "<matplotlib.legend.Legend at 0x7ff153ba99b0>"
            ]
          },
          "metadata": {
            "tags": []
          },
          "execution_count": 86
        },
        {
          "output_type": "display_data",
          "data": {
            "image/png": "[encoded data removed]",
            "text/plain": [
              "<Figure size 432x288 with 1 Axes>"
            ]
          },
          "metadata": {
            "tags": [],
            "needs_background": "light"
          }
        }
      ]
    },
    {
      "cell_type": "code",
      "metadata": {
        "id": "bitaZMCH23R8",
        "colab_type": "code",
        "colab": {}
      },
      "source": [
        ""
      ],
      "execution_count": null,
      "outputs": []
    }
  ]
}