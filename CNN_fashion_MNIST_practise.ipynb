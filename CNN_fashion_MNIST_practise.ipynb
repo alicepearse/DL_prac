{
  "nbformat": 4,
  "nbformat_minor": 0,
  "metadata": {
    "colab": {
      "name": "CNN_fashion_MNIST_practise.ipynb",
      "provenance": [],
      "authorship_tag": "ABX9TyODBLhvLV+36WWk7MwnfOf7",
      "include_colab_link": true
    },
    "kernelspec": {
      "name": "python3",
      "display_name": "Python 3"
    }
  },
  "cells": [
    {
      "cell_type": "markdown",
      "metadata": {
        "id": "view-in-github",
        "colab_type": "text"
      },
      "source": [
        "<a href=\"https://colab.research.google.com/github/alicepearse/DL_prac/blob/master/CNN_fashion_MNIST_practise.ipynb\" target=\"_parent\"><img src=\"https://colab.research.google.com/assets/colab-badge.svg\" alt=\"Open In Colab\"/></a>"
      ]
    },
    {
      "cell_type": "code",
      "metadata": {
        "id": "JcLqtSoFcS1V",
        "colab_type": "code",
        "colab": {}
      },
      "source": [
        "import tensorflow as tf\n",
        "import numpy as np\n",
        "import matplotlib.pyplot as plt\n",
        "%matplotlib inline\n",
        "\n",
        "from sklearn.model_selection import train_test_split\n",
        "from tensorflow.keras.models import Model\n",
        "from tensorflow.keras.layers import Input, Dense, Conv2D, Flatten, Dropout"
      ],
      "execution_count": 8,
      "outputs": []
    },
    {
      "cell_type": "code",
      "metadata": {
        "id": "JkpOPns3v9K7",
        "colab_type": "code",
        "colab": {}
      },
      "source": [
        "# Load the data\n",
        "fashion_mnist = tf.keras.datasets.fashion_mnist\n",
        "(x_train, y_train), (x_test, y_test) = fashion_mnist.load_data()\n",
        "#cifar = tf.keras.datasets.cifar10.load_data()"
      ],
      "execution_count": 39,
      "outputs": []
    },
    {
      "cell_type": "code",
      "metadata": {
        "id": "k_OClxVdwA-T",
        "colab_type": "code",
        "colab": {
          "base_uri": "https://localhost:8080/",
          "height": 34
        },
        "outputId": "baee6537-fccb-4adc-8ab5-4ffcd4e3091b"
      },
      "source": [
        "x_train, x_test = x_train/255. , x_test/255.\n",
        "print(\"x_train shape:\", x_train.shape)"
      ],
      "execution_count": 40,
      "outputs": [
        {
          "output_type": "stream",
          "text": [
            "x_train shape: (60000, 28, 28)\n"
          ],
          "name": "stdout"
        }
      ]
    },
    {
      "cell_type": "code",
      "metadata": {
        "id": "6nXrZFF_znxj",
        "colab_type": "code",
        "colab": {
          "base_uri": "https://localhost:8080/",
          "height": 51
        },
        "outputId": "28d013d6-83be-4be6-c159-c9cf0881170e"
      },
      "source": [
        "# reshape the data to add a colour channel if there isnt one\n",
        "x_train = np.expand_dims(x_train, -1)\n",
        "X_test = np.expand_dims(x_test, -1)\n",
        "# flatten labels if necessary\n",
        "# y_train = Flatten(y_train)\n",
        "print(x_train.shape)\n",
        "print(y_train.shape)"
      ],
      "execution_count": 41,
      "outputs": [
        {
          "output_type": "stream",
          "text": [
            "(60000, 28, 28, 1)\n",
            "(60000,)\n"
          ],
          "name": "stdout"
        }
      ]
    },
    {
      "cell_type": "code",
      "metadata": {
        "id": "fg7cZbbEz7jX",
        "colab_type": "code",
        "colab": {
          "base_uri": "https://localhost:8080/",
          "height": 34
        },
        "outputId": "fc45c8f1-47fb-4896-d211-00dd01c97e89"
      },
      "source": [
        "# number of classes\n",
        "K = len(set(y_train))\n",
        "print(\"Number of Classes:\", K)"
      ],
      "execution_count": 42,
      "outputs": [
        {
          "output_type": "stream",
          "text": [
            "Number of Classes: 10\n"
          ],
          "name": "stdout"
        }
      ]
    },
    {
      "cell_type": "code",
      "metadata": {
        "id": "SJ-4R3FJz-YV",
        "colab_type": "code",
        "colab": {}
      },
      "source": [
        "# Build the model\n",
        "i = Input(shape=x_train[0].shape)\n",
        "x = Conv2D(32, (3,3), strides=2, activation='relu')(i)\n",
        "x = Conv2D(64, (3,3), strides=2, activation='relu')(x)\n",
        "x = Conv2D(128, (3,3), strides=2, activation='relu')(x)\n",
        "x = Flatten()(x)\n",
        "x = Dropout(0.2)(x)\n",
        "x = Dense(512, activation='relu')(x)\n",
        "x = Dropout(0.2)(x)\n",
        "x = Dense(K, activation='softmax')(x)\n",
        "\n",
        "model = Model(i, x)"
      ],
      "execution_count": 43,
      "outputs": []
    },
    {
      "cell_type": "code",
      "metadata": {
        "id": "2fiFJa1q0RiQ",
        "colab_type": "code",
        "colab": {
          "base_uri": "https://localhost:8080/",
          "height": 527
        },
        "outputId": "07fb2214-474f-4d3d-ae7e-901734987e9e"
      },
      "source": [
        "# compile and fit\n",
        "model.compile(loss='sparse_categorical_crossentropy',\n",
        "              optimizer='adam',\n",
        "              metrics=['accuracy'])\n",
        "\n",
        "r = model.fit(x_train, y_train, validation_data=(x_test, y_test), epochs=15)"
      ],
      "execution_count": 44,
      "outputs": [
        {
          "output_type": "stream",
          "text": [
            "Epoch 1/15\n",
            "1875/1875 [==============================] - 27s 15ms/step - loss: 0.5186 - accuracy: 0.8073 - val_loss: 0.3997 - val_accuracy: 0.8479\n",
            "Epoch 2/15\n",
            "1875/1875 [==============================] - 26s 14ms/step - loss: 0.3611 - accuracy: 0.8645 - val_loss: 0.3524 - val_accuracy: 0.8659\n",
            "Epoch 3/15\n",
            "1875/1875 [==============================] - 26s 14ms/step - loss: 0.3128 - accuracy: 0.8820 - val_loss: 0.3579 - val_accuracy: 0.8684\n",
            "Epoch 4/15\n",
            "1875/1875 [==============================] - 26s 14ms/step - loss: 0.2818 - accuracy: 0.8938 - val_loss: 0.3092 - val_accuracy: 0.8851\n",
            "Epoch 5/15\n",
            "1875/1875 [==============================] - 26s 14ms/step - loss: 0.2563 - accuracy: 0.9033 - val_loss: 0.2869 - val_accuracy: 0.8936\n",
            "Epoch 6/15\n",
            "1875/1875 [==============================] - 26s 14ms/step - loss: 0.2327 - accuracy: 0.9113 - val_loss: 0.2990 - val_accuracy: 0.8914\n",
            "Epoch 7/15\n",
            "1875/1875 [==============================] - 26s 14ms/step - loss: 0.2135 - accuracy: 0.9189 - val_loss: 0.2993 - val_accuracy: 0.8905\n",
            "Epoch 8/15\n",
            "1875/1875 [==============================] - 26s 14ms/step - loss: 0.2003 - accuracy: 0.9240 - val_loss: 0.2968 - val_accuracy: 0.8982\n",
            "Epoch 9/15\n",
            "1875/1875 [==============================] - 26s 14ms/step - loss: 0.1865 - accuracy: 0.9291 - val_loss: 0.3139 - val_accuracy: 0.8969\n",
            "Epoch 10/15\n",
            "1875/1875 [==============================] - 26s 14ms/step - loss: 0.1730 - accuracy: 0.9333 - val_loss: 0.3098 - val_accuracy: 0.9027\n",
            "Epoch 11/15\n",
            "1875/1875 [==============================] - 26s 14ms/step - loss: 0.1585 - accuracy: 0.9389 - val_loss: 0.3280 - val_accuracy: 0.8957\n",
            "Epoch 12/15\n",
            "1875/1875 [==============================] - 27s 14ms/step - loss: 0.1533 - accuracy: 0.9417 - val_loss: 0.3216 - val_accuracy: 0.8983\n",
            "Epoch 13/15\n",
            "1875/1875 [==============================] - 26s 14ms/step - loss: 0.1426 - accuracy: 0.9459 - val_loss: 0.3163 - val_accuracy: 0.8992\n",
            "Epoch 14/15\n",
            "1875/1875 [==============================] - 26s 14ms/step - loss: 0.1320 - accuracy: 0.9495 - val_loss: 0.3242 - val_accuracy: 0.9031\n",
            "Epoch 15/15\n",
            "1875/1875 [==============================] - 26s 14ms/step - loss: 0.1265 - accuracy: 0.9518 - val_loss: 0.3539 - val_accuracy: 0.9044\n"
          ],
          "name": "stdout"
        }
      ]
    },
    {
      "cell_type": "code",
      "metadata": {
        "id": "oymgnmcJ0UrA",
        "colab_type": "code",
        "colab": {
          "base_uri": "https://localhost:8080/",
          "height": 282
        },
        "outputId": "a0ee22cb-921d-4026-b2b0-cf3018d4600d"
      },
      "source": [
        "# Plot loss\n",
        "plt.plot(r.history['loss'], label='loss')\n",
        "plt.plot(r.history['val_loss'], label='val_loss')\n",
        "plt.legend()"
      ],
      "execution_count": 45,
      "outputs": [
        {
          "output_type": "execute_result",
          "data": {
            "text/plain": [
              "<matplotlib.legend.Legend at 0x7fd9f1de4b38>"
            ]
          },
          "metadata": {
            "tags": []
          },
          "execution_count": 45
        },
        {
          "output_type": "display_data",
          "data": {
            "image/png": "[encoded data removed]",
            "text/plain": [
              "<Figure size 432x288 with 1 Axes>"
            ]
          },
          "metadata": {
            "tags": [],
            "needs_background": "light"
          }
        }
      ]
    },
    {
      "cell_type": "code",
      "metadata": {
        "id": "6wcyhgmi0ZPD",
        "colab_type": "code",
        "colab": {
          "base_uri": "https://localhost:8080/",
          "height": 282
        },
        "outputId": "8b592855-1ec2-4bc7-f499-22383081cd49"
      },
      "source": [
        "# Plot accuracy\n",
        "plt.plot(r.history['accuracy'], label='acc')\n",
        "plt.plot(r.history['val_accuracy'], label='val_acc')\n",
        "plt.legend()"
      ],
      "execution_count": 46,
      "outputs": [
        {
          "output_type": "execute_result",
          "data": {
            "text/plain": [
              "<matplotlib.legend.Legend at 0x7fd9f1d53be0>"
            ]
          },
          "metadata": {
            "tags": []
          },
          "execution_count": 46
        },
        {
          "output_type": "display_data",
          "data": {
            "image/png": "[encoded data removed]",
            "text/plain": [
              "<Figure size 432x288 with 1 Axes>"
            ]
          },
          "metadata": {
            "tags": [],
            "needs_background": "light"
          }
        }
      ]
    },
    {
      "cell_type": "code",
      "metadata": {
        "id": "eoWpwdNZ0bHr",
        "colab_type": "code",
        "colab": {
          "base_uri": "https://localhost:8080/",
          "height": 498
        },
        "outputId": "2fbf70f0-1ba2-4969-993c-895cb7738fdb"
      },
      "source": [
        "# Plot confusion matrix\n",
        "from sklearn.metrics import confusion_matrix\n",
        "import itertools\n",
        "\n",
        "def plot_confusion_matrix(cm, classes,\n",
        "                          normalize=False,\n",
        "                          title='Confusion matrix',\n",
        "                          cmap=plt.cm.Blues):\n",
        "  if normalize:\n",
        "    cm = cm.astype(\"float\") / cm.sum(axis=1)[:, np.newaxis]\n",
        "    print(\"Normalized confusion matrix\")\n",
        "  else:\n",
        "    print(\"Confusion matrix without normalization\")\n",
        "\n",
        "  print(cm)\n",
        "\n",
        "  plt.imshow(cm, interpolation='nearest', cmap=cmap)\n",
        "  plt.colorbar\n",
        "  plt.title(title)\n",
        "  tick_marks = np.arange(len(classes))\n",
        "  plt.xticks(tick_marks, classes, rotation=45)\n",
        "  plt.yticks(tick_marks, classes)\n",
        "\n",
        "  fmt = '.2f' if normalize else 'd'\n",
        "  thresh = cm.max() / 2.\n",
        "  for i, j in itertools.product(range(cm.shape[0]), range(cm.shape[1])):\n",
        "      plt.text(j, i, format(cm[i, j], fmt),\n",
        "               horizontalalignment=\"center\",\n",
        "               color=\"white\" if cm[i, j] > thresh else \"black\")\n",
        "\n",
        "  plt.tight_layout()\n",
        "  plt.ylabel('True label')\n",
        "  plt.xlabel('Predicted label')\n",
        "  plt.show()\n",
        "\n",
        "\n",
        "p_test = model.predict(x_test).argmax(axis=1)\n",
        "cm = confusion_matrix(y_test, p_test)\n",
        "plot_confusion_matrix(cm, list(range(10)))\n",
        "\n"
      ],
      "execution_count": 47,
      "outputs": [
        {
          "output_type": "stream",
          "text": [
            "Confusion matrix without normalization\n",
            "[[860   1  20  21   1   2  83   0  12   0]\n",
            " [  0 975   1  17   2   0   2   0   3   0]\n",
            " [ 21   1 889   9  28   0  52   0   0   0]\n",
            " [ 14   5  21 917  28   0  15   0   0   0]\n",
            " [  1   1  74  26 821   1  72   0   4   0]\n",
            " [  1   0   0   0   0 974   0  15   1   9]\n",
            " [106   0  75  29  65   0 708   0  17   0]\n",
            " [  0   0   0   0   0  13   0 955   1  31]\n",
            " [  0   1   3   5   3   4   5   2 977   0]\n",
            " [  0   0   1   0   0   6   0  25   0 968]]\n"
          ],
          "name": "stdout"
        },
        {
          "output_type": "display_data",
          "data": {
            "image/png": "[encoded data removed]",
            "text/plain": [
              "<Figure size 432x288 with 1 Axes>"
            ]
          },
          "metadata": {
            "tags": [],
            "needs_background": "light"
          }
        }
      ]
    },
    {
      "cell_type": "code",
      "metadata": {
        "id": "WLtDD-2OEJT0",
        "colab_type": "code",
        "colab": {}
      },
      "source": [
        "# Label mapping\n",
        "labels = '''T-shirt/top\n",
        "Trouser\n",
        "Pullover\n",
        "Dress\n",
        "Coat\n",
        "Sandal\n",
        "Shirt\n",
        "Sneaker\n",
        "Bag\n",
        "Ankle boot'''.split(\"\\n\")"
      ],
      "execution_count": 48,
      "outputs": []
    },
    {
      "cell_type": "code",
      "metadata": {
        "id": "Vdv7hWdB0hgB",
        "colab_type": "code",
        "colab": {
          "base_uri": "https://localhost:8080/",
          "height": 281
        },
        "outputId": "40662e9b-082c-4c08-84c6-ef4122aa82c4"
      },
      "source": [
        "# Show some misclassified examples\n",
        "misclassified_idx = np.where(p_test != y_test)[0]\n",
        "i = np.random.choice(misclassified_idx)\n",
        "plt.imshow(x_test[i].reshape(28,28), cmap='gray')\n",
        "plt.title(\"True label: %s Predicted: %s\" % (labels[y_test[i]], labels[p_test[i]]));"
      ],
      "execution_count": 49,
      "outputs": [
        {
          "output_type": "display_data",
          "data": {
            "image/png": "[encoded data removed]",
            "text/plain": [
              "<Figure size 432x288 with 1 Axes>"
            ]
          },
          "metadata": {
            "tags": [],
            "needs_background": "light"
          }
        }
      ]
    },
    {
      "cell_type": "code",
      "metadata": {
        "id": "NVzAwiZsDzY4",
        "colab_type": "code",
        "colab": {}
      },
      "source": [
        ""
      ],
      "execution_count": 49,
      "outputs": []
    }
  ]
}