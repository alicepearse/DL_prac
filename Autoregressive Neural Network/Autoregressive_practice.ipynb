{
  "nbformat": 4,
  "nbformat_minor": 0,
  "metadata": {
    "colab": {
      "name": "Autoregressive_practice.ipynb",
      "provenance": [],
      "authorship_tag": "ABX9TyNMiElG7b/diA8olymkw9f/",
      "include_colab_link": true
    },
    "kernelspec": {
      "name": "python3",
      "display_name": "Python 3"
    }
  },
  "cells": [
    {
      "cell_type": "markdown",
      "metadata": {
        "id": "view-in-github",
        "colab_type": "text"
      },
      "source": [
        "<a href=\"https://colab.research.google.com/github/alicepearse/DL_prac/blob/master/Autoregressive_practice.ipynb\" target=\"_parent\"><img src=\"https://colab.research.google.com/assets/colab-badge.svg\" alt=\"Open In Colab\"/></a>"
      ]
    },
    {
      "cell_type": "code",
      "metadata": {
        "id": "PEHi6a-_JFmg",
        "colab_type": "code",
        "colab": {}
      },
      "source": [
        "import tensorflow as tf\n",
        "import numpy as np\n",
        "import matplotlib.pyplot as plt\n",
        "%matplotlib inline"
      ],
      "execution_count": 1,
      "outputs": []
    },
    {
      "cell_type": "code",
      "metadata": {
        "id": "dnzrmgQhY1ua",
        "colab_type": "code",
        "colab": {}
      },
      "source": [
        "from tensorflow.keras.models import Model\n",
        "from tensorflow.keras.layers import Input, Dense\n",
        "from tensorflow.keras.optimizers import SGD, Adam"
      ],
      "execution_count": 3,
      "outputs": []
    },
    {
      "cell_type": "code",
      "metadata": {
        "id": "jrkhzhDAY3ee",
        "colab_type": "code",
        "colab": {
          "base_uri": "https://localhost:8080/",
          "height": 265
        },
        "outputId": "7fcfa7ea-04da-4242-8677-5349ab98fff9"
      },
      "source": [
        "# synthesize data\n",
        "series = np.sin(0.1*np.arange(200))\n",
        "\n",
        "# plot the data\n",
        "plt.plot(series)\n",
        "plt.show()"
      ],
      "execution_count": 4,
      "outputs": [
        {
          "output_type": "display_data",
          "data": {
            "image/png": "[encoded data removed]",
            "text/plain": [
              "<Figure size 432x288 with 1 Axes>"
            ]
          },
          "metadata": {
            "tags": [],
            "needs_background": "light"
          }
        }
      ]
    },
    {
      "cell_type": "code",
      "metadata": {
        "id": "IFYCe4qHaerL",
        "colab_type": "code",
        "colab": {
          "base_uri": "https://localhost:8080/",
          "height": 34
        },
        "outputId": "0ff37272-4bea-4921-ce47-09957c911de7"
      },
      "source": [
        "# build the dataset\n",
        "T = 10\n",
        "X = []\n",
        "Y = []\n",
        "for t in range(len(series) - T):\n",
        "  x = series[t:t+T]\n",
        "  X.append(x)\n",
        "  y = series[t+T]\n",
        "  Y.append(y)\n",
        "\n",
        "X = np.array(X).reshape(-1, T)\n",
        "Y = np.array(Y)\n",
        "N = len(X)\n",
        "print(\"X.shape\", X.shape, \"Y.shape\", Y.shape)"
      ],
      "execution_count": 5,
      "outputs": [
        {
          "output_type": "stream",
          "text": [
            "X.shape (190, 10) Y.shape (190,)\n"
          ],
          "name": "stdout"
        }
      ]
    },
    {
      "cell_type": "code",
      "metadata": {
        "id": "cv4FBfAocLFC",
        "colab_type": "code",
        "colab": {
          "base_uri": "https://localhost:8080/",
          "height": 1000
        },
        "outputId": "65352b86-0f31-4e57-f196-51f80be0f990"
      },
      "source": [
        "# build autoregressor linear model\n",
        "i = Input(shape=(T,))\n",
        "x = Dense(1)(i)\n",
        "model = Model(i, x)\n",
        "model.compile(loss='mse',\n",
        "              optimizer=Adam(lr=0.1))\n",
        "\n",
        "# train the RNN\n",
        "r = model.fit(\n",
        "    X[:-N//2], Y[:-N//2],\n",
        "    epochs=80,\n",
        "    validation_data = (X[-N//2:], Y[-N//2:]),\n",
        ")"
      ],
      "execution_count": 6,
      "outputs": [
        {
          "output_type": "stream",
          "text": [
            "Epoch 1/80\n",
            "3/3 [==============================] - 0s 44ms/step - loss: 0.9709 - val_loss: 0.4468\n",
            "Epoch 2/80\n",
            "3/3 [==============================] - 0s 11ms/step - loss: 0.5959 - val_loss: 0.4028\n",
            "Epoch 3/80\n",
            "3/3 [==============================] - 0s 8ms/step - loss: 0.2355 - val_loss: 0.1250\n",
            "Epoch 4/80\n",
            "3/3 [==============================] - 0s 8ms/step - loss: 0.1684 - val_loss: 0.1528\n",
            "Epoch 5/80\n",
            "3/3 [==============================] - 0s 8ms/step - loss: 0.1484 - val_loss: 0.0146\n",
            "Epoch 6/80\n",
            "3/3 [==============================] - 0s 9ms/step - loss: 0.0216 - val_loss: 0.0630\n",
            "Epoch 7/80\n",
            "3/3 [==============================] - 0s 8ms/step - loss: 0.0754 - val_loss: 0.0316\n",
            "Epoch 8/80\n",
            "3/3 [==============================] - 0s 9ms/step - loss: 0.0228 - val_loss: 0.0399\n",
            "Epoch 9/80\n",
            "3/3 [==============================] - 0s 8ms/step - loss: 0.0445 - val_loss: 0.0698\n",
            "Epoch 10/80\n",
            "3/3 [==============================] - 0s 8ms/step - loss: 0.0375 - val_loss: 0.0177\n",
            "Epoch 11/80\n",
            "3/3 [==============================] - 0s 8ms/step - loss: 0.0188 - val_loss: 0.0273\n",
            "Epoch 12/80\n",
            "3/3 [==============================] - 0s 8ms/step - loss: 0.0250 - val_loss: 0.0091\n",
            "Epoch 13/80\n",
            "3/3 [==============================] - 0s 9ms/step - loss: 0.0067 - val_loss: 0.0059\n",
            "Epoch 14/80\n",
            "3/3 [==============================] - 0s 8ms/step - loss: 0.0097 - val_loss: 0.0030\n",
            "Epoch 15/80\n",
            "3/3 [==============================] - 0s 9ms/step - loss: 0.0018 - val_loss: 0.0019\n",
            "Epoch 16/80\n",
            "3/3 [==============================] - 0s 8ms/step - loss: 0.0043 - val_loss: 0.0031\n",
            "Epoch 17/80\n",
            "3/3 [==============================] - 0s 8ms/step - loss: 0.0025 - val_loss: 0.0021\n",
            "Epoch 18/80\n",
            "3/3 [==============================] - 0s 8ms/step - loss: 0.0032 - val_loss: 0.0034\n",
            "Epoch 19/80\n",
            "3/3 [==============================] - 0s 8ms/step - loss: 0.0022 - val_loss: 0.0010\n",
            "Epoch 20/80\n",
            "3/3 [==============================] - 0s 7ms/step - loss: 0.0015 - val_loss: 0.0019\n",
            "Epoch 21/80\n",
            "3/3 [==============================] - 0s 8ms/step - loss: 9.5075e-04 - val_loss: 3.0139e-04\n",
            "Epoch 22/80\n",
            "3/3 [==============================] - 0s 8ms/step - loss: 5.6837e-04 - val_loss: 4.5699e-04\n",
            "Epoch 23/80\n",
            "3/3 [==============================] - 0s 8ms/step - loss: 3.5775e-04 - val_loss: 6.6434e-05\n",
            "Epoch 24/80\n",
            "3/3 [==============================] - 0s 8ms/step - loss: 2.9789e-04 - val_loss: 3.5490e-04\n",
            "Epoch 25/80\n",
            "3/3 [==============================] - 0s 9ms/step - loss: 2.9234e-04 - val_loss: 2.9134e-04\n",
            "Epoch 26/80\n",
            "3/3 [==============================] - 0s 8ms/step - loss: 2.7157e-04 - val_loss: 3.1994e-04\n",
            "Epoch 27/80\n",
            "3/3 [==============================] - 0s 8ms/step - loss: 1.6450e-04 - val_loss: 9.1527e-05\n",
            "Epoch 28/80\n",
            "3/3 [==============================] - 0s 7ms/step - loss: 1.4197e-04 - val_loss: 1.0805e-04\n",
            "Epoch 29/80\n",
            "3/3 [==============================] - 0s 7ms/step - loss: 4.7854e-05 - val_loss: 3.6076e-05\n",
            "Epoch 30/80\n",
            "3/3 [==============================] - 0s 8ms/step - loss: 7.7322e-05 - val_loss: 2.7456e-05\n",
            "Epoch 31/80\n",
            "3/3 [==============================] - 0s 10ms/step - loss: 2.0164e-05 - val_loss: 4.5192e-05\n",
            "Epoch 32/80\n",
            "3/3 [==============================] - 0s 8ms/step - loss: 6.7564e-05 - val_loss: 1.7910e-05\n",
            "Epoch 33/80\n",
            "3/3 [==============================] - 0s 8ms/step - loss: 2.4411e-05 - val_loss: 5.3183e-05\n",
            "Epoch 34/80\n",
            "3/3 [==============================] - 0s 9ms/step - loss: 3.8878e-05 - val_loss: 7.2313e-06\n",
            "Epoch 35/80\n",
            "3/3 [==============================] - 0s 11ms/step - loss: 1.5328e-05 - val_loss: 3.2117e-05\n",
            "Epoch 36/80\n",
            "3/3 [==============================] - 0s 9ms/step - loss: 1.3926e-05 - val_loss: 1.2631e-06\n",
            "Epoch 37/80\n",
            "3/3 [==============================] - 0s 8ms/step - loss: 9.3916e-06 - val_loss: 1.0107e-05\n",
            "Epoch 38/80\n",
            "3/3 [==============================] - 0s 7ms/step - loss: 6.0014e-06 - val_loss: 6.3610e-06\n",
            "Epoch 39/80\n",
            "3/3 [==============================] - 0s 8ms/step - loss: 8.7664e-06 - val_loss: 3.3408e-06\n",
            "Epoch 40/80\n",
            "3/3 [==============================] - 0s 8ms/step - loss: 2.4918e-06 - val_loss: 5.0008e-06\n",
            "Epoch 41/80\n",
            "3/3 [==============================] - 0s 9ms/step - loss: 3.3430e-06 - val_loss: 4.0570e-07\n",
            "Epoch 42/80\n",
            "3/3 [==============================] - 0s 8ms/step - loss: 1.2660e-06 - val_loss: 2.0818e-06\n",
            "Epoch 43/80\n",
            "3/3 [==============================] - 0s 9ms/step - loss: 8.0437e-07 - val_loss: 5.3800e-07\n",
            "Epoch 44/80\n",
            "3/3 [==============================] - 0s 8ms/step - loss: 1.1167e-06 - val_loss: 5.6875e-07\n",
            "Epoch 45/80\n",
            "3/3 [==============================] - 0s 8ms/step - loss: 5.6579e-07 - val_loss: 8.0567e-07\n",
            "Epoch 46/80\n",
            "3/3 [==============================] - 0s 8ms/step - loss: 7.8057e-07 - val_loss: 2.5172e-07\n",
            "Epoch 47/80\n",
            "3/3 [==============================] - 0s 9ms/step - loss: 4.5916e-07 - val_loss: 2.0197e-07\n",
            "Epoch 48/80\n",
            "3/3 [==============================] - 0s 9ms/step - loss: 1.4899e-07 - val_loss: 3.6528e-07\n",
            "Epoch 49/80\n",
            "3/3 [==============================] - 0s 10ms/step - loss: 2.5142e-07 - val_loss: 2.6642e-08\n",
            "Epoch 50/80\n",
            "3/3 [==============================] - 0s 9ms/step - loss: 1.2942e-07 - val_loss: 2.3699e-07\n",
            "Epoch 51/80\n",
            "3/3 [==============================] - 0s 8ms/step - loss: 1.3099e-07 - val_loss: 1.2587e-07\n",
            "Epoch 52/80\n",
            "3/3 [==============================] - 0s 9ms/step - loss: 1.5193e-07 - val_loss: 4.4059e-08\n",
            "Epoch 53/80\n",
            "3/3 [==============================] - 0s 8ms/step - loss: 4.1084e-08 - val_loss: 5.4947e-08\n",
            "Epoch 54/80\n",
            "3/3 [==============================] - 0s 8ms/step - loss: 3.6981e-08 - val_loss: 2.8689e-08\n",
            "Epoch 55/80\n",
            "3/3 [==============================] - 0s 8ms/step - loss: 3.5002e-08 - val_loss: 1.4600e-08\n",
            "Epoch 56/80\n",
            "3/3 [==============================] - 0s 8ms/step - loss: 1.3157e-08 - val_loss: 3.3658e-08\n",
            "Epoch 57/80\n",
            "3/3 [==============================] - 0s 8ms/step - loss: 2.5387e-08 - val_loss: 1.0718e-08\n",
            "Epoch 58/80\n",
            "3/3 [==============================] - 0s 8ms/step - loss: 1.9547e-08 - val_loss: 7.1825e-09\n",
            "Epoch 59/80\n",
            "3/3 [==============================] - 0s 8ms/step - loss: 6.9135e-09 - val_loss: 9.9347e-09\n",
            "Epoch 60/80\n",
            "3/3 [==============================] - 0s 8ms/step - loss: 7.5872e-09 - val_loss: 3.1827e-09\n",
            "Epoch 61/80\n",
            "3/3 [==============================] - 0s 8ms/step - loss: 6.8176e-09 - val_loss: 3.5512e-09\n",
            "Epoch 62/80\n",
            "3/3 [==============================] - 0s 10ms/step - loss: 4.0829e-09 - val_loss: 8.3863e-09\n",
            "Epoch 63/80\n",
            "3/3 [==============================] - 0s 8ms/step - loss: 4.7466e-09 - val_loss: 1.8548e-09\n",
            "Epoch 64/80\n",
            "3/3 [==============================] - 0s 9ms/step - loss: 3.2822e-09 - val_loss: 1.8541e-09\n",
            "Epoch 65/80\n",
            "3/3 [==============================] - 0s 7ms/step - loss: 1.1396e-09 - val_loss: 1.9733e-09\n",
            "Epoch 66/80\n",
            "3/3 [==============================] - 0s 8ms/step - loss: 1.7012e-09 - val_loss: 4.7677e-10\n",
            "Epoch 67/80\n",
            "3/3 [==============================] - 0s 10ms/step - loss: 1.2225e-09 - val_loss: 6.8963e-10\n",
            "Epoch 68/80\n",
            "3/3 [==============================] - 0s 9ms/step - loss: 7.3692e-10 - val_loss: 1.1556e-09\n",
            "Epoch 69/80\n",
            "3/3 [==============================] - 0s 8ms/step - loss: 7.0244e-10 - val_loss: 2.1633e-10\n",
            "Epoch 70/80\n",
            "3/3 [==============================] - 0s 8ms/step - loss: 3.9405e-10 - val_loss: 1.0844e-10\n",
            "Epoch 71/80\n",
            "3/3 [==============================] - 0s 9ms/step - loss: 1.4629e-10 - val_loss: 2.4458e-10\n",
            "Epoch 72/80\n",
            "3/3 [==============================] - 0s 8ms/step - loss: 1.5704e-10 - val_loss: 1.6885e-10\n",
            "Epoch 73/80\n",
            "3/3 [==============================] - 0s 9ms/step - loss: 2.1538e-10 - val_loss: 9.1269e-11\n",
            "Epoch 74/80\n",
            "3/3 [==============================] - 0s 10ms/step - loss: 1.2952e-10 - val_loss: 1.2085e-10\n",
            "Epoch 75/80\n",
            "3/3 [==============================] - 0s 12ms/step - loss: 6.7239e-11 - val_loss: 1.0718e-10\n",
            "Epoch 76/80\n",
            "3/3 [==============================] - 0s 8ms/step - loss: 7.0846e-11 - val_loss: 1.8611e-11\n",
            "Epoch 77/80\n",
            "3/3 [==============================] - 0s 7ms/step - loss: 5.7320e-11 - val_loss: 2.8062e-11\n",
            "Epoch 78/80\n",
            "3/3 [==============================] - 0s 8ms/step - loss: 4.3061e-11 - val_loss: 5.4347e-11\n",
            "Epoch 79/80\n",
            "3/3 [==============================] - 0s 10ms/step - loss: 3.0003e-11 - val_loss: 3.0530e-11\n",
            "Epoch 80/80\n",
            "3/3 [==============================] - 0s 8ms/step - loss: 2.6785e-11 - val_loss: 1.5340e-12\n"
          ],
          "name": "stdout"
        }
      ]
    },
    {
      "cell_type": "code",
      "metadata": {
        "id": "0vvCTbycdh7L",
        "colab_type": "code",
        "colab": {
          "base_uri": "https://localhost:8080/",
          "height": 282
        },
        "outputId": "b3b325c9-c50f-4efa-bca2-65078d807abd"
      },
      "source": [
        "# Plot loss per iteration\n",
        "import matplotlib.pyplot as plt\n",
        "plt.plot(r.history['loss'], label='loss')\n",
        "plt.plot(r.history['val_loss'], label='val_loss')\n",
        "plt.legend()"
      ],
      "execution_count": 7,
      "outputs": [
        {
          "output_type": "execute_result",
          "data": {
            "text/plain": [
              "<matplotlib.legend.Legend at 0x7fa9c1428710>"
            ]
          },
          "metadata": {
            "tags": []
          },
          "execution_count": 7
        },
        {
          "output_type": "display_data",
          "data": {
            "image/png": "[encoded data removed]",
            "text/plain": [
              "<Figure size 432x288 with 1 Axes>"
            ]
          },
          "metadata": {
            "tags": [],
            "needs_background": "light"
          }
        }
      ]
    },
    {
      "cell_type": "code",
      "metadata": {
        "id": "fVEbfDnzdvSv",
        "colab_type": "code",
        "colab": {}
      },
      "source": [
        "# Forecast future values (use only self-predictions for making future predictions)\n",
        "\n",
        "validation_target = Y[-N//2:]\n",
        "validation_predictions = []\n",
        "\n",
        "# first validation input\n",
        "last_x = X[-N//2] # 1-D array of length T\n",
        "\n",
        "while len(validation_predictions) < len(validation_target):\n",
        "  p = model.predict(last_x.reshape(1, -1))[0,0] # 1x1 array -> scalar\n",
        "  \n",
        "  # update the predictions list\n",
        "  validation_predictions.append(p)\n",
        "  \n",
        "  # make the new input\n",
        "  last_x = np.roll(last_x, -1)\n",
        "  last_x[-1] = p"
      ],
      "execution_count": 8,
      "outputs": []
    },
    {
      "cell_type": "code",
      "metadata": {
        "id": "RuyfNGYKeZIM",
        "colab_type": "code",
        "colab": {
          "base_uri": "https://localhost:8080/",
          "height": 282
        },
        "outputId": "c8902d54-3d2c-4fdb-dcc3-443dea16eec7"
      },
      "source": [
        "plt.plot(validation_target, label='forecast target')\n",
        "plt.plot(validation_predictions, label='forecast prediction')\n",
        "plt.legend()"
      ],
      "execution_count": 9,
      "outputs": [
        {
          "output_type": "execute_result",
          "data": {
            "text/plain": [
              "<matplotlib.legend.Legend at 0x7fa9c017bf98>"
            ]
          },
          "metadata": {
            "tags": []
          },
          "execution_count": 9
        },
        {
          "output_type": "display_data",
          "data": {
            "image/png": "[encoded data removed]",
            "text/plain": [
              "<Figure size 432x288 with 1 Axes>"
            ]
          },
          "metadata": {
            "tags": [],
            "needs_background": "light"
          }
        }
      ]
    },
    {
      "cell_type": "code",
      "metadata": {
        "id": "ZYpvDG_GecvX",
        "colab_type": "code",
        "colab": {}
      },
      "source": [
        ""
      ],
      "execution_count": null,
      "outputs": []
    }
  ]
}